{
 "cells": [
  {
   "cell_type": "markdown",
   "metadata": {},
   "source": [
    "# Basics 1:- Variable declaration.\n",
    "A variable declaration is generally done using the assignment operator (equals to is also called assignment operator).\n",
    "In the example below, x is a variable that is assigned a constant value of 10"
   ]
  },
  {
   "cell_type": "code",
   "execution_count": 1,
   "metadata": {},
   "outputs": [
    {
     "name": "stdout",
     "output_type": "stream",
     "text": [
      "10\n"
     ]
    }
   ],
   "source": [
    "x = 10\n",
    "print(x)"
   ]
  },
  {
   "cell_type": "markdown",
   "metadata": {},
   "source": [
    "# Basics 2 :- Input operations\n",
    "We can ask user to input a value"
   ]
  },
  {
   "cell_type": "code",
   "execution_count": 3,
   "metadata": {},
   "outputs": [
    {
     "name": "stdout",
     "output_type": "stream",
     "text": [
      "Enter the value of x:- 12\n",
      "The value assigned to x by user is  12\n"
     ]
    }
   ],
   "source": [
    "x = input('Enter the value of x:- ')\n",
    "print('The value assigned to x by user is ',x)"
   ]
  },
  {
   "cell_type": "markdown",
   "metadata": {},
   "source": [
    "# Basics 3 :- Binary operations"
   ]
  },
  {
   "cell_type": "code",
   "execution_count": 9,
   "metadata": {},
   "outputs": [
    {
     "name": "stdout",
     "output_type": "stream",
     "text": [
      "Number obtained by adding number1 and number2 will be  160\n",
      "Number obtained by subtracting number 2 from number 1 will be  80\n",
      "Number obtained by multiplying number1 and number2  4800\n",
      "Number obtained by dividing number1 by number2 will be  3.0\n",
      "The remainder obtained on dividing number2 by number 3 will be  5\n",
      "The number obtained on raising 9 to the power of 3 will be  729\n"
     ]
    }
   ],
   "source": [
    "number1 = 120\n",
    "number2 = 40\n",
    "number3 = 7\n",
    "\n",
    "print('Number obtained by adding number1 and number2 will be ',number1+number2)\n",
    "print('Number obtained by subtracting number 2 from number 1 will be ',number1-number2)\n",
    "print('Number obtained by multiplying number1 and number2 ',number2*number1)\n",
    "print('Number obtained by dividing number1 by number2 will be ',number1/number2)\n",
    "print('The remainder obtained on dividing number2 by number 3 will be ',number2%number3)\n",
    "print('The number obtained on raising 9 to the power of 3 will be ',9**3)"
   ]
  },
  {
   "cell_type": "code",
   "execution_count": null,
   "metadata": {},
   "outputs": [],
   "source": []
  }
 ],
 "metadata": {
  "kernelspec": {
   "display_name": "Python 3",
   "language": "python",
   "name": "python3"
  },
  "language_info": {
   "codemirror_mode": {
    "name": "ipython",
    "version": 3
   },
   "file_extension": ".py",
   "mimetype": "text/x-python",
   "name": "python",
   "nbconvert_exporter": "python",
   "pygments_lexer": "ipython3",
   "version": "3.7.3"
  }
 },
 "nbformat": 4,
 "nbformat_minor": 2
}
