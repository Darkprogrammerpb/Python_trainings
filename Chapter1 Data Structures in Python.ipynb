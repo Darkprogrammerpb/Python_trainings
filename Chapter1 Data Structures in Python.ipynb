{
 "cells": [
  {
   "cell_type": "markdown",
   "metadata": {},
   "source": [
    "# We will talk about the 3 main data types used in our daily programming routine in python:- \n",
    "* Strings\n",
    "* Integers\n",
    "* Float "
   ]
  },
  {
   "cell_type": "markdown",
   "metadata": {},
   "source": [
    "<div class=\"alert alert-block alert-info\">\n",
    "<b>Strings:</b> The strings are sequences of character datatypes used in Python. They are usually written within quotes or double quotes.\n",
    "</div>"
   ]
  },
  {
   "cell_type": "code",
   "execution_count": 7,
   "metadata": {},
   "outputs": [
    {
     "name": "stdout",
     "output_type": "stream",
     "text": [
      "This is a generic string statement used in python.\n"
     ]
    }
   ],
   "source": [
    "a = 'This is a generic string statement used in python.'\n",
    "print(a)"
   ]
  },
  {
   "cell_type": "markdown",
   "metadata": {},
   "source": [
    "<div class=\"alert alert-block alert-info\">\n",
    "<b>Float:</b> The float datatype is identified by a decimal notation used in the representation of numbers. The numbers are Real Numbers, integers and fractions depending upon the representation. The way the floating point numbers are shown is below\n",
    "</div>"
   ]
  },
  {
   "cell_type": "code",
   "execution_count": 9,
   "metadata": {},
   "outputs": [
    {
     "name": "stdout",
     "output_type": "stream",
     "text": [
      "This is an example of a floating point number 45.6778\n"
     ]
    }
   ],
   "source": [
    "b = 45.6778\n",
    "print('This is an example of a floating point number',b)"
   ]
  },
  {
   "cell_type": "markdown",
   "metadata": {},
   "source": [
    "<div class=\"alert alert-block alert-info\">\n",
    "<b>Integer:</b> The integer representation is used for all numbers which can be represented without a decimal.\n",
    "</div>"
   ]
  },
  {
   "cell_type": "code",
   "execution_count": 10,
   "metadata": {},
   "outputs": [
    {
     "name": "stdout",
     "output_type": "stream",
     "text": [
      "This is an example of an integer number:-  19\n"
     ]
    }
   ],
   "source": [
    "c = 19\n",
    "print('This is an example of an integer number:- ',c)"
   ]
  },
  {
   "cell_type": "markdown",
   "metadata": {},
   "source": [
    "<div class=\"alert alert-block alert-info\">\n",
    "<b>Typecasting:</b> Changing the datatype of an object in python is called Typecasting. For example, changing float to integer or changing integer to float and so on.\n",
    "</div>\n",
    "We consider these 3 datatypes and demonstrate the typecasting on them"
   ]
  },
  {
   "cell_type": "code",
   "execution_count": 16,
   "metadata": {},
   "outputs": [
    {
     "name": "stdout",
     "output_type": "stream",
     "text": [
      "Converting a float to integer:-   14\n",
      "Converting an integer to float:-  12.0\n",
      "Converting an integer to string:- 12\n"
     ]
    }
   ],
   "source": [
    "strings  = 'a string'\n",
    "integers = 12\n",
    "floats   = 14.567\n",
    "\n",
    "print('Converting a float to integer:-  ',int(floats))\n",
    "print('Converting an integer to float:- ',float(integers))\n",
    "print('Converting an integer to string:-',str(integers))"
   ]
  },
  {
   "cell_type": "markdown",
   "metadata": {},
   "source": [
    "<div class=\"alert alert-block alert-info\">\n",
    "<b>Exercise One:</b> Take a string '12' and add 15 to it.\n",
    "</div>"
   ]
  },
  {
   "cell_type": "code",
   "execution_count": 17,
   "metadata": {},
   "outputs": [
    {
     "name": "stdout",
     "output_type": "stream",
     "text": [
      "The solution on typecasting a string '12' to integer and adding 15 to it is:  27\n"
     ]
    }
   ],
   "source": [
    "# Solution to exercise one\n",
    "a = '12'\n",
    "solution = int(a)+15\n",
    "print('The solution on typecasting a string \\'12\\' to integer and adding 15 to it is: ',solution)"
   ]
  },
  {
   "cell_type": "markdown",
   "metadata": {},
   "source": [
    "<div class=\"alert alert-block alert-info\">\n",
    "<b>Exercise Two:</b> Add two floating point numbers (12.909 and 15.607) and round them to an integer value.\n",
    "</div>"
   ]
  },
  {
   "cell_type": "code",
   "execution_count": 20,
   "metadata": {},
   "outputs": [
    {
     "name": "stdout",
     "output_type": "stream",
     "text": [
      "The necessary solution(without rounding) was:-  28.516\n",
      "The necessary solution(after rounding) is   :-  28\n"
     ]
    }
   ],
   "source": [
    "print('The necessary solution(without rounding) was:- ',(12.909+15.607))\n",
    "print('The necessary solution(after rounding) is   :- ',int(12.909+15.607))"
   ]
  },
  {
   "cell_type": "markdown",
   "metadata": {},
   "source": [
    "<div class=\"alert alert-block alert-info\">\n",
    "<b>A Short review about Boolean types:</b> Boolean type is either True of False. It is commonly used in ascertaining the validity of a particular expression. For example, we know 3 is less than 5 and the outcome of it must be True. A sample demonstration is given below\n",
    "</div>"
   ]
  },
  {
   "cell_type": "code",
   "execution_count": 26,
   "metadata": {},
   "outputs": [
    {
     "name": "stdout",
     "output_type": "stream",
     "text": [
      "Sample demonstration of TRUE boolean type\n",
      "3<5 is True and the datatype of the result is of type <class 'bool'>\n",
      "\n",
      "\n",
      "Sample demonstration of False boolean type\n",
      "14<5 is False and the datatype of the result is of type <class 'bool'>\n"
     ]
    }
   ],
   "source": [
    "print('Sample demonstration of TRUE boolean type')\n",
    "print('3<5 is',3<5,'and the datatype of the result is of type', type(3<5))\n",
    "\n",
    "print('\\n')\n",
    "print('Sample demonstration of False boolean type')\n",
    "print('14<5 is',14<5,'and the datatype of the result is of type', type(3<5))"
   ]
  },
  {
   "cell_type": "markdown",
   "metadata": {},
   "source": [
    "#### The Boolean datatype is mainly used in if-else conditions while checking multiple conditions at the same time"
   ]
  },
  {
   "cell_type": "code",
   "execution_count": null,
   "metadata": {},
   "outputs": [],
   "source": []
  }
 ],
 "metadata": {
  "kernelspec": {
   "display_name": "Python 3",
   "language": "python",
   "name": "python3"
  },
  "language_info": {
   "codemirror_mode": {
    "name": "ipython",
    "version": 3
   },
   "file_extension": ".py",
   "mimetype": "text/x-python",
   "name": "python",
   "nbconvert_exporter": "python",
   "pygments_lexer": "ipython3",
   "version": "3.7.3"
  }
 },
 "nbformat": 4,
 "nbformat_minor": 2
}
