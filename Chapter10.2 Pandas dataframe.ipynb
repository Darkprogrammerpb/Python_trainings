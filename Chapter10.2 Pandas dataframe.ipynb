{
 "cells": [
  {
   "cell_type": "code",
   "execution_count": 1,
   "metadata": {},
   "outputs": [
    {
     "data": {
      "text/html": [
       "<div>\n",
       "<style scoped>\n",
       "    .dataframe tbody tr th:only-of-type {\n",
       "        vertical-align: middle;\n",
       "    }\n",
       "\n",
       "    .dataframe tbody tr th {\n",
       "        vertical-align: top;\n",
       "    }\n",
       "\n",
       "    .dataframe thead th {\n",
       "        text-align: right;\n",
       "    }\n",
       "</style>\n",
       "<table border=\"1\" class=\"dataframe\">\n",
       "  <thead>\n",
       "    <tr style=\"text-align: right;\">\n",
       "      <th></th>\n",
       "      <th>Loan_ID</th>\n",
       "      <th>Gender</th>\n",
       "      <th>Married</th>\n",
       "      <th>Dependents</th>\n",
       "      <th>Education</th>\n",
       "      <th>Self_Employed</th>\n",
       "      <th>ApplicantIncome</th>\n",
       "      <th>CoapplicantIncome</th>\n",
       "      <th>LoanAmount</th>\n",
       "      <th>Loan_Amount_Term</th>\n",
       "      <th>Credit_History</th>\n",
       "      <th>Property_Area</th>\n",
       "      <th>Loan_Status</th>\n",
       "    </tr>\n",
       "  </thead>\n",
       "  <tbody>\n",
       "    <tr>\n",
       "      <th>0</th>\n",
       "      <td>LP001002</td>\n",
       "      <td>Male</td>\n",
       "      <td>No</td>\n",
       "      <td>0</td>\n",
       "      <td>Graduate</td>\n",
       "      <td>No</td>\n",
       "      <td>5849</td>\n",
       "      <td>0.0</td>\n",
       "      <td>NaN</td>\n",
       "      <td>360.0</td>\n",
       "      <td>1.0</td>\n",
       "      <td>Urban</td>\n",
       "      <td>Y</td>\n",
       "    </tr>\n",
       "    <tr>\n",
       "      <th>1</th>\n",
       "      <td>LP001003</td>\n",
       "      <td>Male</td>\n",
       "      <td>Yes</td>\n",
       "      <td>1</td>\n",
       "      <td>Graduate</td>\n",
       "      <td>No</td>\n",
       "      <td>4583</td>\n",
       "      <td>1508.0</td>\n",
       "      <td>128.0</td>\n",
       "      <td>360.0</td>\n",
       "      <td>1.0</td>\n",
       "      <td>Rural</td>\n",
       "      <td>N</td>\n",
       "    </tr>\n",
       "    <tr>\n",
       "      <th>2</th>\n",
       "      <td>LP001005</td>\n",
       "      <td>Male</td>\n",
       "      <td>Yes</td>\n",
       "      <td>0</td>\n",
       "      <td>Graduate</td>\n",
       "      <td>Yes</td>\n",
       "      <td>3000</td>\n",
       "      <td>0.0</td>\n",
       "      <td>66.0</td>\n",
       "      <td>360.0</td>\n",
       "      <td>1.0</td>\n",
       "      <td>Urban</td>\n",
       "      <td>Y</td>\n",
       "    </tr>\n",
       "  </tbody>\n",
       "</table>\n",
       "</div>"
      ],
      "text/plain": [
       "    Loan_ID Gender Married Dependents Education Self_Employed  \\\n",
       "0  LP001002   Male      No          0  Graduate            No   \n",
       "1  LP001003   Male     Yes          1  Graduate            No   \n",
       "2  LP001005   Male     Yes          0  Graduate           Yes   \n",
       "\n",
       "   ApplicantIncome  CoapplicantIncome  LoanAmount  Loan_Amount_Term  \\\n",
       "0             5849                0.0         NaN             360.0   \n",
       "1             4583             1508.0       128.0             360.0   \n",
       "2             3000                0.0        66.0             360.0   \n",
       "\n",
       "   Credit_History Property_Area Loan_Status  \n",
       "0             1.0         Urban           Y  \n",
       "1             1.0         Rural           N  \n",
       "2             1.0         Urban           Y  "
      ]
     },
     "execution_count": 1,
     "metadata": {},
     "output_type": "execute_result"
    }
   ],
   "source": [
    "import pandas as pd\n",
    "df = pd.read_csv('sample_data.csv')\n",
    "df.head(3)"
   ]
  },
  {
   "cell_type": "markdown",
   "metadata": {},
   "source": [
    "### We will work with some indexing operations over here \n",
    "### 1. Accessing the index of a dataframe"
   ]
  },
  {
   "cell_type": "code",
   "execution_count": 2,
   "metadata": {},
   "outputs": [
    {
     "name": "stdout",
     "output_type": "stream",
     "text": [
      "The dataframe indices can be attained in the following way\n"
     ]
    },
    {
     "data": {
      "text/plain": [
       "RangeIndex(start=0, stop=614, step=1)"
      ]
     },
     "execution_count": 2,
     "metadata": {},
     "output_type": "execute_result"
    }
   ],
   "source": [
    "print('The dataframe indices can be attained in the following way')\n",
    "df.index"
   ]
  },
  {
   "cell_type": "markdown",
   "metadata": {},
   "source": [
    "### 2. Changing the index of the dataframe"
   ]
  },
  {
   "cell_type": "code",
   "execution_count": 3,
   "metadata": {},
   "outputs": [
    {
     "name": "stdout",
     "output_type": "stream",
     "text": [
      "Suppose we want to change the index of our given dataframe to Loan_ID\n",
      "The argument inplace =True will make changed permanent\n",
      "The modified dataframe becomes \n"
     ]
    },
    {
     "data": {
      "text/html": [
       "<div>\n",
       "<style scoped>\n",
       "    .dataframe tbody tr th:only-of-type {\n",
       "        vertical-align: middle;\n",
       "    }\n",
       "\n",
       "    .dataframe tbody tr th {\n",
       "        vertical-align: top;\n",
       "    }\n",
       "\n",
       "    .dataframe thead th {\n",
       "        text-align: right;\n",
       "    }\n",
       "</style>\n",
       "<table border=\"1\" class=\"dataframe\">\n",
       "  <thead>\n",
       "    <tr style=\"text-align: right;\">\n",
       "      <th></th>\n",
       "      <th>Gender</th>\n",
       "      <th>Married</th>\n",
       "      <th>Dependents</th>\n",
       "      <th>Education</th>\n",
       "      <th>Self_Employed</th>\n",
       "      <th>ApplicantIncome</th>\n",
       "      <th>CoapplicantIncome</th>\n",
       "      <th>LoanAmount</th>\n",
       "      <th>Loan_Amount_Term</th>\n",
       "      <th>Credit_History</th>\n",
       "      <th>Property_Area</th>\n",
       "      <th>Loan_Status</th>\n",
       "    </tr>\n",
       "    <tr>\n",
       "      <th>Loan_ID</th>\n",
       "      <th></th>\n",
       "      <th></th>\n",
       "      <th></th>\n",
       "      <th></th>\n",
       "      <th></th>\n",
       "      <th></th>\n",
       "      <th></th>\n",
       "      <th></th>\n",
       "      <th></th>\n",
       "      <th></th>\n",
       "      <th></th>\n",
       "      <th></th>\n",
       "    </tr>\n",
       "  </thead>\n",
       "  <tbody>\n",
       "    <tr>\n",
       "      <th>LP001002</th>\n",
       "      <td>Male</td>\n",
       "      <td>No</td>\n",
       "      <td>0</td>\n",
       "      <td>Graduate</td>\n",
       "      <td>No</td>\n",
       "      <td>5849</td>\n",
       "      <td>0.0</td>\n",
       "      <td>NaN</td>\n",
       "      <td>360.0</td>\n",
       "      <td>1.0</td>\n",
       "      <td>Urban</td>\n",
       "      <td>Y</td>\n",
       "    </tr>\n",
       "    <tr>\n",
       "      <th>LP001003</th>\n",
       "      <td>Male</td>\n",
       "      <td>Yes</td>\n",
       "      <td>1</td>\n",
       "      <td>Graduate</td>\n",
       "      <td>No</td>\n",
       "      <td>4583</td>\n",
       "      <td>1508.0</td>\n",
       "      <td>128.0</td>\n",
       "      <td>360.0</td>\n",
       "      <td>1.0</td>\n",
       "      <td>Rural</td>\n",
       "      <td>N</td>\n",
       "    </tr>\n",
       "    <tr>\n",
       "      <th>LP001005</th>\n",
       "      <td>Male</td>\n",
       "      <td>Yes</td>\n",
       "      <td>0</td>\n",
       "      <td>Graduate</td>\n",
       "      <td>Yes</td>\n",
       "      <td>3000</td>\n",
       "      <td>0.0</td>\n",
       "      <td>66.0</td>\n",
       "      <td>360.0</td>\n",
       "      <td>1.0</td>\n",
       "      <td>Urban</td>\n",
       "      <td>Y</td>\n",
       "    </tr>\n",
       "  </tbody>\n",
       "</table>\n",
       "</div>"
      ],
      "text/plain": [
       "         Gender Married Dependents Education Self_Employed  ApplicantIncome  \\\n",
       "Loan_ID                                                                       \n",
       "LP001002   Male      No          0  Graduate            No             5849   \n",
       "LP001003   Male     Yes          1  Graduate            No             4583   \n",
       "LP001005   Male     Yes          0  Graduate           Yes             3000   \n",
       "\n",
       "          CoapplicantIncome  LoanAmount  Loan_Amount_Term  Credit_History  \\\n",
       "Loan_ID                                                                     \n",
       "LP001002                0.0         NaN             360.0             1.0   \n",
       "LP001003             1508.0       128.0             360.0             1.0   \n",
       "LP001005                0.0        66.0             360.0             1.0   \n",
       "\n",
       "         Property_Area Loan_Status  \n",
       "Loan_ID                             \n",
       "LP001002         Urban           Y  \n",
       "LP001003         Rural           N  \n",
       "LP001005         Urban           Y  "
      ]
     },
     "execution_count": 3,
     "metadata": {},
     "output_type": "execute_result"
    }
   ],
   "source": [
    "print('Suppose we want to change the index of our given dataframe to Loan_ID')\n",
    "print('The argument inplace =True will make changed permanent')\n",
    "df.set_index('Loan_ID',inplace=True)  \n",
    "print('The modified dataframe becomes ')\n",
    "df.head(3)"
   ]
  },
  {
   "cell_type": "markdown",
   "metadata": {},
   "source": [
    "### 3. Undoing the change of index"
   ]
  },
  {
   "cell_type": "code",
   "execution_count": 4,
   "metadata": {},
   "outputs": [
    {
     "name": "stdout",
     "output_type": "stream",
     "text": [
      "We can undo the index change in the following way:- \n"
     ]
    },
    {
     "data": {
      "text/html": [
       "<div>\n",
       "<style scoped>\n",
       "    .dataframe tbody tr th:only-of-type {\n",
       "        vertical-align: middle;\n",
       "    }\n",
       "\n",
       "    .dataframe tbody tr th {\n",
       "        vertical-align: top;\n",
       "    }\n",
       "\n",
       "    .dataframe thead th {\n",
       "        text-align: right;\n",
       "    }\n",
       "</style>\n",
       "<table border=\"1\" class=\"dataframe\">\n",
       "  <thead>\n",
       "    <tr style=\"text-align: right;\">\n",
       "      <th></th>\n",
       "      <th>Loan_ID</th>\n",
       "      <th>Gender</th>\n",
       "      <th>Married</th>\n",
       "      <th>Dependents</th>\n",
       "      <th>Education</th>\n",
       "      <th>Self_Employed</th>\n",
       "      <th>ApplicantIncome</th>\n",
       "      <th>CoapplicantIncome</th>\n",
       "      <th>LoanAmount</th>\n",
       "      <th>Loan_Amount_Term</th>\n",
       "      <th>Credit_History</th>\n",
       "      <th>Property_Area</th>\n",
       "      <th>Loan_Status</th>\n",
       "    </tr>\n",
       "  </thead>\n",
       "  <tbody>\n",
       "    <tr>\n",
       "      <th>0</th>\n",
       "      <td>LP001002</td>\n",
       "      <td>Male</td>\n",
       "      <td>No</td>\n",
       "      <td>0</td>\n",
       "      <td>Graduate</td>\n",
       "      <td>No</td>\n",
       "      <td>5849</td>\n",
       "      <td>0.0</td>\n",
       "      <td>NaN</td>\n",
       "      <td>360.0</td>\n",
       "      <td>1.0</td>\n",
       "      <td>Urban</td>\n",
       "      <td>Y</td>\n",
       "    </tr>\n",
       "    <tr>\n",
       "      <th>1</th>\n",
       "      <td>LP001003</td>\n",
       "      <td>Male</td>\n",
       "      <td>Yes</td>\n",
       "      <td>1</td>\n",
       "      <td>Graduate</td>\n",
       "      <td>No</td>\n",
       "      <td>4583</td>\n",
       "      <td>1508.0</td>\n",
       "      <td>128.0</td>\n",
       "      <td>360.0</td>\n",
       "      <td>1.0</td>\n",
       "      <td>Rural</td>\n",
       "      <td>N</td>\n",
       "    </tr>\n",
       "    <tr>\n",
       "      <th>2</th>\n",
       "      <td>LP001005</td>\n",
       "      <td>Male</td>\n",
       "      <td>Yes</td>\n",
       "      <td>0</td>\n",
       "      <td>Graduate</td>\n",
       "      <td>Yes</td>\n",
       "      <td>3000</td>\n",
       "      <td>0.0</td>\n",
       "      <td>66.0</td>\n",
       "      <td>360.0</td>\n",
       "      <td>1.0</td>\n",
       "      <td>Urban</td>\n",
       "      <td>Y</td>\n",
       "    </tr>\n",
       "  </tbody>\n",
       "</table>\n",
       "</div>"
      ],
      "text/plain": [
       "    Loan_ID Gender Married Dependents Education Self_Employed  \\\n",
       "0  LP001002   Male      No          0  Graduate            No   \n",
       "1  LP001003   Male     Yes          1  Graduate            No   \n",
       "2  LP001005   Male     Yes          0  Graduate           Yes   \n",
       "\n",
       "   ApplicantIncome  CoapplicantIncome  LoanAmount  Loan_Amount_Term  \\\n",
       "0             5849                0.0         NaN             360.0   \n",
       "1             4583             1508.0       128.0             360.0   \n",
       "2             3000                0.0        66.0             360.0   \n",
       "\n",
       "   Credit_History Property_Area Loan_Status  \n",
       "0             1.0         Urban           Y  \n",
       "1             1.0         Rural           N  \n",
       "2             1.0         Urban           Y  "
      ]
     },
     "execution_count": 4,
     "metadata": {},
     "output_type": "execute_result"
    }
   ],
   "source": [
    "print('We can undo the index change in the following way:- ')\n",
    "df.reset_index(inplace=True)\n",
    "df.head(3)"
   ]
  },
  {
   "cell_type": "markdown",
   "metadata": {},
   "source": [
    "### 4. Accessing the columns of dataframe"
   ]
  },
  {
   "cell_type": "code",
   "execution_count": 5,
   "metadata": {},
   "outputs": [
    {
     "name": "stdout",
     "output_type": "stream",
     "text": [
      "We can access the values pertaining to a particular column in the following way \n"
     ]
    },
    {
     "data": {
      "text/plain": [
       "0      LP001002\n",
       "1      LP001003\n",
       "2      LP001005\n",
       "3      LP001006\n",
       "4      LP001008\n",
       "5      LP001011\n",
       "6      LP001013\n",
       "7      LP001014\n",
       "8      LP001018\n",
       "9      LP001020\n",
       "10     LP001024\n",
       "11     LP001027\n",
       "12     LP001028\n",
       "13     LP001029\n",
       "14     LP001030\n",
       "15     LP001032\n",
       "16     LP001034\n",
       "17     LP001036\n",
       "18     LP001038\n",
       "19     LP001041\n",
       "20     LP001043\n",
       "21     LP001046\n",
       "22     LP001047\n",
       "23     LP001050\n",
       "24     LP001052\n",
       "25     LP001066\n",
       "26     LP001068\n",
       "27     LP001073\n",
       "28     LP001086\n",
       "29     LP001087\n",
       "         ...   \n",
       "584    LP002911\n",
       "585    LP002912\n",
       "586    LP002916\n",
       "587    LP002917\n",
       "588    LP002925\n",
       "589    LP002926\n",
       "590    LP002928\n",
       "591    LP002931\n",
       "592    LP002933\n",
       "593    LP002936\n",
       "594    LP002938\n",
       "595    LP002940\n",
       "596    LP002941\n",
       "597    LP002943\n",
       "598    LP002945\n",
       "599    LP002948\n",
       "600    LP002949\n",
       "601    LP002950\n",
       "602    LP002953\n",
       "603    LP002958\n",
       "604    LP002959\n",
       "605    LP002960\n",
       "606    LP002961\n",
       "607    LP002964\n",
       "608    LP002974\n",
       "609    LP002978\n",
       "610    LP002979\n",
       "611    LP002983\n",
       "612    LP002984\n",
       "613    LP002990\n",
       "Name: Loan_ID, Length: 614, dtype: object"
      ]
     },
     "execution_count": 5,
     "metadata": {},
     "output_type": "execute_result"
    }
   ],
   "source": [
    "print('We can access the values pertaining to a particular column in the following way ')\n",
    "df['Loan_ID']"
   ]
  },
  {
   "cell_type": "code",
   "execution_count": 6,
   "metadata": {},
   "outputs": [
    {
     "name": "stdout",
     "output_type": "stream",
     "text": [
      "The dataframe we got above is actually another datatype called as Series.\n",
      "Every pandas dataframe is a combination of series, where every column is a series\n",
      "We can however get the columns of the dataframe on form of a list as well \n",
      "The list of values in the column Loan_ID is:-  ['LP001002', 'LP001003', 'LP001005', 'LP001006', 'LP001008', 'LP001011', 'LP001013', 'LP001014', 'LP001018', 'LP001020', 'LP001024', 'LP001027', 'LP001028', 'LP001029', 'LP001030', 'LP001032', 'LP001034', 'LP001036', 'LP001038', 'LP001041', 'LP001043', 'LP001046', 'LP001047', 'LP001050', 'LP001052', 'LP001066', 'LP001068', 'LP001073', 'LP001086', 'LP001087', 'LP001091', 'LP001095', 'LP001097', 'LP001098', 'LP001100', 'LP001106', 'LP001109', 'LP001112', 'LP001114', 'LP001116', 'LP001119', 'LP001120', 'LP001123', 'LP001131', 'LP001136', 'LP001137', 'LP001138', 'LP001144', 'LP001146', 'LP001151', 'LP001155', 'LP001157', 'LP001164', 'LP001179', 'LP001186', 'LP001194', 'LP001195', 'LP001197', 'LP001198', 'LP001199', 'LP001205', 'LP001206', 'LP001207', 'LP001213', 'LP001222', 'LP001225', 'LP001228', 'LP001233', 'LP001238', 'LP001241', 'LP001243', 'LP001245', 'LP001248', 'LP001250', 'LP001253', 'LP001255', 'LP001256', 'LP001259', 'LP001263', 'LP001264', 'LP001265', 'LP001266', 'LP001267', 'LP001273', 'LP001275', 'LP001279', 'LP001280', 'LP001282', 'LP001289', 'LP001310', 'LP001316', 'LP001318', 'LP001319', 'LP001322', 'LP001325', 'LP001326', 'LP001327', 'LP001333', 'LP001334', 'LP001343', 'LP001345', 'LP001349', 'LP001350', 'LP001356', 'LP001357', 'LP001367', 'LP001369', 'LP001370', 'LP001379', 'LP001384', 'LP001385', 'LP001387', 'LP001391', 'LP001392', 'LP001398', 'LP001401', 'LP001404', 'LP001405', 'LP001421', 'LP001422', 'LP001426', 'LP001430', 'LP001431', 'LP001432', 'LP001439', 'LP001443', 'LP001448', 'LP001449', 'LP001451', 'LP001465', 'LP001469', 'LP001473', 'LP001478', 'LP001482', 'LP001487', 'LP001488', 'LP001489', 'LP001491', 'LP001492', 'LP001493', 'LP001497', 'LP001498', 'LP001504', 'LP001507', 'LP001508', 'LP001514', 'LP001516', 'LP001518', 'LP001519', 'LP001520', 'LP001528', 'LP001529', 'LP001531', 'LP001532', 'LP001535', 'LP001536', 'LP001541', 'LP001543', 'LP001546', 'LP001552', 'LP001560', 'LP001562', 'LP001565', 'LP001570', 'LP001572', 'LP001574', 'LP001577', 'LP001578', 'LP001579', 'LP001580', 'LP001581', 'LP001585', 'LP001586', 'LP001594', 'LP001603', 'LP001606', 'LP001608', 'LP001610', 'LP001616', 'LP001630', 'LP001633', 'LP001634', 'LP001636', 'LP001637', 'LP001639', 'LP001640', 'LP001641', 'LP001643', 'LP001644', 'LP001647', 'LP001653', 'LP001656', 'LP001657', 'LP001658', 'LP001664', 'LP001665', 'LP001666', 'LP001669', 'LP001671', 'LP001673', 'LP001674', 'LP001677', 'LP001682', 'LP001688', 'LP001691', 'LP001692', 'LP001693', 'LP001698', 'LP001699', 'LP001702', 'LP001708', 'LP001711', 'LP001713', 'LP001715', 'LP001716', 'LP001720', 'LP001722', 'LP001726', 'LP001732', 'LP001734', 'LP001736', 'LP001743', 'LP001744', 'LP001749', 'LP001750', 'LP001751', 'LP001754', 'LP001758', 'LP001760', 'LP001761', 'LP001765', 'LP001768', 'LP001770', 'LP001776', 'LP001778', 'LP001784', 'LP001786', 'LP001788', 'LP001790', 'LP001792', 'LP001798', 'LP001800', 'LP001806', 'LP001807', 'LP001811', 'LP001813', 'LP001814', 'LP001819', 'LP001824', 'LP001825', 'LP001835', 'LP001836', 'LP001841', 'LP001843', 'LP001844', 'LP001846', 'LP001849', 'LP001854', 'LP001859', 'LP001864', 'LP001865', 'LP001868', 'LP001870', 'LP001871', 'LP001872', 'LP001875', 'LP001877', 'LP001882', 'LP001883', 'LP001884', 'LP001888', 'LP001891', 'LP001892', 'LP001894', 'LP001896', 'LP001900', 'LP001903', 'LP001904', 'LP001907', 'LP001908', 'LP001910', 'LP001914', 'LP001915', 'LP001917', 'LP001922', 'LP001924', 'LP001925', 'LP001926', 'LP001931', 'LP001935', 'LP001936', 'LP001938', 'LP001940', 'LP001945', 'LP001947', 'LP001949', 'LP001953', 'LP001954', 'LP001955', 'LP001963', 'LP001964', 'LP001972', 'LP001974', 'LP001977', 'LP001978', 'LP001990', 'LP001993', 'LP001994', 'LP001996', 'LP001998', 'LP002002', 'LP002004', 'LP002006', 'LP002008', 'LP002024', 'LP002031', 'LP002035', 'LP002036', 'LP002043', 'LP002050', 'LP002051', 'LP002053', 'LP002054', 'LP002055', 'LP002065', 'LP002067', 'LP002068', 'LP002082', 'LP002086', 'LP002087', 'LP002097', 'LP002098', 'LP002100', 'LP002101', 'LP002103', 'LP002106', 'LP002110', 'LP002112', 'LP002113', 'LP002114', 'LP002115', 'LP002116', 'LP002119', 'LP002126', 'LP002128', 'LP002129', 'LP002130', 'LP002131', 'LP002137', 'LP002138', 'LP002139', 'LP002140', 'LP002141', 'LP002142', 'LP002143', 'LP002144', 'LP002149', 'LP002151', 'LP002158', 'LP002160', 'LP002161', 'LP002170', 'LP002175', 'LP002178', 'LP002180', 'LP002181', 'LP002187', 'LP002188', 'LP002190', 'LP002191', 'LP002194', 'LP002197', 'LP002201', 'LP002205', 'LP002209', 'LP002211', 'LP002219', 'LP002223', 'LP002224', 'LP002225', 'LP002226', 'LP002229', 'LP002231', 'LP002234', 'LP002236', 'LP002237', 'LP002239', 'LP002243', 'LP002244', 'LP002250', 'LP002255', 'LP002262', 'LP002263', 'LP002265', 'LP002266', 'LP002272', 'LP002277', 'LP002281', 'LP002284', 'LP002287', 'LP002288', 'LP002296', 'LP002297', 'LP002300', 'LP002301', 'LP002305', 'LP002308', 'LP002314', 'LP002315', 'LP002317', 'LP002318', 'LP002319', 'LP002328', 'LP002332', 'LP002335', 'LP002337', 'LP002341', 'LP002342', 'LP002345', 'LP002347', 'LP002348', 'LP002357', 'LP002361', 'LP002362', 'LP002364', 'LP002366', 'LP002367', 'LP002368', 'LP002369', 'LP002370', 'LP002377', 'LP002379', 'LP002386', 'LP002387', 'LP002390', 'LP002393', 'LP002398', 'LP002401', 'LP002403', 'LP002407', 'LP002408', 'LP002409', 'LP002418', 'LP002422', 'LP002424', 'LP002429', 'LP002434', 'LP002435', 'LP002443', 'LP002444', 'LP002446', 'LP002447', 'LP002448', 'LP002449', 'LP002453', 'LP002455', 'LP002459', 'LP002467', 'LP002472', 'LP002473', 'LP002478', 'LP002484', 'LP002487', 'LP002489', 'LP002493', 'LP002494', 'LP002500', 'LP002501', 'LP002502', 'LP002505', 'LP002515', 'LP002517', 'LP002519', 'LP002522', 'LP002524', 'LP002527', 'LP002529', 'LP002530', 'LP002531', 'LP002533', 'LP002534', 'LP002536', 'LP002537', 'LP002541', 'LP002543', 'LP002544', 'LP002545', 'LP002547', 'LP002555', 'LP002556', 'LP002560', 'LP002562', 'LP002571', 'LP002582', 'LP002585', 'LP002586', 'LP002587', 'LP002588', 'LP002600', 'LP002602', 'LP002603', 'LP002606', 'LP002615', 'LP002618', 'LP002619', 'LP002622', 'LP002624', 'LP002625', 'LP002626', 'LP002634', 'LP002637', 'LP002640', 'LP002643', 'LP002648', 'LP002652', 'LP002659', 'LP002670', 'LP002682', 'LP002683', 'LP002684', 'LP002689', 'LP002690', 'LP002692', 'LP002693', 'LP002697', 'LP002699', 'LP002705', 'LP002706', 'LP002714', 'LP002716', 'LP002717', 'LP002720', 'LP002723', 'LP002729', 'LP002731', 'LP002732', 'LP002734', 'LP002738', 'LP002739', 'LP002740', 'LP002741', 'LP002743', 'LP002753', 'LP002755', 'LP002757', 'LP002767', 'LP002768', 'LP002772', 'LP002776', 'LP002777', 'LP002778', 'LP002784', 'LP002785', 'LP002788', 'LP002789', 'LP002792', 'LP002794', 'LP002795', 'LP002798', 'LP002804', 'LP002807', 'LP002813', 'LP002820', 'LP002821', 'LP002832', 'LP002833', 'LP002836', 'LP002837', 'LP002840', 'LP002841', 'LP002842', 'LP002847', 'LP002855', 'LP002862', 'LP002863', 'LP002868', 'LP002872', 'LP002874', 'LP002877', 'LP002888', 'LP002892', 'LP002893', 'LP002894', 'LP002898', 'LP002911', 'LP002912', 'LP002916', 'LP002917', 'LP002925', 'LP002926', 'LP002928', 'LP002931', 'LP002933', 'LP002936', 'LP002938', 'LP002940', 'LP002941', 'LP002943', 'LP002945', 'LP002948', 'LP002949', 'LP002950', 'LP002953', 'LP002958', 'LP002959', 'LP002960', 'LP002961', 'LP002964', 'LP002974', 'LP002978', 'LP002979', 'LP002983', 'LP002984', 'LP002990']\n"
     ]
    }
   ],
   "source": [
    "print('The dataframe we got above is actually another datatype called as Series.')\n",
    "print('Every pandas dataframe is a combination of series, where every column is a series')\n",
    "print('We can however get the columns of the dataframe on form of a list as well ')\n",
    "print('The list of values in the column Loan_ID is:- ',df['Loan_ID'].values.tolist())"
   ]
  },
  {
   "cell_type": "markdown",
   "metadata": {},
   "source": [
    "### 5. Frequency of occurance of elements in a particular column"
   ]
  },
  {
   "cell_type": "code",
   "execution_count": 7,
   "metadata": {},
   "outputs": [
    {
     "name": "stdout",
     "output_type": "stream",
     "text": [
      "The frequency of occurance of distinct elements in a particular column(say Education in our case) is attained by \n"
     ]
    },
    {
     "data": {
      "text/plain": [
       "Graduate        480\n",
       "Not Graduate    134\n",
       "Name: Education, dtype: int64"
      ]
     },
     "execution_count": 7,
     "metadata": {},
     "output_type": "execute_result"
    }
   ],
   "source": [
    "print('The frequency of occurance of distinct elements in a particular column(say Education in our case) is attained by ')\n",
    "df['Education'].value_counts()"
   ]
  },
  {
   "cell_type": "markdown",
   "metadata": {},
   "source": [
    "### 6. Unique elements in each column"
   ]
  },
  {
   "cell_type": "code",
   "execution_count": 8,
   "metadata": {},
   "outputs": [
    {
     "data": {
      "text/plain": [
       "Loan_ID              614\n",
       "Gender                 2\n",
       "Married                2\n",
       "Dependents             4\n",
       "Education              2\n",
       "Self_Employed          2\n",
       "ApplicantIncome      505\n",
       "CoapplicantIncome    287\n",
       "LoanAmount           203\n",
       "Loan_Amount_Term      10\n",
       "Credit_History         2\n",
       "Property_Area          3\n",
       "Loan_Status            2\n",
       "dtype: int64"
      ]
     },
     "execution_count": 8,
     "metadata": {},
     "output_type": "execute_result"
    }
   ],
   "source": [
    "df.nunique()"
   ]
  },
  {
   "cell_type": "markdown",
   "metadata": {},
   "source": [
    "### 7. Unique elements in a particular column"
   ]
  },
  {
   "cell_type": "code",
   "execution_count": 9,
   "metadata": {},
   "outputs": [
    {
     "name": "stdout",
     "output_type": "stream",
     "text": [
      "The unique elements in a column(Dependents):-  4\n"
     ]
    }
   ],
   "source": [
    "print('The unique elements in a column(Dependents):- ',df['Dependents'].nunique())"
   ]
  },
  {
   "cell_type": "code",
   "execution_count": null,
   "metadata": {},
   "outputs": [],
   "source": []
  },
  {
   "cell_type": "code",
   "execution_count": null,
   "metadata": {},
   "outputs": [],
   "source": []
  }
 ],
 "metadata": {
  "kernelspec": {
   "display_name": "Python 3",
   "language": "python",
   "name": "python3"
  },
  "language_info": {
   "codemirror_mode": {
    "name": "ipython",
    "version": 3
   },
   "file_extension": ".py",
   "mimetype": "text/x-python",
   "name": "python",
   "nbconvert_exporter": "python",
   "pygments_lexer": "ipython3",
   "version": "3.7.3"
  }
 },
 "nbformat": 4,
 "nbformat_minor": 2
}
