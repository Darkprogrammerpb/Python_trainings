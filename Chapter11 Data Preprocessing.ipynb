{
 "cells": [
  {
   "cell_type": "markdown",
   "metadata": {},
   "source": [
    "Here we will look at preprocessing of the data to be used. It will involve transforming the data to machine understandable format. The data we are considering is a loan default data and is stored in the form of a table. "
   ]
  },
  {
   "cell_type": "code",
   "execution_count": 1,
   "metadata": {},
   "outputs": [
    {
     "name": "stdout",
     "output_type": "stream",
     "text": [
      "We will first read the data Sample_data.csv using pandas dataframe. Make sure that it is saved in the home directory.\n",
      "Data stored in dataframe df and first few rows will look like below\n"
     ]
    },
    {
     "data": {
      "text/html": [
       "<div>\n",
       "<style scoped>\n",
       "    .dataframe tbody tr th:only-of-type {\n",
       "        vertical-align: middle;\n",
       "    }\n",
       "\n",
       "    .dataframe tbody tr th {\n",
       "        vertical-align: top;\n",
       "    }\n",
       "\n",
       "    .dataframe thead th {\n",
       "        text-align: right;\n",
       "    }\n",
       "</style>\n",
       "<table border=\"1\" class=\"dataframe\">\n",
       "  <thead>\n",
       "    <tr style=\"text-align: right;\">\n",
       "      <th></th>\n",
       "      <th>Loan_ID</th>\n",
       "      <th>Gender</th>\n",
       "      <th>Married</th>\n",
       "      <th>Dependents</th>\n",
       "      <th>Education</th>\n",
       "      <th>Self_Employed</th>\n",
       "      <th>ApplicantIncome</th>\n",
       "      <th>CoapplicantIncome</th>\n",
       "      <th>LoanAmount</th>\n",
       "      <th>Loan_Amount_Term</th>\n",
       "      <th>Credit_History</th>\n",
       "      <th>Property_Area</th>\n",
       "      <th>Loan_Status</th>\n",
       "    </tr>\n",
       "  </thead>\n",
       "  <tbody>\n",
       "    <tr>\n",
       "      <th>0</th>\n",
       "      <td>LP001002</td>\n",
       "      <td>Male</td>\n",
       "      <td>No</td>\n",
       "      <td>0</td>\n",
       "      <td>Graduate</td>\n",
       "      <td>No</td>\n",
       "      <td>5849</td>\n",
       "      <td>0.0</td>\n",
       "      <td>NaN</td>\n",
       "      <td>360.0</td>\n",
       "      <td>1.0</td>\n",
       "      <td>Urban</td>\n",
       "      <td>Y</td>\n",
       "    </tr>\n",
       "    <tr>\n",
       "      <th>1</th>\n",
       "      <td>LP001003</td>\n",
       "      <td>Male</td>\n",
       "      <td>Yes</td>\n",
       "      <td>1</td>\n",
       "      <td>Graduate</td>\n",
       "      <td>No</td>\n",
       "      <td>4583</td>\n",
       "      <td>1508.0</td>\n",
       "      <td>128.0</td>\n",
       "      <td>360.0</td>\n",
       "      <td>1.0</td>\n",
       "      <td>Rural</td>\n",
       "      <td>N</td>\n",
       "    </tr>\n",
       "    <tr>\n",
       "      <th>2</th>\n",
       "      <td>LP001005</td>\n",
       "      <td>Male</td>\n",
       "      <td>Yes</td>\n",
       "      <td>0</td>\n",
       "      <td>Graduate</td>\n",
       "      <td>Yes</td>\n",
       "      <td>3000</td>\n",
       "      <td>0.0</td>\n",
       "      <td>66.0</td>\n",
       "      <td>360.0</td>\n",
       "      <td>1.0</td>\n",
       "      <td>Urban</td>\n",
       "      <td>Y</td>\n",
       "    </tr>\n",
       "  </tbody>\n",
       "</table>\n",
       "</div>"
      ],
      "text/plain": [
       "    Loan_ID Gender Married Dependents Education Self_Employed  \\\n",
       "0  LP001002   Male      No          0  Graduate            No   \n",
       "1  LP001003   Male     Yes          1  Graduate            No   \n",
       "2  LP001005   Male     Yes          0  Graduate           Yes   \n",
       "\n",
       "   ApplicantIncome  CoapplicantIncome  LoanAmount  Loan_Amount_Term  \\\n",
       "0             5849                0.0         NaN             360.0   \n",
       "1             4583             1508.0       128.0             360.0   \n",
       "2             3000                0.0        66.0             360.0   \n",
       "\n",
       "   Credit_History Property_Area Loan_Status  \n",
       "0             1.0         Urban           Y  \n",
       "1             1.0         Rural           N  \n",
       "2             1.0         Urban           Y  "
      ]
     },
     "execution_count": 1,
     "metadata": {},
     "output_type": "execute_result"
    }
   ],
   "source": [
    "import pandas as pd\n",
    "import numpy as np\n",
    "print('We will first read the data Sample_data.csv using pandas dataframe. Make sure that it is saved in the home directory.')\n",
    "df = pd.read_csv('Sample_data.csv')\n",
    "print('Data stored in dataframe df and first few rows will look like below')\n",
    "df.head(3)"
   ]
  },
  {
   "cell_type": "markdown",
   "metadata": {},
   "source": [
    "### Analysing the summary of the data"
   ]
  },
  {
   "cell_type": "code",
   "execution_count": 2,
   "metadata": {},
   "outputs": [
    {
     "name": "stdout",
     "output_type": "stream",
     "text": [
      "<class 'pandas.core.frame.DataFrame'>\n",
      "RangeIndex: 614 entries, 0 to 613\n",
      "Data columns (total 13 columns):\n",
      "Loan_ID              614 non-null object\n",
      "Gender               601 non-null object\n",
      "Married              611 non-null object\n",
      "Dependents           599 non-null object\n",
      "Education            614 non-null object\n",
      "Self_Employed        582 non-null object\n",
      "ApplicantIncome      614 non-null int64\n",
      "CoapplicantIncome    614 non-null float64\n",
      "LoanAmount           592 non-null float64\n",
      "Loan_Amount_Term     600 non-null float64\n",
      "Credit_History       564 non-null float64\n",
      "Property_Area        614 non-null object\n",
      "Loan_Status          614 non-null object\n",
      "dtypes: float64(4), int64(1), object(8)\n",
      "memory usage: 62.4+ KB\n"
     ]
    }
   ],
   "source": [
    "df.info()"
   ]
  },
  {
   "cell_type": "markdown",
   "metadata": {},
   "source": [
    "### Converting the object types to categorical type data values"
   ]
  },
  {
   "cell_type": "code",
   "execution_count": 3,
   "metadata": {},
   "outputs": [
    {
     "name": "stdout",
     "output_type": "stream",
     "text": [
      "We do this operation in order to reduce the memory usage as evident from the summary we will get after performing the conversion.\n",
      "<class 'pandas.core.frame.DataFrame'>\n",
      "RangeIndex: 614 entries, 0 to 613\n",
      "Data columns (total 13 columns):\n",
      "Loan_ID              614 non-null category\n",
      "Gender               601 non-null category\n",
      "Married              611 non-null category\n",
      "Dependents           599 non-null category\n",
      "Education            614 non-null category\n",
      "Self_Employed        582 non-null category\n",
      "ApplicantIncome      614 non-null int64\n",
      "CoapplicantIncome    614 non-null float64\n",
      "LoanAmount           592 non-null float64\n",
      "Loan_Amount_Term     600 non-null float64\n",
      "Credit_History       564 non-null float64\n",
      "Property_Area        614 non-null category\n",
      "Loan_Status          614 non-null category\n",
      "dtypes: category(8), float64(4), int64(1)\n",
      "memory usage: 55.0 KB\n"
     ]
    }
   ],
   "source": [
    "print('We do this operation in order to reduce the memory usage as evident from the summary we will get after performing the conversion.')\n",
    "columns_of_df          = df.columns\n",
    "column_index_to_change = [0,1,2,3,4,5,11,12]\n",
    "for i in range(len(column_index_to_change)):\n",
    "    indx                 = column_index_to_change[i]\n",
    "    df[columns_of_df[indx]] = df[columns_of_df[indx]].astype('category')\n",
    "df.info()"
   ]
  },
  {
   "cell_type": "code",
   "execution_count": 4,
   "metadata": {},
   "outputs": [
    {
     "name": "stdout",
     "output_type": "stream",
     "text": [
      "The below function takes into account the categorical column, finds the maximum occuring value in that column and imputes the null values with it.\n"
     ]
    }
   ],
   "source": [
    "print('The below function takes into account the categorical column, finds the maximum occuring value in that column and imputes the null values with it.')\n",
    "def categorical_missing_value_imputation(df,col_name):\n",
    "    max_value = df[col_name].mode().iloc[0]\n",
    "    df[col_name]= df[col_name].fillna(max_value)\n",
    "    return df\n"
   ]
  },
  {
   "cell_type": "code",
   "execution_count": 5,
   "metadata": {},
   "outputs": [
    {
     "name": "stdout",
     "output_type": "stream",
     "text": [
      "Suppose we want to perform the categorical value imputation for the 4 columns mentioned in the list.\n",
      "After performing missing value imputation of the categorical values, we have the following summary\n",
      "<class 'pandas.core.frame.DataFrame'>\n",
      "RangeIndex: 614 entries, 0 to 613\n",
      "Data columns (total 13 columns):\n",
      "Loan_ID              614 non-null category\n",
      "Gender               601 non-null category\n",
      "Married              614 non-null category\n",
      "Dependents           614 non-null category\n",
      "Education            614 non-null category\n",
      "Self_Employed        614 non-null category\n",
      "ApplicantIncome      614 non-null int64\n",
      "CoapplicantIncome    614 non-null float64\n",
      "LoanAmount           592 non-null float64\n",
      "Loan_Amount_Term     600 non-null float64\n",
      "Credit_History       564 non-null float64\n",
      "Property_Area        614 non-null category\n",
      "Loan_Status          614 non-null category\n",
      "dtypes: category(8), float64(4), int64(1)\n",
      "memory usage: 55.0 KB\n"
     ]
    }
   ],
   "source": [
    "print('Suppose we want to perform the categorical value imputation for the 4 columns mentioned in the list.')\n",
    "columns = ['Married','Dependents','Education','Self_Employed']\n",
    "for i in range(len(columns)):\n",
    "    df = categorical_missing_value_imputation(df,columns[i])\n",
    "print('After performing missing value imputation of the categorical values, we have the following summary')\n",
    "df.info()"
   ]
  },
  {
   "cell_type": "markdown",
   "metadata": {},
   "source": [
    "### Dropping the observations from data having null values which can't be imputed. \n",
    "In our example, we have null values in the column Gender and it won't make any sense to impute the maximum recurring gender to the missing values, we hence drop all the observations where the gender is missing."
   ]
  },
  {
   "cell_type": "code",
   "execution_count": 6,
   "metadata": {},
   "outputs": [
    {
     "name": "stdout",
     "output_type": "stream",
     "text": [
      "<class 'pandas.core.frame.DataFrame'>\n",
      "Int64Index: 601 entries, 0 to 613\n",
      "Data columns (total 13 columns):\n",
      "Loan_ID              601 non-null category\n",
      "Gender               601 non-null category\n",
      "Married              601 non-null category\n",
      "Dependents           601 non-null category\n",
      "Education            601 non-null category\n",
      "Self_Employed        601 non-null category\n",
      "ApplicantIncome      601 non-null int64\n",
      "CoapplicantIncome    601 non-null float64\n",
      "LoanAmount           579 non-null float64\n",
      "Loan_Amount_Term     587 non-null float64\n",
      "Credit_History       552 non-null float64\n",
      "Property_Area        601 non-null category\n",
      "Loan_Status          601 non-null category\n",
      "dtypes: category(8), float64(4), int64(1)\n",
      "memory usage: 59.0 KB\n"
     ]
    }
   ],
   "source": [
    "df.dropna(subset= ['Gender'],inplace=True)\n",
    "df.info()"
   ]
  },
  {
   "cell_type": "markdown",
   "metadata": {},
   "source": [
    "### Converting the dataframe to 2-d array format and separating the label (Y) from the actual set of observation.\n",
    "Every dataset will have a target variable which is generally used for supervised learning. We find our X matrix from the data and also the Y vector from the data on which we will perform further calculations"
   ]
  },
  {
   "cell_type": "code",
   "execution_count": 7,
   "metadata": {},
   "outputs": [
    {
     "name": "stdout",
     "output_type": "stream",
     "text": [
      "We drop the first column because Loan_Term will not be used in any form of analysis we perform\n",
      "The X matrix(or the independent column set of the data) is given by\n",
      "[['Male' 'No' '0' ... 360.0 1.0 'Urban']\n",
      " ['Male' 'Yes' '1' ... 360.0 1.0 'Rural']\n",
      " ['Male' 'Yes' '0' ... 360.0 1.0 'Urban']\n",
      " ...\n",
      " ['Male' 'Yes' '1' ... 360.0 1.0 'Urban']\n",
      " ['Male' 'Yes' '2' ... 360.0 1.0 'Urban']\n",
      " ['Female' 'No' '0' ... 360.0 0.0 'Semiurban']]\n",
      "\n",
      "\n",
      "The dependent vector is given by \n",
      "[Y, N, Y, Y, Y, ..., Y, Y, Y, Y, N]\n",
      "Length: 601\n",
      "Categories (2, object): [N, Y]\n"
     ]
    }
   ],
   "source": [
    "\n",
    "subdf = df.iloc[:,1:-1]\n",
    "X = subdf.values\n",
    "print('We drop the first column because Loan_Term will not be used in any form of analysis we perform')\n",
    "y = df.iloc[:,-1].values\n",
    "print('The X matrix(or the independent column set of the data) is given by')\n",
    "print(X)\n",
    "print('\\n')\n",
    "print('The dependent vector is given by ')\n",
    "print(y)"
   ]
  },
  {
   "cell_type": "markdown",
   "metadata": {},
   "source": [
    "### Null value imputation \n",
    "We impute the Null values with meaningful values. In case of numerical ones, we may take the mean of the remaining observations and substitute the null values with the mean (or an measure of central tendency). <br>\n",
    "In case of categorical values, we may prefer to take the mode. <br>\n",
    "We can drop the observation, in case we are not able to find a suitable treatment for the null values in a particular column of that observation."
   ]
  },
  {
   "cell_type": "code",
   "execution_count": 8,
   "metadata": {},
   "outputs": [],
   "source": [
    "from sklearn.preprocessing import Imputer"
   ]
  },
  {
   "cell_type": "code",
   "execution_count": 9,
   "metadata": {},
   "outputs": [],
   "source": [
    "def Missing_value_imputation(X,col_lb,col_ub,miss_strategy,constant = 10):\n",
    "    if miss_strategy =='constant':\n",
    "        imputer = Imputer(missing_values='NaN',strategy=miss_strategy,fill_value = value )\n",
    "    else:\n",
    "        imputer = Imputer(missing_values='NaN',strategy=miss_strategy,axis = 0)\n",
    "    X[:,col_lb:col_ub] = imputer.fit_transform(X[:,col_lb:col_ub])\n",
    "    return X"
   ]
  },
  {
   "cell_type": "code",
   "execution_count": 10,
   "metadata": {},
   "outputs": [
    {
     "name": "stdout",
     "output_type": "stream",
     "text": [
      "We create a column dictionary to know what column is occuring at what position.\n"
     ]
    }
   ],
   "source": [
    "print('We create a column dictionary to know what column is occuring at what position.')\n",
    "def Dictionary_column_names(df):\n",
    "    keys = df.columns.tolist()\n",
    "    values = list(range(len(keys)))\n",
    "    column_dictionary = dict(zip(keys,values))\n",
    "    return column_dictionary"
   ]
  },
  {
   "cell_type": "code",
   "execution_count": 11,
   "metadata": {},
   "outputs": [
    {
     "name": "stdout",
     "output_type": "stream",
     "text": [
      "We get the following dictionary of column names:-  {'Gender': 0, 'Married': 1, 'Dependents': 2, 'Education': 3, 'Self_Employed': 4, 'ApplicantIncome': 5, 'CoapplicantIncome': 6, 'LoanAmount': 7, 'Loan_Amount_Term': 8, 'Credit_History': 9, 'Property_Area': 10}\n"
     ]
    }
   ],
   "source": [
    "col_dicts = Dictionary_column_names(subdf)\n",
    "print('We get the following dictionary of column names:- ',col_dicts)"
   ]
  },
  {
   "cell_type": "code",
   "execution_count": 12,
   "metadata": {},
   "outputs": [
    {
     "name": "stdout",
     "output_type": "stream",
     "text": [
      "We see the summary again to find which numerical columns to impute\n",
      "<class 'pandas.core.frame.DataFrame'>\n",
      "Int64Index: 601 entries, 0 to 613\n",
      "Data columns (total 13 columns):\n",
      "Loan_ID              601 non-null category\n",
      "Gender               601 non-null category\n",
      "Married              601 non-null category\n",
      "Dependents           601 non-null category\n",
      "Education            601 non-null category\n",
      "Self_Employed        601 non-null category\n",
      "ApplicantIncome      601 non-null int64\n",
      "CoapplicantIncome    601 non-null float64\n",
      "LoanAmount           579 non-null float64\n",
      "Loan_Amount_Term     587 non-null float64\n",
      "Credit_History       552 non-null float64\n",
      "Property_Area        601 non-null category\n",
      "Loan_Status          601 non-null category\n",
      "dtypes: category(8), float64(4), int64(1)\n",
      "memory usage: 59.0 KB\n"
     ]
    }
   ],
   "source": [
    "print('We see the summary again to find which numerical columns to impute')\n",
    "df.info()"
   ]
  },
  {
   "cell_type": "code",
   "execution_count": 13,
   "metadata": {},
   "outputs": [
    {
     "name": "stdout",
     "output_type": "stream",
     "text": [
      "We can clearly see we can do missing value imputation in the column LoanAmount,Loan_Amount_Term and Credit_History.\n",
      "We were able to perform the mean value imputation of missing values in the stated columns and the matrix X will be \n",
      "[['Male' 'No' '0' ... 360.0 1.0 'Urban']\n",
      " ['Male' 'Yes' '1' ... 360.0 1.0 'Rural']\n",
      " ['Male' 'Yes' '0' ... 360.0 1.0 'Urban']\n",
      " ...\n",
      " ['Male' 'Yes' '1' ... 360.0 1.0 'Urban']\n",
      " ['Male' 'Yes' '2' ... 360.0 1.0 'Urban']\n",
      " ['Female' 'No' '0' ... 360.0 0.0 'Semiurban']]\n"
     ]
    }
   ],
   "source": [
    "print('We can clearly see we can do missing value imputation in the column LoanAmount,Loan_Amount_Term and Credit_History.')\n",
    "col_lb   = col_dicts['LoanAmount']\n",
    "col_ub   = col_dicts['Property_Area'] #We need to consider till Loan_Amount_Term and hence we need an upperbound that is exclusive\n",
    "strategy = 'mean'\n",
    "X = Missing_value_imputation(X,col_lb,col_ub,strategy)\n",
    "print('We were able to perform the mean value imputation of missing values in the stated columns and the matrix X will be ')\n",
    "print(X)"
   ]
  },
  {
   "cell_type": "markdown",
   "metadata": {},
   "source": [
    "We can also do the missing value imputation at dataframe stage, I did it over here to demonstrate the usage of Imputer module of sklearn package"
   ]
  },
  {
   "cell_type": "markdown",
   "metadata": {},
   "source": [
    "### Converting Categorical columns to Numerical \n",
    "We do this in order to make the strings to machine understandable numerical values"
   ]
  },
  {
   "cell_type": "code",
   "execution_count": 14,
   "metadata": {},
   "outputs": [],
   "source": [
    "from sklearn.preprocessing import LabelEncoder, OneHotEncoder"
   ]
  },
  {
   "cell_type": "code",
   "execution_count": 15,
   "metadata": {},
   "outputs": [],
   "source": [
    "def label_encoding(column_number,X):\n",
    "    label_encoder = LabelEncoder()\n",
    "    X[:,column_number] = label_encoder.fit_transform(X[:,column_number])\n",
    "    return X"
   ]
  },
  {
   "cell_type": "code",
   "execution_count": 16,
   "metadata": {},
   "outputs": [],
   "source": [
    "categorical_columns = ['Gender','Married','Dependents','Education','Self_Employed','Property_Area']\n",
    "for i in range(len(categorical_columns)):\n",
    "    X = label_encoding(col_dicts[categorical_columns[i]],X)\n"
   ]
  },
  {
   "cell_type": "code",
   "execution_count": 17,
   "metadata": {},
   "outputs": [
    {
     "name": "stdout",
     "output_type": "stream",
     "text": [
      "Matrix X is now entirely numerical. We can see that by printing any arbitrary row of X \n",
      "[1 1 1 0 0 4583 1508.0 128.0 360.0 1.0 0]\n"
     ]
    }
   ],
   "source": [
    "print('Matrix X is now entirely numerical. We can see that by printing any arbitrary row of X ')\n",
    "print(X[1])"
   ]
  },
  {
   "cell_type": "markdown",
   "metadata": {},
   "source": [
    "### One hot encoding the categorical values"
   ]
  },
  {
   "cell_type": "code",
   "execution_count": 18,
   "metadata": {},
   "outputs": [],
   "source": [
    "def one_hot_encoding(column_number,X):\n",
    "    onehotencoder = OneHotEncoder(categorical_features = [column_number])\n",
    "    X = onehotencoder.fit_transform(X).toarray()\n",
    "    return X"
   ]
  },
  {
   "cell_type": "code",
   "execution_count": 19,
   "metadata": {},
   "outputs": [],
   "source": [
    "for i in range(len(categorical_columns)):\n",
    "    X = one_hot_encoding(col_dicts[categorical_columns[i]],X)\n"
   ]
  },
  {
   "cell_type": "code",
   "execution_count": 20,
   "metadata": {},
   "outputs": [
    {
     "name": "stdout",
     "output_type": "stream",
     "text": [
      "One hot encoding is performed for all the categorical columns.\n"
     ]
    }
   ],
   "source": [
    "print('One hot encoding is performed for all the categorical columns.')"
   ]
  },
  {
   "cell_type": "markdown",
   "metadata": {},
   "source": [
    "### Label encoding for categorical values"
   ]
  },
  {
   "cell_type": "code",
   "execution_count": 21,
   "metadata": {},
   "outputs": [],
   "source": [
    "labelencoder_y = LabelEncoder()\n",
    "y = labelencoder_y.fit_transform(y)"
   ]
  },
  {
   "cell_type": "markdown",
   "metadata": {},
   "source": [
    "### Splitting the data to train test split"
   ]
  },
  {
   "cell_type": "code",
   "execution_count": 22,
   "metadata": {},
   "outputs": [],
   "source": [
    "from sklearn.model_selection import train_test_split\n",
    "X_train, X_test, y_train, y_test = train_test_split(X, y, test_size = 0.2, random_state = 0)"
   ]
  },
  {
   "cell_type": "code",
   "execution_count": 23,
   "metadata": {},
   "outputs": [
    {
     "name": "stdout",
     "output_type": "stream",
     "text": [
      "The training X matrix is \n",
      "[[  0.   0.   0. ... 360.   1.   0.]\n",
      " [  0.   0.   0. ... 360.   1.   0.]\n",
      " [  0.   0.   0. ... 360.   1.   0.]\n",
      " ...\n",
      " [  0.   0.   0. ... 360.   1.   0.]\n",
      " [  0.   0.   0. ... 360.   1.   0.]\n",
      " [  0.   0.   0. ... 360.   0.   2.]]\n",
      "The corresponding Y vector is \n",
      "[1 1 1 1 1 1 1 1 1 1 1 1 1 1 1 1 1 0 0 1 1 1 1 1 1 1 1 1 1 1 0 1 0 1 0 0 1\n",
      " 1 1 0 1 1 1 0 1 1 1 0 1 1 1 1 1 1 0 0 1 1 0 1 0 1 1 1 0 1 0 1 1 1 1 1 0 1\n",
      " 1 0 0 1 1 1 1 0 1 0 1 0 1 0 1 1 1 1 1 1 0 1 1 0 1 0 1 1 1 1 0 0 1 1 0 0 1\n",
      " 0 1 1 1 0 1 1 0 1 0 1 1 1 0 1 1 0 1 1 1 1 1 1 1 1 0 1 1 1 0 1 1 1 1 1 0 1\n",
      " 1 1 1 1 1 1 1 1 1 0 1 1 1 0 0 1 0 1 1 1 1 1 0 1 1 1 0 0 1 1 1 1 1 1 1 0 0\n",
      " 1 1 1 0 1 1 1 1 1 0 0 1 1 1 0 0 0 0 1 1 1 1 1 1 1 1 1 1 0 1 0 0 1 1 1 0 0\n",
      " 1 1 0 0 0 0 0 0 1 1 1 0 0 1 0 1 1 0 1 1 1 0 0 0 0 1 1 1 1 0 0 0 0 1 1 1 1\n",
      " 1 0 1 0 0 0 1 1 1 1 1 1 1 0 0 0 0 1 0 0 1 0 1 0 1 0 1 0 0 0 0 1 0 0 1 1 1\n",
      " 1 0 0 1 1 1 1 1 0 0 1 1 1 1 1 0 0 1 0 1 1 1 1 1 1 1 0 0 1 1 1 1 1 0 1 1 1\n",
      " 0 1 1 1 1 1 1 1 1 1 0 1 1 0 0 0 1 0 0 1 0 1 1 0 0 1 1 0 0 0 1 1 0 0 1 0 1\n",
      " 0 1 1 1 0 1 0 0 0 1 1 1 1 1 0 1 1 1 1 1 0 1 1 1 1 1 1 0 1 0 1 1 1 1 0 1 1\n",
      " 1 1 1 1 1 1 1 1 1 0 0 1 1 1 1 0 1 0 1 1 1 0 1 0 1 1 1 1 1 1 1 0 1 1 0 1 1\n",
      " 1 0 1 1 1 0 0 1 0 1 0 0 1 1 1 1 0 1 1 1 1 0 1 0 1 1 1 0 1 1 1 1 0 0 1 0]\n"
     ]
    }
   ],
   "source": [
    "print('The training X matrix is ')\n",
    "print(X_train)\n",
    "print('The corresponding Y vector is ')\n",
    "print(y_train)"
   ]
  },
  {
   "cell_type": "code",
   "execution_count": null,
   "metadata": {},
   "outputs": [],
   "source": []
  },
  {
   "cell_type": "code",
   "execution_count": null,
   "metadata": {},
   "outputs": [],
   "source": []
  }
 ],
 "metadata": {
  "kernelspec": {
   "display_name": "Python 3",
   "language": "python",
   "name": "python3"
  },
  "language_info": {
   "codemirror_mode": {
    "name": "ipython",
    "version": 3
   },
   "file_extension": ".py",
   "mimetype": "text/x-python",
   "name": "python",
   "nbconvert_exporter": "python",
   "pygments_lexer": "ipython3",
   "version": "3.7.3"
  }
 },
 "nbformat": 4,
 "nbformat_minor": 2
}
