{
 "cells": [
  {
   "cell_type": "markdown",
   "metadata": {},
   "source": [
    "# Lists :- \n",
    "* Collating sequence of elements of dissimlar datatypes is called a list. \n",
    "* This means that a list will have elements which can be either string or float or integer or Boolean "
   ]
  },
  {
   "cell_type": "code",
   "execution_count": 41,
   "metadata": {},
   "outputs": [
    {
     "name": "stdout",
     "output_type": "stream",
     "text": [
      "This is an example of a list :-  [12, 34, 1, 'a string values', 'characters', 45.5, 22.2]\n",
      "Note that it has many datatypes present in a single sequence like string, integers, float etc.\n",
      "\n",
      "\n",
      "This is how a blank list is declared blank_list = []\n",
      "The blank list is printed as  []\n"
     ]
    }
   ],
   "source": [
    "# A generic example of a list \n",
    "\n",
    "a = [12,34,1,'a string values','characters',45.5,22.2]\n",
    "print('This is an example of a list :- ',a)\n",
    "print('Note that it has many datatypes present in a single sequence like string, integers, float etc.')\n",
    "print('\\n')\n",
    "blank_list = []\n",
    "print('This is how a blank list is declared blank_list = []')\n",
    "print('The blank list is printed as ',blank_list)"
   ]
  },
  {
   "cell_type": "code",
   "execution_count": 16,
   "metadata": {},
   "outputs": [
    {
     "name": "stdout",
     "output_type": "stream",
     "text": [
      "This is an example of a list having a list in it  [1, 2, 3, 4, ['another_list', 12, 90]]\n",
      "A list can even have a list\n"
     ]
    }
   ],
   "source": [
    "a = [1,2,3,4,['another_list',12,90]]\n",
    "print('This is an example of a list having a list in it ',a)\n",
    "print('A list can even have a list')"
   ]
  },
  {
   "cell_type": "markdown",
   "metadata": {},
   "source": [
    "# Accessing the elements of a list \n",
    "* The list index starts from zero and the elements from a list can be accessed by using the indices.The below example demonstrates the various ways of accessing the elements of a list"
   ]
  },
  {
   "cell_type": "code",
   "execution_count": 17,
   "metadata": {},
   "outputs": [
    {
     "name": "stdout",
     "output_type": "stream",
     "text": [
      "The list on which we will do all possible list operations is:  ['vampires', 'witches', 'warewolves', 12, 116, 90, 'vampire_hunter', 10.56, 22, 2.36]\n",
      "\n",
      "\n",
      "The first element of the list is:-            vampires\n",
      "The second element of our list will be:-      witches\n",
      "The length os the list will be:-              10\n",
      "The last element of the list will be :-       2.36\n",
      "The second last element of the list will be   22\n",
      "\n",
      "\n",
      "Till now we were able to access the elements of a list given by the index. In the next code segment, we will be discussing the way to subset a list by performing slicing of the list\n"
     ]
    }
   ],
   "source": [
    "our_list = ['vampires','witches','warewolves',12,116,90,'vampire_hunter',10.56,22,2.36]\n",
    "print('The list on which we will do all possible list operations is: ',our_list)\n",
    "print('\\n')\n",
    "print('The first element of the list is:-           ',our_list[0])\n",
    "print('The second element of our list will be:-     ',our_list[1])\n",
    "print('The length os the list will be:-             ',len(our_list))\n",
    "print('The last element of the list will be :-      ',our_list[-1])\n",
    "print('The second last element of the list will be  ',our_list[-2])\n",
    "print('\\n')\n",
    "print('Till now we were able to access the elements of a list given by the index. In the next code segment, we will be discussing the way to subset a list by performing slicing of the list')"
   ]
  },
  {
   "cell_type": "code",
   "execution_count": 18,
   "metadata": {},
   "outputs": [
    {
     "name": "stdout",
     "output_type": "stream",
     "text": [
      "The list on which we will be performing our slicing operations will be :-  ['vampires', 'witches', 'warewolves', 12, 116, 90, 'vampire_hunter', 10.56, 22, 2.36]\n",
      "\n",
      "\n",
      "Subsetting a list between 2nd and 5th element will be done by our_list[1:5] and that results in:- ['witches', 'warewolves', 12, 116]\n",
      "Remember that in a list, the indexing starts from 0 and hence the second element will mean that the element to be included will be of index 1 and we will be able to include the elements at index 1(second element),2(third element),3(fourth element),4(fifth element).\n",
      "The element at index of upper bound ie., our_list[5], will be excluded. \n",
      "\n",
      "\n",
      "Remember :- The lower limit is always inclusive but the upper limit is always exclusive.\n"
     ]
    }
   ],
   "source": [
    "our_list = ['vampires','witches','warewolves',12,116,90,'vampire_hunter',10.56,22,2.36]\n",
    "print('The list on which we will be performing our slicing operations will be :- ', our_list)\n",
    "print('\\n')\n",
    "print('Subsetting a list between 2nd and 5th element will be done by our_list[1:5] and that results in:-',our_list[1:5])\n",
    "print('Remember that in a list, the indexing starts from 0 and hence the second element will mean that the element \\\n",
    "to be included will be of index 1 and we will be able to include the elements at index 1(second element),2(third element),\\\n",
    "3(fourth element),4(fifth element).')\n",
    "print('The element at index of upper bound ie., our_list[5], will be excluded. ')\n",
    "print('\\n')\n",
    "print('Remember :- The lower limit is always inclusive but the upper limit is always exclusive.')"
   ]
  },
  {
   "cell_type": "code",
   "execution_count": 19,
   "metadata": {},
   "outputs": [
    {
     "name": "stdout",
     "output_type": "stream",
     "text": [
      "The subset of our list starting from 4th element will be  [12, 116, 90, 'vampire_hunter', 10.56, 22, 2.36]\n",
      "The subset of our list starting from 5th element exclusive will be  [90, 'vampire_hunter', 10.56, 22, 2.36]\n",
      "The subset of our list starting from 5th element inclusive will be  [116, 90, 'vampire_hunter', 10.56, 22, 2.36]\n",
      "The subset of our list excluding the last element will be           ['vampires', 'witches', 'warewolves', 12, 116, 90, 'vampire_hunter', 10.56, 22]\n",
      "The subset of our list exclding the last 2 elements will be         ['vampires', 'witches', 'warewolves', 12, 116, 90, 'vampire_hunter', 10.56]\n"
     ]
    }
   ],
   "source": [
    "print('The subset of our list starting from 4th element will be ',our_list[3:])\n",
    "print('The subset of our list starting from 5th element exclusive will be ',our_list[5:])\n",
    "print('The subset of our list starting from 5th element inclusive will be ',our_list[4:])\n",
    "print('The subset of our list excluding the last element will be          ',our_list[:-1])\n",
    "print('The subset of our list exclding the last 2 elements will be        ',our_list[:-2])"
   ]
  },
  {
   "cell_type": "code",
   "execution_count": 20,
   "metadata": {},
   "outputs": [
    {
     "name": "stdout",
     "output_type": "stream",
     "text": [
      "The entire list can be reversed using  [2.36, 22, 10.56, 'vampire_hunter', 90, 116, 12, 'warewolves', 'witches', 'vampires']\n"
     ]
    }
   ],
   "source": [
    "print('The entire list can be reversed using ',our_list[::-1])"
   ]
  },
  {
   "cell_type": "markdown",
   "metadata": {},
   "source": [
    "# We will discuss some list methods widely used \n",
    "\n",
    "## Section 1.1 :- Append\n",
    "We can add elements to a list by using append functionality. Append will mean that we are extending a list by an element.\n",
    "<div class=\"alert alert-block alert-info\">\n",
    "<b>Form :</b> list_name.append(value)\n",
    "</div>"
   ]
  },
  {
   "cell_type": "code",
   "execution_count": 21,
   "metadata": {},
   "outputs": [
    {
     "name": "stdout",
     "output_type": "stream",
     "text": [
      "The appended list will become:  ['vampires', 'witches', 'warewolves', 12, 116, 90, 'vampire_hunter', 10.56, 22, 2.36, 'shadow_hunters']\n"
     ]
    }
   ],
   "source": [
    "our_list = ['vampires','witches','warewolves',12,116,90,'vampire_hunter',10.56,22,2.36]\n",
    "our_list.append('shadow_hunters')\n",
    "print('The appended list will become: ',our_list)"
   ]
  },
  {
   "cell_type": "markdown",
   "metadata": {},
   "source": [
    "## Section 1.2 :- Extend\n",
    "It helps in adding a list to a given list.\n",
    "<div class=\"alert alert-block alert-info\">\n",
    "<b>Form :</b> list_name.extend(second_list)\n",
    "</div>"
   ]
  },
  {
   "cell_type": "code",
   "execution_count": 22,
   "metadata": {},
   "outputs": [
    {
     "name": "stdout",
     "output_type": "stream",
     "text": [
      "The extended list will become:  ['vampires', 'witches', 'warewolves', 12, 116, 90, 'vampire_hunter', 10.56, 22, 2.36, 999, 'Warlocks', 89.55]\n"
     ]
    }
   ],
   "source": [
    "our_list = ['vampires','witches','warewolves',12,116,90,'vampire_hunter',10.56,22,2.36]\n",
    "our_list.extend([999,'Warlocks',89.55])\n",
    "print('The extended list will become: ',our_list)"
   ]
  },
  {
   "cell_type": "markdown",
   "metadata": {},
   "source": [
    "We can clearly see from the below example that if we were to not use the 'extend' functionality, then we needed to concatenate the lists and that resulted in a new list to be stored in the memory - combined_list. \n",
    "* However, using extend functionality, we were able to add another list to an existing list thereby saving memory."
   ]
  },
  {
   "cell_type": "code",
   "execution_count": 23,
   "metadata": {},
   "outputs": [
    {
     "name": "stdout",
     "output_type": "stream",
     "text": [
      "List attained by combining two lists is given as  ['vampires', 'witches', 'warewolves', 12, 116, 90, 'vampire_hunter', 10.56, 22, 2.36, 999, 'Warlocks', 89.55]\n"
     ]
    }
   ],
   "source": [
    "our_list = ['vampires','witches','warewolves',12,116,90,'vampire_hunter',10.56,22,2.36]\n",
    "new_list = [999,'Warlocks',89.55]\n",
    "combined_list = our_list+new_list\n",
    "print('List attained by combining two lists is given as ',combined_list)\n"
   ]
  },
  {
   "cell_type": "markdown",
   "metadata": {},
   "source": [
    "## Section 1.3 :- Insert\n",
    "We can insert an item at a given index by using this function\n",
    "<div class=\"alert alert-block alert-info\">\n",
    "<b>Form :</b> list_name.insert(index,value)\n",
    "</div>"
   ]
  },
  {
   "cell_type": "code",
   "execution_count": 24,
   "metadata": {},
   "outputs": [
    {
     "name": "stdout",
     "output_type": "stream",
     "text": [
      "We will insert the word- hellboy at the 7th position of the given list. This can be done using \n",
      "The list after adding the word - hellboy at 7th place will be  ['vampires', 'witches', 'warewolves', 12, 116, 90, 'vampire_hunter', 10.56, 'hellboy', 22, 2.36]\n",
      "\n",
      "\n",
      "(We did put 8 in the index because 7 for us will be 8 for list in python as the indexing starts from 0)\n",
      "\n",
      "\n",
      "The element at 7th position will be  hellboy\n"
     ]
    }
   ],
   "source": [
    "our_list = ['vampires','witches','warewolves',12,116,90,'vampire_hunter',10.56,22,2.36]\n",
    "print('We will insert the word- hellboy at the 7th position of the given list. This can be done using ')\n",
    "our_list.insert(8,'hellboy')\n",
    "print('The list after adding the word - hellboy at 7th place will be ',our_list)\n",
    "print('\\n')\n",
    "print('(We did put 8 in the index because 7 for us will be 8 for list in python as the indexing starts from 0)')\n",
    "print('\\n')\n",
    "print('The element at 7th position will be ',our_list[8])"
   ]
  },
  {
   "cell_type": "markdown",
   "metadata": {},
   "source": [
    "## Section 1.4 :- Remove\n",
    "We can remove a value from a list by using the remove functionality\n",
    "<div class=\"alert alert-block alert-info\">\n",
    "<b>Form :</b> list_name.remove(value)\n",
    "</div>"
   ]
  },
  {
   "cell_type": "code",
   "execution_count": 25,
   "metadata": {},
   "outputs": [
    {
     "name": "stdout",
     "output_type": "stream",
     "text": [
      "The actual list is  ['vampires', 'witches', 'warewolves', 12, 116, 90, 'vampire_hunter', 10.56, 22, 2.36]\n",
      "We will wish to remove witches from our list. This can be done using:- \n",
      "The list after removal of the word- witches will be  ['vampires', 'warewolves', 12, 116, 90, 'vampire_hunter', 10.56, 22, 2.36]\n"
     ]
    }
   ],
   "source": [
    "our_list = ['vampires','witches','warewolves',12,116,90,'vampire_hunter',10.56,22,2.36]\n",
    "print('The actual list is ',our_list)\n",
    "print('We will wish to remove witches from our list. This can be done using:- ')\n",
    "our_list.remove('witches')\n",
    "print('The list after removal of the word- witches will be ',our_list)"
   ]
  },
  {
   "cell_type": "markdown",
   "metadata": {},
   "source": [
    "## Section 1.5 :- Index\n",
    "We can also return the index of the first matched item of a list.\n",
    "<div class=\"alert alert-block alert-info\">\n",
    "<b>Form :</b> list_name.index(value)\n",
    "</div>"
   ]
  },
  {
   "cell_type": "code",
   "execution_count": 26,
   "metadata": {},
   "outputs": [
    {
     "name": "stdout",
     "output_type": "stream",
     "text": [
      "The index of vampires is attained by  0\n",
      "The index of 116 is attained by       4\n",
      "The index of 2.36 is attained by      9\n"
     ]
    }
   ],
   "source": [
    "our_list = ['vampires','witches','warewolves',12,116,90,'vampire_hunter',10.56,22,2.36]\n",
    "print('The index of vampires is attained by ',our_list.index('vampires'))\n",
    "print('The index of 116 is attained by      ',our_list.index(116))\n",
    "print('The index of 2.36 is attained by     ',our_list.index(2.36))\n"
   ]
  },
  {
   "cell_type": "markdown",
   "metadata": {},
   "source": [
    "## Section 1.6 :- Clear\n",
    "We can remove the items from a list by using Clear functionality \n",
    "<div class=\"alert alert-block alert-info\">\n",
    "<b>Form :</b> list_name.clear()\n",
    "</div>"
   ]
  },
  {
   "cell_type": "code",
   "execution_count": 27,
   "metadata": {},
   "outputs": [
    {
     "name": "stdout",
     "output_type": "stream",
     "text": [
      "the actual list is  ['vampires', 'witches', 'warewolves', 12, 116, 90, 'vampire_hunter', 10.56, 22, 2.36]\n",
      "The list after clearing all elements will be  []\n"
     ]
    }
   ],
   "source": [
    "our_list = ['vampires','witches','warewolves',12,116,90,'vampire_hunter',10.56,22,2.36]\n",
    "print('the actual list is ',our_list)\n",
    "our_list.clear()\n",
    "print('The list after clearing all elements will be ',our_list)"
   ]
  },
  {
   "cell_type": "markdown",
   "metadata": {},
   "source": [
    "## Section 1.7 :- Sort\n",
    "We can sort a list in whichever order possible using Sort functionality\n",
    "<div class=\"alert alert-block alert-info\">\n",
    "<b>Form :</b> list_name.sort()\n",
    "</div>"
   ]
  },
  {
   "cell_type": "code",
   "execution_count": 28,
   "metadata": {},
   "outputs": [
    {
     "name": "stdout",
     "output_type": "stream",
     "text": [
      "The actual list is  [12, 34, 55, 6, 1, 90, 89, 999, 19, 14, 76]\n",
      "\n",
      "\n",
      "The list can be sorted in ascending order by following -order_list.sort()\n",
      "The list can be sorted in ascending order is  [1, 6, 12, 14, 19, 34, 55, 76, 89, 90, 999]\n",
      "\n",
      "\n",
      "The list can be sorted in descending order by following - order_list.sort(reverse=True)\n",
      "The list sorted in descending order is  [999, 90, 89, 76, 55, 34, 19, 14, 12, 6, 1]\n"
     ]
    }
   ],
   "source": [
    "our_list = [12,34,55,6,1,90,89,999,19,14,76]\n",
    "print('The actual list is ',our_list)\n",
    "print('\\n')\n",
    "print('The list can be sorted in ascending order by following -order_list.sort()')\n",
    "our_list.sort()\n",
    "print('The list can be sorted in ascending order is ',our_list)\n",
    "print('\\n')\n",
    "print('The list can be sorted in descending order by following - order_list.sort(reverse=True)')\n",
    "our_list.sort(reverse=True)\n",
    "print('The list sorted in descending order is ',our_list)"
   ]
  },
  {
   "cell_type": "markdown",
   "metadata": {},
   "source": [
    "## Section 1.8 :- Count\n",
    "We can get the count of a value from a list using count functinoality\n",
    "<div class=\"alert alert-block alert-info\">\n",
    "<b>Form :</b> list_name.count(value)\n",
    "</div>"
   ]
  },
  {
   "cell_type": "code",
   "execution_count": 29,
   "metadata": {},
   "outputs": [
    {
     "name": "stdout",
     "output_type": "stream",
     "text": [
      "The number of times 1 appears will be  4\n",
      "The number of times 5 appears will be  6\n"
     ]
    }
   ],
   "source": [
    "a = [1,1,1,1,3,3,3,4,4,5,5,5,5,5,5,6,6]\n",
    "print('The number of times 1 appears will be ',a.count(1))\n",
    "print('The number of times 5 appears will be ',a.count(5))"
   ]
  },
  {
   "cell_type": "markdown",
   "metadata": {},
   "source": [
    "# We will now discuss some built in functions present in a list"
   ]
  },
  {
   "cell_type": "code",
   "execution_count": 33,
   "metadata": {},
   "outputs": [
    {
     "name": "stdout",
     "output_type": "stream",
     "text": [
      "The list which we will use for this purpose is  [1, 12, 3.3, 7.9, 9.09, 90.89]\n"
     ]
    }
   ],
   "source": [
    "a = [1,12,3.3,7.9,9.09,90.89]\n",
    "print('The list which we will use for this purpose is ',a)"
   ]
  },
  {
   "cell_type": "code",
   "execution_count": 37,
   "metadata": {},
   "outputs": [
    {
     "name": "stdout",
     "output_type": "stream",
     "text": [
      "The sum of all elements of the list a will be  124.18\n",
      "The maximum value of list a will be            90.89\n",
      "The minimum value of list a will be            1\n"
     ]
    }
   ],
   "source": [
    "print('The sum of all elements of the list a will be ',sum(a))\n",
    "print('The maximum value of list a will be           ',max(a))\n",
    "print('The minimum value of list a will be           ',min(a))"
   ]
  },
  {
   "cell_type": "code",
   "execution_count": null,
   "metadata": {},
   "outputs": [],
   "source": []
  }
 ],
 "metadata": {
  "kernelspec": {
   "display_name": "Python 3",
   "language": "python",
   "name": "python3"
  },
  "language_info": {
   "codemirror_mode": {
    "name": "ipython",
    "version": 3
   },
   "file_extension": ".py",
   "mimetype": "text/x-python",
   "name": "python",
   "nbconvert_exporter": "python",
   "pygments_lexer": "ipython3",
   "version": "3.7.3"
  }
 },
 "nbformat": 4,
 "nbformat_minor": 2
}
