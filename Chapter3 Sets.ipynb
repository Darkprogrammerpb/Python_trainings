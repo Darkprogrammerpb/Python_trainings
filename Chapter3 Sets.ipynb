{
 "cells": [
  {
   "cell_type": "markdown",
   "metadata": {},
   "source": [
    "# Sets \n",
    "We will discuss another data-type of python which is called Sets.\n",
    "\n",
    "## A Set is an unordered collection of objects that makes sense."
   ]
  },
  {
   "cell_type": "code",
   "execution_count": 1,
   "metadata": {},
   "outputs": [
    {
     "name": "stdout",
     "output_type": "stream",
     "text": [
      "An example of set is:  {1, 2, 3, 4, 5, 6}\n"
     ]
    }
   ],
   "source": [
    "a = {1,2,3,4,5,6}\n",
    "print('An example of set is: ',a)"
   ]
  },
  {
   "cell_type": "code",
   "execution_count": 3,
   "metadata": {},
   "outputs": [
    {
     "name": "stdout",
     "output_type": "stream",
     "text": [
      "A set can have multiple datatypes like lists:-  {'abc', 1, 45.56}\n"
     ]
    }
   ],
   "source": [
    "b = {1,'abc',45.56}\n",
    "print('A set can have multiple datatypes like lists:- ',b)"
   ]
  },
  {
   "cell_type": "markdown",
   "metadata": {},
   "source": [
    "## 1. Set operations :- Intersection "
   ]
  },
  {
   "cell_type": "code",
   "execution_count": 7,
   "metadata": {},
   "outputs": [
    {
     "name": "stdout",
     "output_type": "stream",
     "text": [
      "The set a is given as  {1, 2, 3, 4, 10, 12}\n",
      "The set b is given as  {2, 3, 6, 7, 8, 9, 10}\n",
      "The elements present in both the sets a and b is given by  {10, 2, 3}\n",
      "We just performed the first set operation known as intersection of two sets.\n"
     ]
    }
   ],
   "source": [
    "a = {1,2,3,4,10,12}\n",
    "b = {2,3,6,7,8,9,10}\n",
    "print('The set a is given as ',a)\n",
    "print('The set b is given as ',b)\n",
    "print('The elements present in both the sets a and b is given by ',a&b)\n",
    "print('We just performed the first set operation known as intersection of two sets.')"
   ]
  },
  {
   "cell_type": "code",
   "execution_count": 9,
   "metadata": {},
   "outputs": [
    {
     "name": "stdout",
     "output_type": "stream",
     "text": [
      "The elements present in all the three sets is given as:  {2, 4, 5, 7, 10}\n"
     ]
    }
   ],
   "source": [
    "a = {1,2,3,4,5,6,7,8,9,10}\n",
    "b = {2,4,5,7,8,10}\n",
    "c = {1,2,4,5,6,7,9,10}\n",
    "\n",
    "print('The elements present in all the three sets is given as: ',a&b&c)"
   ]
  },
  {
   "cell_type": "markdown",
   "metadata": {},
   "source": [
    "## 2. Set operations :- Union "
   ]
  },
  {
   "cell_type": "code",
   "execution_count": 13,
   "metadata": {},
   "outputs": [
    {
     "name": "stdout",
     "output_type": "stream",
     "text": [
      "We have a set a as  {1, 2, 3, 4}\n",
      "We have a set b as  {'Klaus', 'Elena', 'Stefen', 'Damon'}\n",
      "The set having all the elements of a as well as b is given as  {1, 2, 3, 4, 'Stefen', 'Damon', 'Klaus', 'Elena'}\n"
     ]
    }
   ],
   "source": [
    "numbers = {1,2,3,4}\n",
    "Vampires = {'Stefen','Damon','Elena','Klaus'}\n",
    "print('We have a set a as ',numbers)\n",
    "print('We have a set b as ',Vampires)\n",
    "print('The set having all the elements of a as well as b is given as ',numbers|Vampires)"
   ]
  },
  {
   "cell_type": "code",
   "execution_count": 17,
   "metadata": {},
   "outputs": [
    {
     "name": "stdout",
     "output_type": "stream",
     "text": [
      "The set having the elements corresponding to all the three sets is given by:-  {1, 2, 3, 4, 5, 6, 7, 'Jackson', 'Elijah', 'Hayley', 'Stefen', 'Damon', 'Tyler', 'Klaus', 'Elena'}\n",
      "\n",
      "\n",
      "Pardon me for putting too many Vampire Diaries characters! I am a big fan of that tv series\n"
     ]
    }
   ],
   "source": [
    "numbers  = {1,2,3,4,5,6,7}\n",
    "vampires   = {'Stefen','Damon','Elena','Klaus','Elijah'}\n",
    "warewolves = {'Hayley','Jackson','Tyler'}\n",
    "print('The set having the elements corresponding to all the three sets is given by:- ',numbers|vampires|warewolves)\n",
    "print('\\n')\n",
    "print('Pardon me for putting too many Vampire Diaries characters! I am a big fan of that tv series')"
   ]
  },
  {
   "cell_type": "markdown",
   "metadata": {},
   "source": [
    "## 3. Set opertions :- Difference"
   ]
  },
  {
   "cell_type": "code",
   "execution_count": 21,
   "metadata": {},
   "outputs": [
    {
     "name": "stdout",
     "output_type": "stream",
     "text": [
      "The set consisting of vampires is  {'Camille', 'Caroline', 'Lexi', 'Stefen', 'Damon', 'Klaus', 'Elena'}\n",
      "The set containing femal vampires is  {'Lexi', 'Camille', 'Caroline', 'Elena'}\n",
      "\n",
      "\n",
      "The set having male vampires will be  {'Klaus', 'Stefen', 'Damon'}\n",
      "\n",
      "\n",
      "The set having female vampires will be  {'Lexi', 'Camille', 'Caroline', 'Elena'}\n"
     ]
    }
   ],
   "source": [
    "vampires = {'Stefen','Damon','Klaus','Elena','Caroline','Camille','Lexi'}\n",
    "female_vampires = {'Elena','Caroline','Camille','Lexi'}\n",
    "\n",
    "print('The set consisting of vampires is ',vampires)\n",
    "print('The set containing femal vampires is ',female_vampires)\n",
    "\n",
    "print('\\n')\n",
    "print('The set having male vampires will be ',vampires-female_vampires)\n",
    "print('\\n')\n",
    "\n",
    "male_vampires   = {'Lucien','Klaus','Kayleb','Stefen','Damon'}\n",
    "print('The set having female vampires will be ',vampires-male_vampires)\n"
   ]
  },
  {
   "cell_type": "markdown",
   "metadata": {},
   "source": [
    "## 4. Systematic Differences"
   ]
  },
  {
   "cell_type": "code",
   "execution_count": 33,
   "metadata": {},
   "outputs": [
    {
     "name": "stdout",
     "output_type": "stream",
     "text": [
      "We have set A as  {1, 2, 3, 4, 5, 6}\n",
      "We have set B as  {0, 5, 6, 8, 9, 10}\n",
      "\n",
      "\n",
      "The common elements in set A and B are  {5, 6}\n",
      "\n",
      "\n",
      "The set having elements of A after removal of common elements from A and B will be  {1, 2, 3, 4}\n",
      "The set having elements of B after removal of common elements from A and B will be  {0, 8, 10, 9}\n",
      "\n",
      "\n",
      "The set having elements of A after removal of common elements from A and B, as well as the elements of B after removal of common elements from A and B will be  {0, 1, 2, 3, 4, 8, 9, 10}\n",
      "\n",
      "\n",
      "The set having all the elements of a and b excluding the common elements will be  {0, 1, 2, 3, 4, 8, 9, 10}\n"
     ]
    }
   ],
   "source": [
    "a  = {1,2,3,4,5,6}\n",
    "b  = {5,6,8,9,0,10}\n",
    "\n",
    "print('We have set A as ',a)\n",
    "print('We have set B as ',b)\n",
    "print('\\n')\n",
    "print('The common elements in set A and B are ',a&b)\n",
    "print('\\n')\n",
    "print('The set having elements of A after removal of common elements from A and B will be ',a-(a&b))\n",
    "print('The set having elements of B after removal of common elements from A and B will be ',b-(a&b))\n",
    "print('\\n')\n",
    "\n",
    "print('The set having elements of A after removal of common elements from A and B, as well as the elements of B after removal of common elements from A and B will be ',\n",
    "     (a-(a&b))|(b-(a&b)))\n",
    "\n",
    "\n",
    "print('\\n')\n",
    "c = (a-(a&b))|(b-(a&b))\n",
    "\n",
    "print('The set having all the elements of a and b excluding the common elements will be ',c)"
   ]
  },
  {
   "cell_type": "markdown",
   "metadata": {},
   "source": [
    "# Typecasting a list to a set and perform operations"
   ]
  },
  {
   "cell_type": "markdown",
   "metadata": {},
   "source": [
    "### We will consider a list and find the unique elements of that list "
   ]
  },
  {
   "cell_type": "code",
   "execution_count": 41,
   "metadata": {},
   "outputs": [],
   "source": [
    "a_list  = [1,1,1,1,1,1,2,3,2,2,4,2,2,2,4,4,3,3,1,3,'vampires','vampires','witches','vampires','witches','witches','vampires']"
   ]
  },
  {
   "cell_type": "code",
   "execution_count": 42,
   "metadata": {},
   "outputs": [
    {
     "name": "stdout",
     "output_type": "stream",
     "text": [
      "We have a list as:-  [1, 1, 1, 1, 1, 1, 2, 3, 2, 2, 4, 2, 2, 2, 4, 4, 3, 3, 1, 3, 'vampires', 'vampires', 'witches', 'vampires', 'witches', 'witches', 'vampires']\n",
      "The set representing the unique elements of the list will be  {1, 2, 3, 4, 'witches', 'vampires'}\n"
     ]
    }
   ],
   "source": [
    "a_set   = set(a_list)\n",
    "print('We have a list as:- ',a_list)\n",
    "print('The set representing the unique elements of the list will be ',a_set)"
   ]
  },
  {
   "cell_type": "code",
   "execution_count": 43,
   "metadata": {},
   "outputs": [
    {
     "name": "stdout",
     "output_type": "stream",
     "text": [
      "We converted the set - a_set to a list:-  [1, 2, 3, 4, 'witches', 'vampires']\n"
     ]
    }
   ],
   "source": [
    "new_list = list(a_set)\n",
    "print('We converted the set - a_set to a list:- ',new_list)"
   ]
  },
  {
   "cell_type": "code",
   "execution_count": null,
   "metadata": {},
   "outputs": [],
   "source": []
  },
  {
   "cell_type": "markdown",
   "metadata": {},
   "source": [
    "## Generic functional operations on a set"
   ]
  },
  {
   "cell_type": "code",
   "execution_count": 44,
   "metadata": {},
   "outputs": [
    {
     "name": "stdout",
     "output_type": "stream",
     "text": [
      "The actual set is  {1, 2, 67.77, 3, 13.45, 'Sirens', 'Originals', 'Sires'}\n",
      "The set after adding Hybrids will become  {1, 2, 67.77, 3, 13.45, 'Sirens', 'Hybrids', 'Originals', 'Sires'}\n"
     ]
    }
   ],
   "source": [
    "actual_set   = {1,2,3,13.45,67.77,'Originals','Sires','Sirens'}\n",
    "\n",
    "print('The actual set is ',actual_set)\n",
    "actual_set.add('Hybrids')\n",
    "print('The set after adding Hybrids will become ',actual_set)"
   ]
  },
  {
   "cell_type": "code",
   "execution_count": 48,
   "metadata": {},
   "outputs": [
    {
     "name": "stdout",
     "output_type": "stream",
     "text": [
      "The actual set is  {1, 2, 67.77, 3, 13.45, 'Sirens', 'Originals', 'Sires'}\n",
      "The actual set after removal of 13.45 is  {1, 2, 67.77, 3, 'Sirens', 'Originals', 'Sires'}\n"
     ]
    }
   ],
   "source": [
    "actual_set   = {1,2,3,13.45,67.77,'Originals','Sires','Sirens'}\n",
    "print('The actual set is ',actual_set)\n",
    "actual_set.remove(13.45)\n",
    "print('The actual set after removal of 13.45 is ',actual_set)"
   ]
  },
  {
   "cell_type": "code",
   "execution_count": 54,
   "metadata": {},
   "outputs": [
    {
     "name": "stdout",
     "output_type": "stream",
     "text": [
      "The actual set is  {1, 2, 67.77, 3, 13.45, 'Sirens', 'Originals', 'Witches'}\n",
      "\n",
      "\n",
      "The set after removal of the number 99999 is  {1, 2, 67.77, 3, 13.45, 'Sirens', 'Originals', 'Witches'}\n",
      "The set remains the same because 99999 is not present in the set\n",
      "Discard is used to remove an element from a set only if it is present in the set.\n",
      "\n",
      "\n",
      "The set after removal of word Sirens is  {1, 2, 67.77, 3, 13.45, 'Originals', 'Witches'}\n",
      "Here actually Sirens was present and it was removed\n"
     ]
    }
   ],
   "source": [
    "actual_set   = {1,2,3,13.45,67.77,'Originals','Witches','Sirens'}\n",
    "print('The actual set is ',actual_set)\n",
    "\n",
    "print('\\n')\n",
    "actual_set.discard(99999)\n",
    "print('The set after removal of the number 99999 is ',actual_set)\n",
    "print('The set remains the same because 99999 is not present in the set')\n",
    "print('Discard is used to remove an element from a set only if it is present in the set.')\n",
    "print('\\n')\n",
    "\n",
    "actual_set.discard('Sirens')\n",
    "print('The set after removal of word Sirens is ',actual_set)\n",
    "print('Here actually Sirens was present and it was removed')"
   ]
  },
  {
   "cell_type": "code",
   "execution_count": 64,
   "metadata": {},
   "outputs": [
    {
     "name": "stdout",
     "output_type": "stream",
     "text": [
      "We have actual set as  {1, 2, 67.77, 3, 13.45, 'Sirens', 'Originals', 'Witches'}\n",
      "We have another set as  {1, 2, 'shadowhunters', 3, 'warlocks', 'hybrids'}\n",
      "\n",
      "\n",
      "We will now extend the actual set by storing the another set values in the actual set.\n",
      "The actual set after adding all elements of another set will be  {1, 2, 67.77, 3, 'shadowhunters', 13.45, 'Sirens', 'warlocks', 'hybrids', 'Originals', 'Witches'}\n",
      "\n",
      "\n",
      "This is similar to the extend functionality of list.\n",
      "\n",
      "\n",
      "Note :- The duplicates are automatically removed after adding another_set to actual_set\n"
     ]
    }
   ],
   "source": [
    "actual_set   = {1,2,3,13.45,67.77,'Originals','Witches','Sirens'}\n",
    "another_set  = {'hybrids','warlocks','shadowhunters',1,2,3}\n",
    "\n",
    "print('We have actual set as ',actual_set)\n",
    "print('We have another set as ',another_set)\n",
    "print('\\n')\n",
    "\n",
    "print('We will now extend the actual set by storing the another set values in the actual set.')\n",
    "actual_set.update(another_set)\n",
    "print('The actual set after adding all elements of another set will be ',actual_set)\n",
    "\n",
    "\n",
    "print('\\n')\n",
    "print('This is similar to the extend functionality of list.')\n",
    "print('\\n')\n",
    "print('Note :- The duplicates are automatically removed after adding another_set to actual_set')"
   ]
  },
  {
   "cell_type": "code",
   "execution_count": null,
   "metadata": {},
   "outputs": [],
   "source": []
  },
  {
   "cell_type": "markdown",
   "metadata": {},
   "source": [
    "# Remember :- Sets do not support indexing (because it is an 'unordered' collection of objects)\n",
    "\n"
   ]
  },
  {
   "cell_type": "code",
   "execution_count": 65,
   "metadata": {},
   "outputs": [
    {
     "name": "stdout",
     "output_type": "stream",
     "text": [
      "This is a sample set  {'vampires', 'Warewolves', 'Hybrids', 'Sirens'}\n",
      "The first element of the set will be (there will be an error)\n"
     ]
    },
    {
     "ename": "TypeError",
     "evalue": "'set' object is not subscriptable",
     "output_type": "error",
     "traceback": [
      "\u001b[1;31m---------------------------------------------------------------------------\u001b[0m",
      "\u001b[1;31mTypeError\u001b[0m                                 Traceback (most recent call last)",
      "\u001b[1;32m<ipython-input-65-35166d1cfe42>\u001b[0m in \u001b[0;36m<module>\u001b[1;34m\u001b[0m\n\u001b[0;32m      2\u001b[0m \u001b[0mprint\u001b[0m\u001b[1;33m(\u001b[0m\u001b[1;34m'This is a sample set '\u001b[0m\u001b[1;33m,\u001b[0m\u001b[0ma\u001b[0m\u001b[1;33m)\u001b[0m\u001b[1;33m\u001b[0m\u001b[1;33m\u001b[0m\u001b[0m\n\u001b[0;32m      3\u001b[0m \u001b[0mprint\u001b[0m\u001b[1;33m(\u001b[0m\u001b[1;34m'The first element of the set will be (there will be an error)'\u001b[0m\u001b[1;33m)\u001b[0m\u001b[1;33m\u001b[0m\u001b[1;33m\u001b[0m\u001b[0m\n\u001b[1;32m----> 4\u001b[1;33m \u001b[0mprint\u001b[0m\u001b[1;33m(\u001b[0m\u001b[0ma\u001b[0m\u001b[1;33m[\u001b[0m\u001b[1;36m0\u001b[0m\u001b[1;33m]\u001b[0m\u001b[1;33m)\u001b[0m\u001b[1;33m\u001b[0m\u001b[1;33m\u001b[0m\u001b[0m\n\u001b[0m",
      "\u001b[1;31mTypeError\u001b[0m: 'set' object is not subscriptable"
     ]
    }
   ],
   "source": [
    "a = {'vampires','Sirens','Warewolves','Hybrids'}\n",
    "print('This is a sample set ',a)\n",
    "print('The first element of the set will be (there will be an error)')\n",
    "print(a[0])"
   ]
  },
  {
   "cell_type": "code",
   "execution_count": 66,
   "metadata": {},
   "outputs": [
    {
     "name": "stdout",
     "output_type": "stream",
     "text": [
      "We can access the elements of a set by converting it into a list \n",
      "The set a is converted to a list b  ['vampires', 'Warewolves', 'Hybrids', 'Sirens']\n",
      "The first element of list b will be  vampires\n"
     ]
    }
   ],
   "source": [
    "print('We can access the elements of a set by converting it into a list ')\n",
    "b = list(a)\n",
    "print('The set a is converted to a list b ',b)\n",
    "print('The first element of list b will be ',b[0])"
   ]
  },
  {
   "cell_type": "code",
   "execution_count": null,
   "metadata": {},
   "outputs": [],
   "source": []
  }
 ],
 "metadata": {
  "kernelspec": {
   "display_name": "Python 3",
   "language": "python",
   "name": "python3"
  },
  "language_info": {
   "codemirror_mode": {
    "name": "ipython",
    "version": 3
   },
   "file_extension": ".py",
   "mimetype": "text/x-python",
   "name": "python",
   "nbconvert_exporter": "python",
   "pygments_lexer": "ipython3",
   "version": "3.7.3"
  }
 },
 "nbformat": 4,
 "nbformat_minor": 2
}
