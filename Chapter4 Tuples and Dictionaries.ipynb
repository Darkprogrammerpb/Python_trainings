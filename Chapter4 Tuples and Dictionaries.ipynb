{
 "cells": [
  {
   "cell_type": "markdown",
   "metadata": {},
   "source": [
    "### A tuple is a collection of data-types(much like lists) but they are immutable."
   ]
  },
  {
   "cell_type": "code",
   "execution_count": 1,
   "metadata": {},
   "outputs": [
    {
     "name": "stdout",
     "output_type": "stream",
     "text": [
      "('vampires', 'warewolves', 'hybrids', 12, 23, 44, 56.78)\n"
     ]
    }
   ],
   "source": [
    "tuple_example = ('vampires','warewolves','hybrids',12,23,44,56.78)\n",
    "print(tuple_example)"
   ]
  },
  {
   "cell_type": "code",
   "execution_count": 2,
   "metadata": {},
   "outputs": [
    {
     "name": "stdout",
     "output_type": "stream",
     "text": [
      "We can convert a tuple to list \n",
      "The tuple converted to list will be  ['vampires', 'warewolves', 'hybrids', 12, 23, 44, 56.78]\n"
     ]
    }
   ],
   "source": [
    "print('We can convert a tuple to list ')\n",
    "tuple_list   = list(tuple_example)\n",
    "print('The tuple converted to list will be ',tuple_list)"
   ]
  },
  {
   "cell_type": "code",
   "execution_count": 3,
   "metadata": {},
   "outputs": [
    {
     "name": "stdout",
     "output_type": "stream",
     "text": [
      "We cannot change the values of elements in a tuple (immutability)\n",
      "For example tuple_example[0] is vampires, we want to make it 129. If we run the below code, we will get an error\n"
     ]
    },
    {
     "ename": "TypeError",
     "evalue": "'tuple' object does not support item assignment",
     "output_type": "error",
     "traceback": [
      "\u001b[1;31m---------------------------------------------------------------------------\u001b[0m",
      "\u001b[1;31mTypeError\u001b[0m                                 Traceback (most recent call last)",
      "\u001b[1;32m<ipython-input-3-916bc432ba37>\u001b[0m in \u001b[0;36m<module>\u001b[1;34m\u001b[0m\n\u001b[0;32m      1\u001b[0m \u001b[0mprint\u001b[0m\u001b[1;33m(\u001b[0m\u001b[1;34m'We cannot change the values of elements in a tuple (immutability)'\u001b[0m\u001b[1;33m)\u001b[0m\u001b[1;33m\u001b[0m\u001b[1;33m\u001b[0m\u001b[0m\n\u001b[0;32m      2\u001b[0m \u001b[0mprint\u001b[0m\u001b[1;33m(\u001b[0m\u001b[1;34m'For example tuple_example[0] is vampires, we want to make it 129. If we run the below code, we will get an error'\u001b[0m\u001b[1;33m)\u001b[0m\u001b[1;33m\u001b[0m\u001b[1;33m\u001b[0m\u001b[0m\n\u001b[1;32m----> 3\u001b[1;33m \u001b[0mtuple_example\u001b[0m\u001b[1;33m[\u001b[0m\u001b[1;36m0\u001b[0m\u001b[1;33m]\u001b[0m\u001b[1;33m=\u001b[0m\u001b[1;36m129\u001b[0m\u001b[1;33m\u001b[0m\u001b[1;33m\u001b[0m\u001b[0m\n\u001b[0m",
      "\u001b[1;31mTypeError\u001b[0m: 'tuple' object does not support item assignment"
     ]
    }
   ],
   "source": [
    "print('We cannot change the values of elements in a tuple (immutability)')\n",
    "print('For example tuple_example[0] is vampires, we want to make it 129. If we run the below code, we will get an error')\n",
    "tuple_example[0]=129"
   ]
  },
  {
   "cell_type": "code",
   "execution_count": 4,
   "metadata": {},
   "outputs": [
    {
     "name": "stdout",
     "output_type": "stream",
     "text": [
      "However we can convert the tuple to list and make the changes\n",
      "The tuple converted to list was  ['vampires', 'warewolves', 'hybrids', 12, 23, 44, 56.78]\n",
      "The first element of tuple will be  vampires\n"
     ]
    }
   ],
   "source": [
    "print('However we can convert the tuple to list and make the changes')\n",
    "print('The tuple converted to list was ',tuple_list)\n",
    "print('The first element of tuple will be ',tuple_list[0])"
   ]
  },
  {
   "cell_type": "code",
   "execution_count": 5,
   "metadata": {},
   "outputs": [
    {
     "name": "stdout",
     "output_type": "stream",
     "text": [
      "The slicing operations in a tuple is same as that of a list. \n",
      "Our tuple is  ('vampires', 'warewolves', 'hybrids', 12, 23, 44, 56.78)\n",
      "The last element of tuple will be  56.78\n",
      "A sub-tuple having elements from 2nd element will be  ('warewolves', 'hybrids', 12, 23, 44, 56.78)\n"
     ]
    }
   ],
   "source": [
    "print('The slicing operations in a tuple is same as that of a list. ')\n",
    "print('Our tuple is ',tuple_example)\n",
    "print('The last element of tuple will be ',tuple_example[-1])\n",
    "print('A sub-tuple having elements from 2nd element will be ',tuple_example[1:])"
   ]
  },
  {
   "cell_type": "markdown",
   "metadata": {},
   "source": [
    "### Dictionaries:- An unordered collection of data values having a key-value pair is a dictionary"
   ]
  },
  {
   "cell_type": "markdown",
   "metadata": {},
   "source": [
    "#### example of dictionary "
   ]
  },
  {
   "cell_type": "code",
   "execution_count": 6,
   "metadata": {},
   "outputs": [
    {
     "name": "stdout",
     "output_type": "stream",
     "text": [
      "We have an example of dictionary as  {'vampires': ['Stefen', 'Damon', 'Elijah', 'Caroline', 'Lexi'], 'Warewolves': ['Tyler', 'Mason', 'Jackson', 'Hayley'], 'Hybrids': ['Klauss']}\n"
     ]
    }
   ],
   "source": [
    "vampire_diaries = {'vampires':['Stefen','Damon','Elijah','Caroline','Lexi'],\n",
    "                   'Warewolves' :['Tyler','Mason','Jackson','Hayley'],\n",
    "                   'Hybrids':['Klauss']\n",
    "                  }\n",
    "print('We have an example of dictionary as ',vampire_diaries)"
   ]
  },
  {
   "cell_type": "markdown",
   "metadata": {},
   "source": [
    "#### Accessing elements of dictionary by keys"
   ]
  },
  {
   "cell_type": "code",
   "execution_count": 7,
   "metadata": {},
   "outputs": [
    {
     "name": "stdout",
     "output_type": "stream",
     "text": [
      "We can access the list of vampires from the dictioary by  ['Stefen', 'Damon', 'Elijah', 'Caroline', 'Lexi']\n",
      "Here the vampires is a key and the list returned is a value.\n"
     ]
    }
   ],
   "source": [
    "print('We can access the list of vampires from the dictioary by ',vampire_diaries['vampires'])\n",
    "print('Here the vampires is a key and the list returned is a value.')"
   ]
  },
  {
   "cell_type": "markdown",
   "metadata": {},
   "source": [
    "#### Dictionaries are mutable"
   ]
  },
  {
   "cell_type": "code",
   "execution_count": 8,
   "metadata": {},
   "outputs": [
    {
     "name": "stdout",
     "output_type": "stream",
     "text": [
      "Unlike tuples, a dictionary is mutable.\n",
      "Our original dictionary is  {'vampires': ['Stefen', 'Damon', 'Elijah', 'Caroline', 'Lexi'], 'Warewolves': ['Tyler', 'Mason', 'Jackson', 'Hayley'], 'Hybrids': ['Klauss']}\n",
      "\n",
      "\n",
      "The list of vampires now includes Elena and the updated list becomes ['Stefen', 'Damon', 'Elijah', 'Caroline', 'Lexi', 'Elena']\n",
      "The dictionary becomes  {'vampires': ['Stefen', 'Damon', 'Elijah', 'Caroline', 'Lexi', 'Elena'], 'Warewolves': ['Tyler', 'Mason', 'Jackson', 'Hayley'], 'Hybrids': ['Klauss']}\n",
      "\n",
      "\n",
      "Note that the dictionary is also updated with the update being the vampire key is having an updated list that contains Elena\n"
     ]
    }
   ],
   "source": [
    "print('Unlike tuples, a dictionary is mutable.')\n",
    "print('Our original dictionary is ',vampire_diaries)\n",
    "print('\\n')\n",
    "\n",
    "## Here we are performing an operation\n",
    "vampire_diaries['vampires'].append('Elena')\n",
    "print('The list of vampires now includes Elena and the updated list becomes',vampire_diaries['vampires'])\n",
    "print('The dictionary becomes ',vampire_diaries)\n",
    "\n",
    "print('\\n')\n",
    "print('Note that the dictionary is also updated with the update being the vampire key is having an updated list that contains Elena')"
   ]
  },
  {
   "cell_type": "markdown",
   "metadata": {},
   "source": [
    "#### list of keys and values of a dictionary"
   ]
  },
  {
   "cell_type": "code",
   "execution_count": 9,
   "metadata": {},
   "outputs": [
    {
     "name": "stdout",
     "output_type": "stream",
     "text": [
      "The list of keys to dictionary is given by  ['vampires', 'Warewolves', 'Hybrids']\n",
      "The list of values taken by keys is given as   [['Stefen', 'Damon', 'Elijah', 'Caroline', 'Lexi', 'Elena'], ['Tyler', 'Mason', 'Jackson', 'Hayley'], ['Klauss']]\n"
     ]
    }
   ],
   "source": [
    "print('The list of keys to dictionary is given by ',list(vampire_diaries.keys()))\n",
    "print('The list of values taken by keys is given as  ',list(vampire_diaries.values()))"
   ]
  },
  {
   "cell_type": "markdown",
   "metadata": {},
   "source": [
    "#### Adding elements in a dictionary"
   ]
  },
  {
   "cell_type": "code",
   "execution_count": 10,
   "metadata": {},
   "outputs": [
    {
     "name": "stdout",
     "output_type": "stream",
     "text": [
      "We added an element to the dictionary with key being Witches and the value being a list of witches\n",
      "The updated dictionary becomes  {'vampires': ['Stefen', 'Damon', 'Elijah', 'Caroline', 'Lexi', 'Elena'], 'Warewolves': ['Tyler', 'Mason', 'Jackson', 'Hayley'], 'Hybrids': ['Klauss'], 'Witches': ['Bonnie', 'Esther']}\n"
     ]
    }
   ],
   "source": [
    "vampire_diaries['Witches'] = ['Bonnie','Esther']\n",
    "print('We added an element to the dictionary with key being Witches and the value being a list of witches')\n",
    "print('The updated dictionary becomes ',vampire_diaries)"
   ]
  },
  {
   "cell_type": "code",
   "execution_count": null,
   "metadata": {},
   "outputs": [],
   "source": []
  },
  {
   "cell_type": "code",
   "execution_count": null,
   "metadata": {},
   "outputs": [],
   "source": []
  }
 ],
 "metadata": {
  "kernelspec": {
   "display_name": "Python 3",
   "language": "python",
   "name": "python3"
  },
  "language_info": {
   "codemirror_mode": {
    "name": "ipython",
    "version": 3
   },
   "file_extension": ".py",
   "mimetype": "text/x-python",
   "name": "python",
   "nbconvert_exporter": "python",
   "pygments_lexer": "ipython3",
   "version": "3.7.3"
  }
 },
 "nbformat": 4,
 "nbformat_minor": 2
}
