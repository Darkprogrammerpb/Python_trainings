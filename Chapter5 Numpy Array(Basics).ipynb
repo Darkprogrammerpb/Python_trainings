{
 "cells": [
  {
   "cell_type": "markdown",
   "metadata": {},
   "source": [
    "# An array is a sequence of elements having same datatype"
   ]
  },
  {
   "cell_type": "code",
   "execution_count": 1,
   "metadata": {},
   "outputs": [],
   "source": [
    "import numpy as np"
   ]
  },
  {
   "cell_type": "code",
   "execution_count": 2,
   "metadata": {},
   "outputs": [
    {
     "name": "stdout",
     "output_type": "stream",
     "text": [
      "We have a list  [1, 2, 3, 4, 5, 6]\n",
      "We convert it to a numpy array as  [1 2 3 4 5 6]\n"
     ]
    }
   ],
   "source": [
    "a = [1,2,3,4,5,6]\n",
    "print('We have a list ',a)\n",
    "print('We convert it to a numpy array as ',np.array(a))"
   ]
  },
  {
   "cell_type": "code",
   "execution_count": 3,
   "metadata": {},
   "outputs": [],
   "source": [
    "array1 = np.array([1,2,3,4,5,6])\n",
    "array2 = np.array([11,12,13,14,15,16])"
   ]
  },
  {
   "cell_type": "code",
   "execution_count": 4,
   "metadata": {},
   "outputs": [
    {
     "name": "stdout",
     "output_type": "stream",
     "text": [
      "We have array 1 as  [1 2 3 4 5 6]\n",
      "We have array 2 as  [11 12 13 14 15 16]\n"
     ]
    }
   ],
   "source": [
    "print('We have array 1 as ',array1)\n",
    "print('We have array 2 as ',array2)"
   ]
  },
  {
   "cell_type": "code",
   "execution_count": 5,
   "metadata": {},
   "outputs": [
    {
     "name": "stdout",
     "output_type": "stream",
     "text": [
      "The sum of both the arrays will be  [12 14 16 18 20 22]\n"
     ]
    }
   ],
   "source": [
    "print('The sum of both the arrays will be ',array1+array2)"
   ]
  },
  {
   "cell_type": "code",
   "execution_count": 6,
   "metadata": {},
   "outputs": [
    {
     "name": "stdout",
     "output_type": "stream",
     "text": [
      "The array obtained by subtracting array1 from array2 will be  [10 10 10 10 10 10]\n"
     ]
    }
   ],
   "source": [
    "print('The array obtained by subtracting array1 from array2 will be ',array2-array1)"
   ]
  },
  {
   "cell_type": "code",
   "execution_count": 8,
   "metadata": {},
   "outputs": [
    {
     "name": "stdout",
     "output_type": "stream",
     "text": [
      "The array obtained by multiplying each element of array1 by 1.5 will be:  [1.5 3.  4.5 6.  7.5 9. ]\n",
      "NOTE:- The values are converted from integer to float while performing an operation that involves float\n"
     ]
    }
   ],
   "source": [
    "print('The array obtained by multiplying each element of array1 by 1.5 will be: ',1.5*array1)\n",
    "print('NOTE:- The values are converted from integer to float while performing an operation that involves float')"
   ]
  },
  {
   "cell_type": "code",
   "execution_count": 9,
   "metadata": {},
   "outputs": [
    {
     "name": "stdout",
     "output_type": "stream",
     "text": [
      "The array obtained by multiplying each element of array1 by 5 and adding to array2 will be  [16 22 28 34 40 46]\n"
     ]
    }
   ],
   "source": [
    "print('The array obtained by multiplying each element of array1 by 5 and adding to array2 will be ',5*array1+array2)"
   ]
  },
  {
   "cell_type": "code",
   "execution_count": 10,
   "metadata": {},
   "outputs": [
    {
     "name": "stdout",
     "output_type": "stream",
     "text": [
      "The array obtained by dividing array2 with array1 will be  [11.          6.          4.33333333  3.5         3.          2.66666667]\n"
     ]
    }
   ],
   "source": [
    "print('The array obtained by dividing array2 with array1 will be ',array2/array1)"
   ]
  },
  {
   "cell_type": "code",
   "execution_count": 11,
   "metadata": {},
   "outputs": [
    {
     "name": "stdout",
     "output_type": "stream",
     "text": [
      "Converting all elements of array1 to float can be done by  [1. 2. 3. 4. 5. 6.]\n"
     ]
    }
   ],
   "source": [
    "print('Converting all elements of array1 to float can be done by ',np.float_(array1))"
   ]
  },
  {
   "cell_type": "code",
   "execution_count": null,
   "metadata": {},
   "outputs": [],
   "source": []
  },
  {
   "cell_type": "code",
   "execution_count": null,
   "metadata": {},
   "outputs": [],
   "source": []
  }
 ],
 "metadata": {
  "kernelspec": {
   "display_name": "Python 3",
   "language": "python",
   "name": "python3"
  },
  "language_info": {
   "codemirror_mode": {
    "name": "ipython",
    "version": 3
   },
   "file_extension": ".py",
   "mimetype": "text/x-python",
   "name": "python",
   "nbconvert_exporter": "python",
   "pygments_lexer": "ipython3",
   "version": "3.7.3"
  }
 },
 "nbformat": 4,
 "nbformat_minor": 2
}
