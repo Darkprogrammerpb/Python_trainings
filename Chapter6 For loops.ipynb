{
 "cells": [
  {
   "cell_type": "markdown",
   "metadata": {},
   "source": [
    "We take a list and try to print all the elements of that list using a for loop"
   ]
  },
  {
   "cell_type": "code",
   "execution_count": 3,
   "metadata": {},
   "outputs": [
    {
     "name": "stdout",
     "output_type": "stream",
     "text": [
      "index:-  0  values:-  1\n",
      "index:-  1  values:-  2\n",
      "index:-  2  values:-  3\n",
      "index:-  3  values:-  4\n",
      "index:-  4  values:-  5\n",
      "index:-  5  values:-  6\n",
      "index:-  6  values:-  7\n",
      "index:-  7  values:-  8\n",
      "index:-  8  values:-  9\n",
      "index:-  9  values:-  10\n"
     ]
    }
   ],
   "source": [
    "a = [1,2,3,4,5,6,7,8,9,10]\n",
    "for i in range(0,len(a),1):\n",
    "    print('index:- ',i,' values:- ',a[i])"
   ]
  },
  {
   "cell_type": "markdown",
   "metadata": {},
   "source": [
    "## Meaning of the above statement \n",
    "* Here i is the index of the loop which will allow the loop to iterate through the list. The value of the index will tell the location in the list for example if i = 2 then we will access a[2]\n",
    "* The for loop is written in following format :- \n",
    "for i in range(start_value,end_value,increment)\n",
    "* The start value will tell the for loop as to where it shall tell the index i to begin.\n",
    "* The end_value will tell the for loop as to where it shall tell the index i to stop.\n",
    "* The increment will tell the for loop to tell the index i as to what is the length of steps it needs to take"
   ]
  },
  {
   "cell_type": "markdown",
   "metadata": {},
   "source": [
    "# An exmple to print the datatype of elements in a list "
   ]
  },
  {
   "cell_type": "code",
   "execution_count": 16,
   "metadata": {},
   "outputs": [
    {
     "name": "stdout",
     "output_type": "stream",
     "text": [
      "value  112            Data Type <class 'int'>\n",
      "value  1            Data Type <class 'int'>\n",
      "value  45            Data Type <class 'int'>\n",
      "value  vampires            Data Type <class 'str'>\n",
      "value  good vampires            Data Type <class 'str'>\n",
      "value  blood thirsty vampires            Data Type <class 'str'>\n",
      "value  hybrid vampires            Data Type <class 'str'>\n",
      "value  12.22            Data Type <class 'float'>\n",
      "value  90.999            Data Type <class 'float'>\n",
      "value  93.2            Data Type <class 'float'>\n",
      "value  original vampires            Data Type <class 'str'>\n"
     ]
    }
   ],
   "source": [
    "sample_list = [112,1,45,'vampires','good vampires','blood thirsty vampires','hybrid vampires',12.22,90.999,93.2,'original vampires']\n",
    "for i in range(0,len(sample_list),1):\n",
    "    print('value ',sample_list[i],'           Data Type',type(sample_list[i]))"
   ]
  },
  {
   "cell_type": "markdown",
   "metadata": {},
   "source": [
    "# An example to print all numbers between 0 to 10 except 7"
   ]
  },
  {
   "cell_type": "code",
   "execution_count": 18,
   "metadata": {},
   "outputs": [
    {
     "name": "stdout",
     "output_type": "stream",
     "text": [
      "0\n",
      "1\n",
      "2\n",
      "3\n",
      "4\n",
      "5\n",
      "6\n",
      "8\n",
      "9\n",
      "10\n"
     ]
    }
   ],
   "source": [
    "for i in range(0,11,1):\n",
    "    if i!=7:\n",
    "        print(i)"
   ]
  },
  {
   "cell_type": "markdown",
   "metadata": {},
   "source": [
    "# An example to get all odd numbers from 1 to 20(big code)"
   ]
  },
  {
   "cell_type": "code",
   "execution_count": 19,
   "metadata": {},
   "outputs": [
    {
     "name": "stdout",
     "output_type": "stream",
     "text": [
      "The list of numbers from 1 to 20 is  [1, 2, 3, 4, 5, 6, 7, 8, 9, 10, 11, 12, 13, 14, 15, 16, 17, 18, 19, 20]\n",
      "List of all odd numbers is  [1, 3, 5, 7, 9, 11, 13, 15, 17, 19]\n"
     ]
    }
   ],
   "source": [
    "a = list(range(1,21))\n",
    "print('The list of numbers from 1 to 20 is ',a)\n",
    "odd_numbers = []\n",
    "for i in range(len(a)):\n",
    "    if a[i]%2!=0:\n",
    "        odd_numbers.append(a[i])\n",
    "        \n",
    "print('List of all odd numbers is ',odd_numbers)"
   ]
  },
  {
   "cell_type": "markdown",
   "metadata": {},
   "source": [
    "# An example to get all odd numbers between 1 to 20"
   ]
  },
  {
   "cell_type": "code",
   "execution_count": 20,
   "metadata": {},
   "outputs": [
    {
     "name": "stdout",
     "output_type": "stream",
     "text": [
      "Odd numbers between 0 and 20 are  [1, 3, 5, 7, 9, 11, 13, 15, 17, 19]\n"
     ]
    }
   ],
   "source": [
    "odd_numbers = []\n",
    "for i in range(1,21,2):\n",
    "    odd_numbers.append(i)\n",
    "print('Odd numbers between 0 and 20 are ',odd_numbers)"
   ]
  },
  {
   "cell_type": "markdown",
   "metadata": {},
   "source": [
    "# An example to get all even numbers between 0 and 20 "
   ]
  },
  {
   "cell_type": "code",
   "execution_count": 21,
   "metadata": {},
   "outputs": [
    {
     "name": "stdout",
     "output_type": "stream",
     "text": [
      "Even numbers between 0 and 20 are  [2, 4, 6, 8, 10, 12, 14, 16, 18, 20]\n"
     ]
    }
   ],
   "source": [
    "even_numbers = []\n",
    "for i in range(2,21,2):\n",
    "    even_numbers.append(i)\n",
    "print('Even numbers between 0 and 20 are ',even_numbers)"
   ]
  },
  {
   "cell_type": "markdown",
   "metadata": {},
   "source": [
    "# Multiplication table.\n",
    "Ask user to enter a number and write its multiplication table"
   ]
  },
  {
   "cell_type": "code",
   "execution_count": 25,
   "metadata": {},
   "outputs": [
    {
     "name": "stdout",
     "output_type": "stream",
     "text": [
      "Enter a number for which you need a multiplication table:- 8\n",
      "8  x 0  =  0\n",
      "8  x 1  =  8\n",
      "8  x 2  =  16\n",
      "8  x 3  =  24\n",
      "8  x 4  =  32\n",
      "8  x 5  =  40\n",
      "8  x 6  =  48\n",
      "8  x 7  =  56\n",
      "8  x 8  =  64\n",
      "8  x 9  =  72\n",
      "8  x 10  =  80\n"
     ]
    }
   ],
   "source": [
    "number = int(input('Enter a number for which you need a multiplication table:- '))\n",
    "for i in range(11):\n",
    "    print(number,' x',i,' = ',number*i)"
   ]
  },
  {
   "cell_type": "markdown",
   "metadata": {},
   "source": [
    "# Counting the frequency of numbers and strings in a sequence\n",
    "Ask the user to enter a sequence and find the frequency of numbers and strings in that sequence.\n",
    "\n",
    "#### Pre-requisite :- any sequence entered by used will be a string. In case a character in the string is in form of a number (like '123') and we want to verify that it is indeed a number we do .isdigit() to confirm. We do .isalpha() to confirm if a character in a string is alphanumeric"
   ]
  },
  {
   "cell_type": "code",
   "execution_count": 26,
   "metadata": {},
   "outputs": [
    {
     "name": "stdout",
     "output_type": "stream",
     "text": [
      "Enter the sequence consisting of numbers and lettersasadsfdgf122343aw345\n",
      "The Frequencey of letters is  11\n",
      "The Frequency of numbers is   9\n"
     ]
    }
   ],
   "source": [
    "sequence = input('Enter the sequence consisting of numbers and letters')\n",
    "frequency = {'numbers':0,'letters':0}\n",
    "for i in range(len(sequence)):\n",
    "    if sequence[i].isdigit():\n",
    "        frequency['numbers'] = frequency['numbers']+1\n",
    "    elif sequence[i].isalpha():\n",
    "        frequency['letters'] = frequency['letters']+1\n",
    "print('The Frequencey of letters is ',frequency['letters'])\n",
    "print('The Frequency of numbers is  ',frequency['numbers'])"
   ]
  },
  {
   "cell_type": "markdown",
   "metadata": {},
   "source": [
    "# Leap years between two years\n",
    "Ask the user to enter two years and find the leap years and the number of leap years between the two years."
   ]
  },
  {
   "cell_type": "code",
   "execution_count": 30,
   "metadata": {},
   "outputs": [
    {
     "name": "stdout",
     "output_type": "stream",
     "text": [
      "Enter the year 1:- 1980\n",
      "Enter the year 2:- 2000\n",
      "The leap years between  1980  and  2000 are  [1980, 1984, 1988, 1992, 1996, 2000]\n",
      "The number of leap years are  6\n"
     ]
    }
   ],
   "source": [
    "year1 = int(input('Enter the year 1:- '))\n",
    "year2 = int(input('Enter the year 2:- '))\n",
    "leap_year = []\n",
    "for i in range(year1,year2+1,1):\n",
    "    if i%4==0:\n",
    "        leap_year.append(i)\n",
    "        \n",
    "print('The leap years between ',year1,' and ',year2,'are ',leap_year)\n",
    "print('The number of leap years are ',len(leap_year))"
   ]
  },
  {
   "cell_type": "markdown",
   "metadata": {},
   "source": [
    "# Fibonacci Sequence\n",
    "Ask the user to specify the value of n to print the first n terms of Fibonacci sequence"
   ]
  },
  {
   "cell_type": "code",
   "execution_count": 36,
   "metadata": {},
   "outputs": [
    {
     "name": "stdout",
     "output_type": "stream",
     "text": [
      "Enter the value of n: 12\n",
      "The first  12  terms of Fibonacci Sequence is  [0, 1, 1, 2, 3, 5, 8, 13, 21, 34, 55, 89]\n"
     ]
    }
   ],
   "source": [
    "n = int(input('Enter the value of n: '))\n",
    "fibonacci_seq = [0,1]\n",
    "for i in range(n):\n",
    "    if i>1:\n",
    "        val1 = fibonacci_seq[i-2]\n",
    "        val2 = fibonacci_seq[i-1]\n",
    "        fibonacci_seq.append(val1+val2)\n",
    "print('The first ',n,' terms of Fibonacci Sequence is ',fibonacci_seq)"
   ]
  },
  {
   "cell_type": "code",
   "execution_count": null,
   "metadata": {},
   "outputs": [],
   "source": []
  }
 ],
 "metadata": {
  "kernelspec": {
   "display_name": "Python 3",
   "language": "python",
   "name": "python3"
  },
  "language_info": {
   "codemirror_mode": {
    "name": "ipython",
    "version": 3
   },
   "file_extension": ".py",
   "mimetype": "text/x-python",
   "name": "python",
   "nbconvert_exporter": "python",
   "pygments_lexer": "ipython3",
   "version": "3.7.3"
  }
 },
 "nbformat": 4,
 "nbformat_minor": 2
}
