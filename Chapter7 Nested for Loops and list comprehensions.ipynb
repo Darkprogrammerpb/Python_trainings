{
 "cells": [
  {
   "cell_type": "markdown",
   "metadata": {},
   "source": [
    "# Example 1\n",
    "1 <br>\n",
    "12 <br>\n",
    "123<br>\n",
    "1234<br>\n",
    "12345<br>"
   ]
  },
  {
   "cell_type": "code",
   "execution_count": 2,
   "metadata": {},
   "outputs": [
    {
     "name": "stdout",
     "output_type": "stream",
     "text": [
      "1\r\n",
      "12\r\n",
      "123\r\n",
      "1234\r\n",
      "12345\r\n"
     ]
    }
   ],
   "source": [
    "for i in range(1,6,1):\n",
    "    for j in range(1,i+1,1):\n",
    "        print(j,end = '')\n",
    "    print('\\r')"
   ]
  },
  {
   "cell_type": "markdown",
   "metadata": {},
   "source": [
    "# Example 2\n",
    "12345 <br>\n",
    "1234 <br>\n",
    "123<br>\n",
    "12<br>\n",
    "1<br>"
   ]
  },
  {
   "cell_type": "code",
   "execution_count": 4,
   "metadata": {},
   "outputs": [
    {
     "name": "stdout",
     "output_type": "stream",
     "text": [
      "12345\r\n",
      "1234\r\n",
      "123\r\n",
      "12\r\n",
      "1\r\n"
     ]
    }
   ],
   "source": [
    "for i in range(1,6,1):\n",
    "    for j in range(1,6-i+1,1):\n",
    "        print(j,end = '')\n",
    "    print('\\r')"
   ]
  },
  {
   "cell_type": "markdown",
   "metadata": {},
   "source": [
    "# Example 3:- \n",
    "Generalise example 1"
   ]
  },
  {
   "cell_type": "code",
   "execution_count": 5,
   "metadata": {},
   "outputs": [
    {
     "name": "stdout",
     "output_type": "stream",
     "text": [
      "Enter the value of number of rows:- 6\n",
      "1\n",
      "12\n",
      "123\n",
      "1234\n",
      "12345\n",
      "123456\n"
     ]
    }
   ],
   "source": [
    "m = int(input('Enter the value of number of rows:- '))\n",
    "for i in range(1,m+1,1):\n",
    "    for j in range(1,i+1,1):\n",
    "        print(j,end = '')\n",
    "    print('\\r')"
   ]
  },
  {
   "cell_type": "markdown",
   "metadata": {},
   "source": [
    "# Example 4 "
   ]
  },
  {
   "cell_type": "code",
   "execution_count": 6,
   "metadata": {},
   "outputs": [
    {
     "name": "stdout",
     "output_type": "stream",
     "text": [
      "Enter the value of number of rows:- 10\n",
      "  * * * * * * * * * * * * * * * * * \n",
      "    * * * * * * * * * * * * * * *   \n",
      "      * * * * * * * * * * * * *     \n",
      "        * * * * * * * * * * *       \n",
      "          * * * * * * * * *         \n",
      "            * * * * * * *           \n",
      "              * * * * *             \n",
      "                * * *               \n",
      "                  *                 \n"
     ]
    }
   ],
   "source": [
    "m=int(input('Enter the value of number of rows:- '))\n",
    "for i in range(1,m,1):\n",
    "    k = 2*m-1\n",
    "    for j in range(1,k,1):\n",
    "        if j<=i or j>k-i:\n",
    "            print(' ',end=\" \")\n",
    "        else:\n",
    "            print(\"*\",end=\" \")\n",
    "    print('\\r')\n",
    "        "
   ]
  },
  {
   "cell_type": "markdown",
   "metadata": {},
   "source": [
    "# List comprehension - Writing for loops in one line"
   ]
  },
  {
   "cell_type": "markdown",
   "metadata": {},
   "source": [
    "# Example 1:- finding all even numbers in one line of for loop"
   ]
  },
  {
   "cell_type": "code",
   "execution_count": 8,
   "metadata": {},
   "outputs": [
    {
     "name": "stdout",
     "output_type": "stream",
     "text": [
      "Enter the upper limit:- 10\n"
     ]
    },
    {
     "data": {
      "text/plain": [
       "[2, 4, 6, 8, 10]"
      ]
     },
     "execution_count": 8,
     "metadata": {},
     "output_type": "execute_result"
    }
   ],
   "source": [
    "m = int(input('Enter the upper limit:- '))\n",
    "[i for i in range(1,m+1,1) if i%2==0]"
   ]
  },
  {
   "cell_type": "markdown",
   "metadata": {},
   "source": [
    "# Example 2:- A list having exponential representation "
   ]
  },
  {
   "cell_type": "code",
   "execution_count": 9,
   "metadata": {},
   "outputs": [
    {
     "name": "stdout",
     "output_type": "stream",
     "text": [
      "Enter the value till when we want to exponentiate:- 6\n",
      "Enter the value of base :- 3\n"
     ]
    },
    {
     "data": {
      "text/plain": [
       "[1, 3, 9, 27, 81, 243, 729]"
      ]
     },
     "execution_count": 9,
     "metadata": {},
     "output_type": "execute_result"
    }
   ],
   "source": [
    "m = int(input('Enter the value till when we want to exponentiate:- '))\n",
    "base = int(input('Enter the value of base :- '))\n",
    "[base**i for i in range(0,m+1,1)]"
   ]
  },
  {
   "cell_type": "markdown",
   "metadata": {},
   "source": [
    "# Example 3:- Traffic signals\n"
   ]
  },
  {
   "cell_type": "code",
   "execution_count": 10,
   "metadata": {},
   "outputs": [
    {
     "data": {
      "text/plain": [
       "['stop',\n",
       " 'stop',\n",
       " 'stop',\n",
       " 'run',\n",
       " 'slow down',\n",
       " 'stop',\n",
       " 'stop',\n",
       " 'run',\n",
       " 'run',\n",
       " 'stop',\n",
       " 'slow down']"
      ]
     },
     "execution_count": 10,
     "metadata": {},
     "output_type": "execute_result"
    }
   ],
   "source": [
    "meaning = {'red':'stop','yellow':'slow down','green':'run'}\n",
    "signals = ['red','red','red','green','yellow','red','red','green','green','red','yellow']\n",
    "[meaning[i] for i in signals]"
   ]
  },
  {
   "cell_type": "code",
   "execution_count": null,
   "metadata": {},
   "outputs": [],
   "source": []
  }
 ],
 "metadata": {
  "kernelspec": {
   "display_name": "Python 3",
   "language": "python",
   "name": "python3"
  },
  "language_info": {
   "codemirror_mode": {
    "name": "ipython",
    "version": 3
   },
   "file_extension": ".py",
   "mimetype": "text/x-python",
   "name": "python",
   "nbconvert_exporter": "python",
   "pygments_lexer": "ipython3",
   "version": "3.7.3"
  }
 },
 "nbformat": 4,
 "nbformat_minor": 2
}
