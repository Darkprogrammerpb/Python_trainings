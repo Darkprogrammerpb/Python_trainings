{
 "cells": [
  {
   "cell_type": "markdown",
   "metadata": {},
   "source": [
    "We will discuss some sample user defined functions\n"
   ]
  },
  {
   "cell_type": "markdown",
   "metadata": {},
   "source": [
    "# Example 1:- Arithmetic Progression \n",
    "Write a function to return a list with artihmetic progression defined as follows :- \n",
    "<br>\n",
    "a, a+d,a+2d,a+3d,....a+(n-1)d"
   ]
  },
  {
   "cell_type": "code",
   "execution_count": 1,
   "metadata": {},
   "outputs": [],
   "source": [
    "def arithmetic_progression(a,d,n):\n",
    "    ap_list = []\n",
    "    for i in range(0,n,1):\n",
    "        value = a+i*d\n",
    "        ap_list.append(value)\n",
    "    return ap_list"
   ]
  },
  {
   "cell_type": "code",
   "execution_count": 2,
   "metadata": {},
   "outputs": [
    {
     "name": "stdout",
     "output_type": "stream",
     "text": [
      "Here the parameters are a = 100, d = 4 and n=10\n",
      "The list obtained after execution of function arithmetic_progression is  [100, 104, 108, 112, 116, 120, 124, 128, 132, 136]\n"
     ]
    }
   ],
   "source": [
    "## Execution of a function\n",
    "a = arithmetic_progression(100,4,10)\n",
    "print('Here the parameters are a = 100, d = 4 and n=10')\n",
    "print(\"The list obtained after execution of function arithmetic_progression is \",a)"
   ]
  },
  {
   "cell_type": "markdown",
   "metadata": {},
   "source": [
    "# Example 1.1:- Geometric Progression\n",
    "Write a function to return a list with Geometric progression defined as follows :- \n",
    "<br>\n",
    "a, ar,ar^2,ar^3,....ar^(n-1)"
   ]
  },
  {
   "cell_type": "code",
   "execution_count": 3,
   "metadata": {},
   "outputs": [],
   "source": [
    "def Geometric_progression(a,r,n):\n",
    "    gp_list = []\n",
    "    for i in range(1,n,1):\n",
    "        value = a*(r**i)\n",
    "        gp_list.append(value)\n",
    "    return gp_list"
   ]
  },
  {
   "cell_type": "code",
   "execution_count": 4,
   "metadata": {},
   "outputs": [
    {
     "name": "stdout",
     "output_type": "stream",
     "text": [
      "Here the parameters are a = 3, r = 4 and n=10\n",
      "The list obtained after execution of function Geometric_progression is  [12, 48, 192, 768, 3072, 12288, 49152, 196608, 786432]\n"
     ]
    }
   ],
   "source": [
    "gp = Geometric_progression(3,4,10)\n",
    "print('Here the parameters are a = 3, r = 4 and n=10')\n",
    "print(\"The list obtained after execution of function Geometric_progression is \",gp)"
   ]
  },
  {
   "cell_type": "markdown",
   "metadata": {},
   "source": [
    "# Example 2:- Greetings \n",
    "Ask the user to enter his/her name and then say \"Hi\" to them "
   ]
  },
  {
   "cell_type": "code",
   "execution_count": 5,
   "metadata": {},
   "outputs": [],
   "source": [
    "def Greetings():\n",
    "    name = input('Please enter your name: ')\n",
    "    return 'Hi! '+name"
   ]
  },
  {
   "cell_type": "code",
   "execution_count": 6,
   "metadata": {},
   "outputs": [
    {
     "name": "stdout",
     "output_type": "stream",
     "text": [
      "Please enter your name: Stefen-Good Vampire\n"
     ]
    },
    {
     "data": {
      "text/plain": [
       "'Hi! Stefen-Good Vampire'"
      ]
     },
     "execution_count": 6,
     "metadata": {},
     "output_type": "execute_result"
    }
   ],
   "source": [
    "## EXECUTION OF A FUNCTION\n",
    "Greetings()"
   ]
  },
  {
   "cell_type": "markdown",
   "metadata": {},
   "source": [
    "# Example 3.1:- Prime numbers \n",
    "Create a function to check if a number is prime or not"
   ]
  },
  {
   "cell_type": "code",
   "execution_count": 7,
   "metadata": {},
   "outputs": [],
   "source": [
    "def prime_or_composite(num):\n",
    "    \n",
    "    if num ==1:\n",
    "        return('Neither prime nor composite')\n",
    "    else:\n",
    "        counter = 1\n",
    "        for i in range(2,int(num/2)+1,1):\n",
    "            if num%i==0:\n",
    "                counter = counter+1\n",
    "        if counter >1:\n",
    "            return('composite')\n",
    "        else:\n",
    "            return('prime')\n"
   ]
  },
  {
   "cell_type": "code",
   "execution_count": 8,
   "metadata": {},
   "outputs": [
    {
     "name": "stdout",
     "output_type": "stream",
     "text": [
      "Enter a number: 6\n",
      "The number  6  will be  composite\n"
     ]
    }
   ],
   "source": [
    "number = int(input('Enter a number: '))\n",
    "print('The number ',number,' will be ',prime_or_composite(number))"
   ]
  },
  {
   "cell_type": "markdown",
   "metadata": {},
   "source": [
    "# Example 3.2 :- Calling a function from within a function\n",
    "Find prime numbers within a certain range. "
   ]
  },
  {
   "cell_type": "code",
   "execution_count": 9,
   "metadata": {},
   "outputs": [],
   "source": [
    "def prime_certain_range(n):\n",
    "    primes = []\n",
    "    for i in range(1,n+1,1):\n",
    "        \n",
    "        # here we will be calling the prime_or_composite from within the prime_certain_range... \n",
    "        \n",
    "        prime_decision = prime_or_composite(i)\n",
    "        if prime_decision == 'prime':\n",
    "            primes.append(i)\n",
    "    return primes"
   ]
  },
  {
   "cell_type": "code",
   "execution_count": 10,
   "metadata": {},
   "outputs": [
    {
     "name": "stdout",
     "output_type": "stream",
     "text": [
      "Enter the range till when you want prime numbers:- 25\n",
      "The prime numbers till  25 are:-  [2, 3, 5, 7, 11, 13, 17, 19, 23]\n"
     ]
    }
   ],
   "source": [
    "number = int(input('Enter the range till when you want prime numbers:- '))\n",
    "print('The prime numbers till ',number, 'are:- ',prime_certain_range(number))"
   ]
  },
  {
   "cell_type": "markdown",
   "metadata": {},
   "source": [
    "# Example 3.3 Prime factors of a number\n",
    "Find prime factors of a number"
   ]
  },
  {
   "cell_type": "code",
   "execution_count": 11,
   "metadata": {},
   "outputs": [],
   "source": [
    "def divisible_prime(number):\n",
    "    prime_nums = prime_certain_range(int(number))\n",
    "    for i in range(0,len(prime_nums),1):\n",
    "        if number%prime_nums[i] == 0:\n",
    "            return prime_nums[i]"
   ]
  },
  {
   "cell_type": "code",
   "execution_count": 12,
   "metadata": {},
   "outputs": [],
   "source": [
    "def prime_factors(number):\n",
    "    pf = []\n",
    "    while(number >0):\n",
    "        if number>1:\n",
    "            values = divisible_prime(number)\n",
    "            pf.append(values)\n",
    "            number=int(number/values)\n",
    "        else:\n",
    "            break\n",
    "    return pf"
   ]
  },
  {
   "cell_type": "code",
   "execution_count": 13,
   "metadata": {},
   "outputs": [
    {
     "name": "stdout",
     "output_type": "stream",
     "text": [
      "Enter a number for which you wish to find the prime factorization:- 92\n",
      "The prime factors of  92  are [2, 2, 23]\n"
     ]
    }
   ],
   "source": [
    "number = int(input('Enter a number for which you wish to find the prime factorization:- '))\n",
    "print('The prime factors of ',number,' are',prime_factors(number))"
   ]
  },
  {
   "cell_type": "markdown",
   "metadata": {},
   "source": [
    "# Example 4.1 :- HCF of two numbers\n",
    "Write a function that executes the hcf of two numbers"
   ]
  },
  {
   "cell_type": "code",
   "execution_count": 14,
   "metadata": {},
   "outputs": [],
   "source": [
    "def hcf(num1,num2):\n",
    "    max_num = max(num1,num2)\n",
    "    min_num = min(num1,num2)\n",
    "    value   = min_num\n",
    "    while value >0:\n",
    "        value = max_num%min_num\n",
    "        max_num = min_num\n",
    "        min_num = value\n",
    "    return max_num"
   ]
  },
  {
   "cell_type": "code",
   "execution_count": 15,
   "metadata": {},
   "outputs": [
    {
     "name": "stdout",
     "output_type": "stream",
     "text": [
      "Enter number 1:- 23\n",
      "Enter Number 2:- 81\n",
      "The HCF between  23  and  81  will be  1\n"
     ]
    }
   ],
   "source": [
    "number1 = int(input('Enter number 1:- '))\n",
    "number2 = int(input('Enter Number 2:- '))\n",
    "print('The HCF between ',number1,' and ',number2,' will be ',hcf(number1,number2))"
   ]
  },
  {
   "cell_type": "markdown",
   "metadata": {},
   "source": [
    "# Example 4.2 :- LCM of two numbers \n",
    "Write  function to compute LCM of 2 numbers"
   ]
  },
  {
   "cell_type": "code",
   "execution_count": 16,
   "metadata": {},
   "outputs": [],
   "source": [
    "def lcm(num1,num2):\n",
    "    hcf_nums = hcf(num1,num2)\n",
    "    return int((num1*num2)/hcf_nums)"
   ]
  },
  {
   "cell_type": "code",
   "execution_count": 17,
   "metadata": {},
   "outputs": [
    {
     "name": "stdout",
     "output_type": "stream",
     "text": [
      "Enter number1:- 12\n",
      "Enter number2:- 45\n",
      "The LCM of  12  and  45  will be  180\n"
     ]
    }
   ],
   "source": [
    "number1 = int(input('Enter number1:- '))\n",
    "number2 = int(input('Enter number2:- '))\n",
    "print('The LCM of ',number1,' and ',number2,' will be ',lcm(number1,number2))"
   ]
  },
  {
   "cell_type": "markdown",
   "metadata": {},
   "source": [
    "# Example 5:- Convert a string to a list\n",
    "Write a function to convert a string to a list"
   ]
  },
  {
   "cell_type": "code",
   "execution_count": 18,
   "metadata": {},
   "outputs": [],
   "source": [
    "def conversion(vals):\n",
    "    string = str(vals)\n",
    "    string_list = []\n",
    "    for i in range(0,len(string),1):\n",
    "        string_list.append(string[i])\n",
    "    return  string_list"
   ]
  },
  {
   "cell_type": "code",
   "execution_count": 19,
   "metadata": {},
   "outputs": [
    {
     "name": "stdout",
     "output_type": "stream",
     "text": [
      "Enter any string:- Vampire Diaries\n",
      "The string conversion of  Vampire Diaries  is  ['V', 'a', 'm', 'p', 'i', 'r', 'e', ' ', 'D', 'i', 'a', 'r', 'i', 'e', 's']\n"
     ]
    }
   ],
   "source": [
    "strings = input('Enter any string:- ')\n",
    "print('The string conversion of ',strings,' is ',conversion(strings))"
   ]
  },
  {
   "cell_type": "markdown",
   "metadata": {},
   "source": [
    "# Example 6:- Palindrome or not\n",
    "Enter a number/string and check if it is palindrome or not"
   ]
  },
  {
   "cell_type": "code",
   "execution_count": 20,
   "metadata": {},
   "outputs": [],
   "source": [
    "def Palindrome_check(value):\n",
    "    value               = value.lower()\n",
    "    list_representation = conversion(value)\n",
    "    if list_representation == list_representation[::-1]:\n",
    "        return('Palindrome')\n",
    "    else:\n",
    "        return('Non Palindrome')"
   ]
  },
  {
   "cell_type": "code",
   "execution_count": 21,
   "metadata": {},
   "outputs": [
    {
     "name": "stdout",
     "output_type": "stream",
     "text": [
      "Enter a value to check if it is a Palindrome or not:- Malayalam\n",
      "The text  Malayalam  is  Palindrome\n"
     ]
    }
   ],
   "source": [
    "value = input('Enter a value to check if it is a Palindrome or not:- ')\n",
    "print('The text ',value,' is ',Palindrome_check(value))"
   ]
  },
  {
   "cell_type": "markdown",
   "metadata": {},
   "source": [
    "# Example 7:- Factorial of a number"
   ]
  },
  {
   "cell_type": "code",
   "execution_count": 22,
   "metadata": {},
   "outputs": [],
   "source": [
    "def factorial(number):\n",
    "    counter = 1\n",
    "    for i in range(number,0,-1):\n",
    "        counter = counter*i\n",
    "    return counter"
   ]
  },
  {
   "cell_type": "code",
   "execution_count": 23,
   "metadata": {},
   "outputs": [
    {
     "name": "stdout",
     "output_type": "stream",
     "text": [
      "Enter the value of a number:- 6\n",
      "The factorial of  6  is  720\n"
     ]
    }
   ],
   "source": [
    "number = int(input('Enter the value of a number:- '))\n",
    "print('The factorial of ',number,' is ',factorial(number))"
   ]
  },
  {
   "cell_type": "markdown",
   "metadata": {},
   "source": [
    "# Example 8:- Function to generate random number list\n",
    "Find a function to generate a list of random numbers till a certain range"
   ]
  },
  {
   "cell_type": "code",
   "execution_count": 24,
   "metadata": {},
   "outputs": [],
   "source": [
    "import random \n",
    "def generate_random_number_list(n):\n",
    "    return [random.random() for i in range(0,n,1)]\n",
    "    "
   ]
  },
  {
   "cell_type": "code",
   "execution_count": 25,
   "metadata": {},
   "outputs": [
    {
     "name": "stdout",
     "output_type": "stream",
     "text": [
      "Enter the length of list :- 5\n",
      "The list having  5  random numbers is  [0.5197797147749049, 0.722454434163283, 0.6416283005176505, 0.5734581965184847, 0.8801189459973471]\n"
     ]
    }
   ],
   "source": [
    "n = int(input('Enter the length of list :- '))\n",
    "print('The list having ',n,' random numbers is ',generate_random_number_list(n))"
   ]
  },
  {
   "cell_type": "markdown",
   "metadata": {},
   "source": [
    "# Example 9:- Function to generate a matrix of random numbers"
   ]
  },
  {
   "cell_type": "code",
   "execution_count": 26,
   "metadata": {},
   "outputs": [],
   "source": [
    "import numpy as np\n",
    "def generate_random_array(m,n):\n",
    "    return np.matrix([[random.random() for i in range(0,n,1)] for j in range(0,m,1)])"
   ]
  },
  {
   "cell_type": "code",
   "execution_count": 27,
   "metadata": {},
   "outputs": [
    {
     "name": "stdout",
     "output_type": "stream",
     "text": [
      "Enter the number of rows :- 2\n",
      "Enter the number of columns :- 4\n",
      "The matrix with  2  rows and  4  columns is \n",
      " [[0.46245641 0.12366154 0.09488269 0.49796708]\n",
      " [0.94867636 0.04679176 0.22741309 0.43348517]]\n"
     ]
    }
   ],
   "source": [
    "m = int(input('Enter the number of rows :- '))\n",
    "n = int(input('Enter the number of columns :- '))\n",
    "print('The matrix with ',m,' rows and ',n,' columns is \\n',generate_random_array(m,n))"
   ]
  },
  {
   "cell_type": "markdown",
   "metadata": {},
   "source": [
    "# Example 10 :- Typecasting elements of a list\n",
    "Write a function to typecast the elements of a list"
   ]
  },
  {
   "cell_type": "code",
   "execution_count": 28,
   "metadata": {},
   "outputs": [],
   "source": [
    "def typecast(list_entered,type_to_convert):\n",
    "    if type_to_convert =='string':\n",
    "        string_conversion = []\n",
    "        for item in list_entered:\n",
    "            string_conversion.append(str(item))\n",
    "        return string_conversion\n",
    "    elif type_to_convert == 'float':\n",
    "        return list(np.float_(np.array(list_entered)))\n",
    "    else:\n",
    "        return list(np.int_(np.array(list_entered)))"
   ]
  },
  {
   "cell_type": "code",
   "execution_count": 29,
   "metadata": {},
   "outputs": [
    {
     "name": "stdout",
     "output_type": "stream",
     "text": [
      "Enter the type into which the list is to be converted:- float\n",
      "The typecasted list is  [1.0, 2.0, 3.0, 5.0]\n"
     ]
    }
   ],
   "source": [
    "list_entered = [1,2,3,5]\n",
    "type_to_cnvrt = input('Enter the type into which the list is to be converted:- ')\n",
    "print('The typecasted list is ',typecast(list_entered,type_to_cnvrt))"
   ]
  },
  {
   "cell_type": "markdown",
   "metadata": {},
   "source": [
    "# Example 11.1 :- Norm of a one dimensional array\n",
    "write a function to create a norm of a one dimensional array"
   ]
  },
  {
   "cell_type": "code",
   "execution_count": 30,
   "metadata": {},
   "outputs": [],
   "source": [
    "def calculate_norm(list_entered):\n",
    "    array = np.float_(np.array(list_entered))\n",
    "    return np.sqrt(array.dot(array))"
   ]
  },
  {
   "cell_type": "code",
   "execution_count": 31,
   "metadata": {},
   "outputs": [
    {
     "name": "stdout",
     "output_type": "stream",
     "text": [
      "Enter list elements separated by space 1 5 8 9 7 5 6\n",
      "The norm of  ['1', '5', '8', '9', '7', '5', '6']  will be  16.76305461424021\n"
     ]
    }
   ],
   "source": [
    "\n",
    "a = input('Enter list elements separated by space ')\n",
    "a = a.split(\" \")\n",
    "print('The norm of ',a,' will be ',calculate_norm(a))"
   ]
  },
  {
   "cell_type": "markdown",
   "metadata": {},
   "source": [
    "# Example 11.2 :- Normalising an array"
   ]
  },
  {
   "cell_type": "code",
   "execution_count": 32,
   "metadata": {},
   "outputs": [],
   "source": [
    "def normalize_array(list_entered):\n",
    "    array = np.float_(np.array(list_entered))\n",
    "    return array/np.sqrt(array.dot(array))\n",
    "    "
   ]
  },
  {
   "cell_type": "code",
   "execution_count": 33,
   "metadata": {},
   "outputs": [
    {
     "name": "stdout",
     "output_type": "stream",
     "text": [
      "Enter list elements separated by space 1 5 8 7 8 4 5 1\n",
      "The norm of  ['1', '5', '8', '7', '8', '4', '5', '1']  will be  [0.06388766 0.31943828 0.51110125 0.4472136  0.51110125 0.25555063\n",
      " 0.31943828 0.06388766]\n",
      "The dot product with itself for a normalized array must be 1.\n",
      "We have  1.0\n"
     ]
    }
   ],
   "source": [
    "a = input('Enter list elements separated by space ')\n",
    "a = a.split(\" \")\n",
    "print('The norm of ',a,' will be ',normalize_array(a))\n",
    "print('The dot product with itself for a normalized array must be 1.')\n",
    "print('We have ',round(normalize_array(a).dot(normalize_array(a)),2))"
   ]
  },
  {
   "cell_type": "markdown",
   "metadata": {},
   "source": [
    "# Example 12:- Perfect numbers"
   ]
  },
  {
   "cell_type": "code",
   "execution_count": 34,
   "metadata": {},
   "outputs": [],
   "source": [
    "def perfect_numbers(nums):\n",
    "    divisors = [i for i in range(1,nums,1) if nums%i==0]\n",
    "    if sum(divisors)== nums:\n",
    "        return('Perfect number')\n",
    "    else:\n",
    "        return('Not a perfect number')\n",
    "            "
   ]
  },
  {
   "cell_type": "code",
   "execution_count": 35,
   "metadata": {},
   "outputs": [
    {
     "name": "stdout",
     "output_type": "stream",
     "text": [
      "Enter a number:- 28\n",
      "The number  28  is  Perfect number\n"
     ]
    }
   ],
   "source": [
    "number = int(input('Enter a number:- '))\n",
    "print('The number ',number,' is ',perfect_numbers(number))"
   ]
  },
  {
   "cell_type": "markdown",
   "metadata": {},
   "source": [
    "# Game :- Rock, paper and scissors "
   ]
  },
  {
   "cell_type": "code",
   "execution_count": 36,
   "metadata": {},
   "outputs": [],
   "source": [
    "def game(player1,player2):\n",
    "    if (player1 == 'Rock'):\n",
    "        result_possible = {'Rock':'Draw','Scissors':'Win','Paper':'Loose'}\n",
    "        return result_possible[player2]\n",
    "    elif player1 == 'Paper':\n",
    "        result_possible = {'Rock':'Win','Scissors':'Loose','Paper':'Draw'}\n",
    "        return result_possible[player2]\n",
    "    else:\n",
    "        result_possible = {'Rock':'Loose','Scissors':'Draw','Paper':'Win'}\n",
    "        return result_possible[player2]"
   ]
  },
  {
   "cell_type": "code",
   "execution_count": 38,
   "metadata": {},
   "outputs": [
    {
     "name": "stdout",
     "output_type": "stream",
     "text": [
      "Enter 1 for Rock, 2 for Paper and 3 for Scissors:- 2\n",
      "You selected :-  Paper\n",
      "Computer selected :-  Rock\n",
      "The outcome for you will be a :-  Win\n"
     ]
    }
   ],
   "source": [
    "options = ['Rock','Paper','Scissors']\n",
    "user_option = int(input('Enter 1 for Rock, 2 for Paper and 3 for Scissors:- '))\n",
    "user_select = options[user_option-1]\n",
    "computer_selected = options[random.randint(0,2)]\n",
    "print('You selected :- ',user_select)\n",
    "print('Computer selected :- ',computer_selected)\n",
    "print('The outcome for you will be a :- ',game(user_select,computer_selected))"
   ]
  },
  {
   "cell_type": "markdown",
   "metadata": {},
   "source": [
    "# Tournament :- Rock, Paper and Scissor games\n",
    "Enter the number of games you want to play and if you win more than 50% of it, you win the tournament"
   ]
  },
  {
   "cell_type": "code",
   "execution_count": 39,
   "metadata": {},
   "outputs": [],
   "source": [
    "def tournament(n_games):\n",
    "    user_result_board = {'draws':0,'wins':0,'loss':0}\n",
    "    for i in range(0,n_games,1):\n",
    "        options = ['Rock','Paper','Scissors']\n",
    "        user_option = int(input('Enter 1 for Rock, 2 for Paper and 3 for Scissors:- '))\n",
    "        user_select = options[user_option-1]\n",
    "        computer_selected = options[random.randint(0,2)]\n",
    "        print('You selected :- ',user_select)\n",
    "        print('Computer selected :- ',computer_selected)\n",
    "        outcome = game(user_select,computer_selected)\n",
    "        if outcome == 'Win':\n",
    "            user_result_board['wins'] = user_result_board['wins']+1\n",
    "        elif outcome =='Loose':\n",
    "            user_result_board['loss'] = user_result_board['loss']+1\n",
    "        else:\n",
    "            user_result_board['draws'] = user_result_board['draws']+1\n",
    "            \n",
    "    return user_result_board"
   ]
  },
  {
   "cell_type": "code",
   "execution_count": 40,
   "metadata": {},
   "outputs": [],
   "source": [
    "def outcome(n_games):\n",
    "    result_board = tournament(n_games)\n",
    "    if result_board['wins']>result_board['loss']:\n",
    "        print('You won ',result_board['wins'],' out of ',n_games,' Drew ',result_board['draws'],' and lost ',result_board['loss'])\n",
    "        return('You win ! Winner!! Winner! Werewolf blood for dinner !!!')\n",
    "    elif result_board['loss']>result_board['wins']:\n",
    "        print('You won ',result_board['wins'],' out of ',n_games,' Drew ',result_board['draws'],' and lost ',result_board['loss'])\n",
    "        return('You loose! Looser Looser Party Pooper !!!')\n",
    "    else:\n",
    "        print('You won ',result_board['wins'],' out of ',n_games,' Drew ',result_board['draws'],' and lost ',result_board['loss'])\n",
    "        return('That will be a draw! The witches ate your soup with a straw!!')"
   ]
  },
  {
   "cell_type": "code",
   "execution_count": 43,
   "metadata": {},
   "outputs": [
    {
     "name": "stdout",
     "output_type": "stream",
     "text": [
      "Enter the number of Games:- 3\n",
      "Enter 1 for Rock, 2 for Paper and 3 for Scissors:- 1\n",
      "You selected :-  Rock\n",
      "Computer selected :-  Paper\n",
      "Enter 1 for Rock, 2 for Paper and 3 for Scissors:- 1\n",
      "You selected :-  Rock\n",
      "Computer selected :-  Scissors\n",
      "Enter 1 for Rock, 2 for Paper and 3 for Scissors:- 1\n",
      "You selected :-  Rock\n",
      "Computer selected :-  Scissors\n",
      "You won  2  out of  3  Drew  0  and lost  1\n"
     ]
    },
    {
     "data": {
      "text/plain": [
       "'You win ! Winner!! Winner! Werewolf blood for dinner !!!'"
      ]
     },
     "execution_count": 43,
     "metadata": {},
     "output_type": "execute_result"
    }
   ],
   "source": [
    "number_games = int(input('Enter the number of Games:- '))\n",
    "outcome(number_games)"
   ]
  },
  {
   "cell_type": "code",
   "execution_count": null,
   "metadata": {},
   "outputs": [],
   "source": []
  }
 ],
 "metadata": {
  "kernelspec": {
   "display_name": "Python 3",
   "language": "python",
   "name": "python3"
  },
  "language_info": {
   "codemirror_mode": {
    "name": "ipython",
    "version": 3
   },
   "file_extension": ".py",
   "mimetype": "text/x-python",
   "name": "python",
   "nbconvert_exporter": "python",
   "pygments_lexer": "ipython3",
   "version": "3.7.3"
  }
 },
 "nbformat": 4,
 "nbformat_minor": 2
}
