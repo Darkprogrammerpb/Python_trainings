{
 "cells": [
  {
   "cell_type": "markdown",
   "metadata": {},
   "source": [
    "# Basics of object oriented programming"
   ]
  },
  {
   "cell_type": "markdown",
   "metadata": {},
   "source": [
    "1. Some Basic Definitions to be used:\n",
    "* Class :- A blueprint of an instance is called a class \n",
    "* Instance :- A constructed object of class is called as an instance. \n",
    "* Type :- Refers to the class the instance belongs to \n",
    "* Attribute :- Object value \n",
    "* Methods :- A callable attribute(or a function) defined in the class.\n"
   ]
  },
  {
   "cell_type": "markdown",
   "metadata": {},
   "source": [
    "# Initializing an empty class"
   ]
  },
  {
   "cell_type": "code",
   "execution_count": 2,
   "metadata": {},
   "outputs": [
    {
     "name": "stdout",
     "output_type": "stream",
     "text": [
      "<__main__.Myclass object at 0x000001C3D6750320>\n"
     ]
    }
   ],
   "source": [
    "class Myclass(object): \n",
    "        pass \n",
    "    \n",
    "this_obj=Myclass() \n",
    "print(this_obj) "
   ]
  },
  {
   "cell_type": "markdown",
   "metadata": {},
   "source": [
    "# Accessing the attributes of a class"
   ]
  },
  {
   "cell_type": "code",
   "execution_count": 3,
   "metadata": {},
   "outputs": [
    {
     "name": "stdout",
     "output_type": "stream",
     "text": [
      "10\n"
     ]
    }
   ],
   "source": [
    "class Myclass(object): \n",
    "    var=10    \n",
    "this_object=Myclass() \n",
    "print (this_object.var)"
   ]
  },
  {
   "cell_type": "markdown",
   "metadata": {},
   "source": [
    "# Understanding class key points:\n",
    "* An instance of a class knows what class it is from \n",
    "* Variables defined in the class are available to the instance"
   ]
  },
  {
   "cell_type": "markdown",
   "metadata": {},
   "source": [
    "# Understanding Methods in class\n",
    "Whenever we call a method on an instance, the instance is passed as the first argument by default. This is the reason why callme function in class Joe apperars with self as an argument.\n",
    "* Instance methods are variables defined in the class and are accessed through the instance (instance.method()) \n",
    "* When called through instance, the instance is passed automatically as the first argument to the method. \n",
    "* Because of this automatic passing of instance, instance methods are known as 'bound methods' i.e., bond to the instance upon which it is called.\n",
    "\n",
    "Important takeaway:- A method on an instance passes instance as the first argument to the method(named self in the method)\n"
   ]
  },
  {
   "cell_type": "code",
   "execution_count": 4,
   "metadata": {},
   "outputs": [
    {
     "name": "stdout",
     "output_type": "stream",
     "text": [
      "calling callme method with instance\n"
     ]
    }
   ],
   "source": [
    "class Joe(object): \n",
    "        def callme(self): \n",
    "            print('calling callme method with instance')\n",
    "thisjoe=Joe() \n",
    "thisjoe.callme()\n"
   ]
  },
  {
   "cell_type": "markdown",
   "metadata": {},
   "source": [
    "# Definition of an Object:\n",
    "An object is a unit of data(having one or more attributes) of a particular class or type with associated functionality(methods)\n"
   ]
  },
  {
   "cell_type": "code",
   "execution_count": 5,
   "metadata": {},
   "outputs": [
    {
     "name": "stdout",
     "output_type": "stream",
     "text": [
      "1\n"
     ]
    }
   ],
   "source": [
    "import random \n",
    "class Myclass(object): \n",
    "    def do_this(self): \n",
    "        self.rand_val=random.randint(1,10)\n",
    "myinst=Myclass() \n",
    "myinst.do_this() \n",
    "print(myinst.rand_val)\n"
   ]
  },
  {
   "cell_type": "markdown",
   "metadata": {},
   "source": [
    "## Takeaways from the example:\n",
    "* An instance can access variables defined in the class. \n",
    "* An instance can also get and set values in itself. \n",
    "* Because these values change according to what happens to the object, we call these values state. \n",
    "* Instance data takes the form of instance attribute values, set and accessed through object.attribute syntax. \n",
    "\n",
    "### Instances have their own data, called instance attributes.\n"
   ]
  },
  {
   "cell_type": "code",
   "execution_count": null,
   "metadata": {},
   "outputs": [],
   "source": []
  }
 ],
 "metadata": {
  "kernelspec": {
   "display_name": "Python 3",
   "language": "python",
   "name": "python3"
  },
  "language_info": {
   "codemirror_mode": {
    "name": "ipython",
    "version": 3
   },
   "file_extension": ".py",
   "mimetype": "text/x-python",
   "name": "python",
   "nbconvert_exporter": "python",
   "pygments_lexer": "ipython3",
   "version": "3.7.3"
  }
 },
 "nbformat": 4,
 "nbformat_minor": 2
}
