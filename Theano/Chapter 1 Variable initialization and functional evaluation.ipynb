{
 "cells": [
  {
   "cell_type": "markdown",
   "metadata": {},
   "source": [
    "Here we will be discussing some basics of Theano. It is a deep learning python library lets you to perform various operations on mathematical expressions."
   ]
  },
  {
   "cell_type": "markdown",
   "metadata": {},
   "source": [
    "To install the current version of Theano where the below mentioned exercises will be possible, kindly run the command to install the version 1.0.4 of Theano:-\n",
    "\n",
    "pip install Theano==1.0.4 "
   ]
  },
  {
   "cell_type": "code",
   "execution_count": 2,
   "metadata": {},
   "outputs": [
    {
     "name": "stdout",
     "output_type": "stream",
     "text": [
      "Here we import the theano library first.\n",
      "The second import is used for importing tensors because every variable declaration is made in form of a theano tensor,to perform the calculations on the expressions defined on them.\n"
     ]
    }
   ],
   "source": [
    "import theano \n",
    "import theano.tensor as T\n",
    "print('Here we import the theano library first.')\n",
    "print('The second import is used for importing tensors because every variable declaration is made in form of a theano tensor,\\\n",
    "to perform the calculations on the expressions defined on them.')"
   ]
  },
  {
   "cell_type": "markdown",
   "metadata": {},
   "source": [
    "# Step 1:- Declaration of variables \n",
    "We will first declare the type of variables before using them in actual program. This is done in the following way"
   ]
  },
  {
   "cell_type": "code",
   "execution_count": 7,
   "metadata": {},
   "outputs": [
    {
     "name": "stdout",
     "output_type": "stream",
     "text": [
      "The variable a is created with name:-  a_scalar\n",
      "The type of value stored in a will be:-  <class 'theano.tensor.var.TensorVariable'>\n"
     ]
    }
   ],
   "source": [
    "a = T.scalar('a_scalar')   \n",
    "print('The variable a is created with name:- ', a)\n",
    "print('The type of value stored in a will be:- ',type(a))"
   ]
  },
  {
   "cell_type": "markdown",
   "metadata": {},
   "source": [
    "# Step2:- Declaration of expressions\n",
    "We will declare the expressions where the declared variable will be used"
   ]
  },
  {
   "cell_type": "code",
   "execution_count": 13,
   "metadata": {},
   "outputs": [
    {
     "name": "stdout",
     "output_type": "stream",
     "text": [
      "The above expression multiplies a with itself. Here a had been declared in the previous block of code.\n",
      "Elemwise{mul,no_inplace}.0\n"
     ]
    }
   ],
   "source": [
    "z = a*a\n",
    "print('The above expression multiplies a with itself. Here a had been declared in the previous block of code.')\n",
    "print(z)"
   ]
  },
  {
   "cell_type": "markdown",
   "metadata": {},
   "source": [
    "# Step3 :- Declaration of functions to evaluate the expressions\n",
    "Here we will declare the functions to evaluate the expressions "
   ]
  },
  {
   "cell_type": "code",
   "execution_count": 14,
   "metadata": {},
   "outputs": [
    {
     "name": "stdout",
     "output_type": "stream",
     "text": [
      "The theano function will be used which has the input argument taking inputs in form of a list.\n",
      "The output will be the expression to evaluate\n"
     ]
    }
   ],
   "source": [
    "square_of_a = theano.function(inputs = [a],outputs=z)\n",
    "print('The theano function will be used which has the input argument taking inputs in form of a list.')\n",
    "print('The output will be the expression to evaluate')\n"
   ]
  },
  {
   "cell_type": "markdown",
   "metadata": {},
   "source": [
    "# Step 4:- Performing calculations\n",
    "Here we will finally perform a basic calculation of the above mentioned theano function"
   ]
  },
  {
   "cell_type": "code",
   "execution_count": 15,
   "metadata": {},
   "outputs": [
    {
     "name": "stdout",
     "output_type": "stream",
     "text": [
      "The square of 35 will be  1225.0\n"
     ]
    }
   ],
   "source": [
    "print('The square of 35 will be ',square_of_a(35))"
   ]
  },
  {
   "cell_type": "markdown",
   "metadata": {},
   "source": [
    "# Summarizing all the steps using an example\n",
    "### Let us take two scalars and then get the result which is the sum of two scalars"
   ]
  },
  {
   "cell_type": "code",
   "execution_count": 11,
   "metadata": {},
   "outputs": [
    {
     "name": "stdout",
     "output_type": "stream",
     "text": [
      "Similarly we define other types of variables that will be of our interest!\n",
      "Let us create two scalars and perform operations on them!\n",
      "We defined the variables above! We completed the variable definition step!\n",
      "We completed the expression definition step and our expression should be to add two variables that are scalars\n",
      "We just defined a function that will enable that operation above! scalar_add is a theano function that will takea and b as inputs and then output the outcome of expression defined in c\n",
      "We will now ask for user inputs\n",
      "Enter the first number(scalar):- 12\n",
      "Enter the second number(scalar):- 3\n",
      "The addition of two numbers results in:-  15.0\n"
     ]
    }
   ],
   "source": [
    "print('Similarly we define other types of variables that will be of our interest!')\n",
    "print('Let us create two scalars and perform operations on them!')\n",
    "a = T.scalar('a_scalar')\n",
    "b = T.scalar('b_scalar')\n",
    "print('We defined the variables above! We completed the variable definition step!')\n",
    "\n",
    "c = a+b\n",
    "print('We completed the expression definition step and our expression should be to add two variables that are scalars')\n",
    "\n",
    "scalar_add = theano.function(inputs= [a,b],outputs=c)\n",
    "print('We just defined a function that will enable that operation above! scalar_add is a theano function that will take\\\n",
    "a and b as inputs and then output the outcome of expression defined in c')\n",
    "\n",
    "print('We will now ask for user inputs')\n",
    "\n",
    "num1 = int(input('Enter the first number(scalar):- '))\n",
    "num2 = int(input('Enter the second number(scalar):- '))\n",
    "\n",
    "print('The addition of two numbers results in:- ',scalar_add(num1,num2))"
   ]
  },
  {
   "cell_type": "code",
   "execution_count": null,
   "metadata": {},
   "outputs": [],
   "source": []
  }
 ],
 "metadata": {
  "kernelspec": {
   "display_name": "Python 3",
   "language": "python",
   "name": "python3"
  },
  "language_info": {
   "codemirror_mode": {
    "name": "ipython",
    "version": 3
   },
   "file_extension": ".py",
   "mimetype": "text/x-python",
   "name": "python",
   "nbconvert_exporter": "python",
   "pygments_lexer": "ipython3",
   "version": "3.7.3"
  }
 },
 "nbformat": 4,
 "nbformat_minor": 2
}
