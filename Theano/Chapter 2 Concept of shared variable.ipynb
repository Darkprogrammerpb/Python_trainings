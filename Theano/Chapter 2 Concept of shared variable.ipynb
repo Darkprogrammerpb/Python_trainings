{
 "cells": [
  {
   "cell_type": "markdown",
   "metadata": {},
   "source": [
    "As per theano's documentation, a shared variable is 'Variable with Storage that is shared between functions that it appears in'. We generally use the shared variables only when we need to update its value in an expression called by a function"
   ]
  },
  {
   "cell_type": "code",
   "execution_count": 1,
   "metadata": {},
   "outputs": [],
   "source": [
    "import theano \n",
    "import numpy as np\n",
    "import theano.tensor as T"
   ]
  },
  {
   "cell_type": "code",
   "execution_count": 2,
   "metadata": {},
   "outputs": [
    {
     "name": "stdout",
     "output_type": "stream",
     "text": [
      "The above example creates a theano shared variable named x with an initial value of 0.0 and name x_value(Declaration stage)\n"
     ]
    }
   ],
   "source": [
    "x = theano.shared(0.0,'x_value')\n",
    "print('The above example creates a theano shared variable named x with an initial value of 0.0 and name x_value(Declaration stage)')"
   ]
  },
  {
   "cell_type": "code",
   "execution_count": 3,
   "metadata": {},
   "outputs": [
    {
     "name": "stdout",
     "output_type": "stream",
     "text": [
      "We create a function where the shared variable will be used.\n"
     ]
    }
   ],
   "source": [
    "print('We create a function where the shared variable will be used.')\n",
    "expression_to_compute  = T.arctan(x)"
   ]
  },
  {
   "cell_type": "code",
   "execution_count": 4,
   "metadata": {},
   "outputs": [
    {
     "name": "stdout",
     "output_type": "stream",
     "text": [
      "Here we will perform an updation step. This means how the value of x will be changed at successive updates.\n",
      "We will just increment the value of x by 1\n"
     ]
    }
   ],
   "source": [
    "print('Here we will perform an updation step. This means how the value of x will be changed at successive updates.')\n",
    "x_update = x+1\n",
    "print('We will just increment the value of x by 1')"
   ]
  },
  {
   "cell_type": "code",
   "execution_count": 5,
   "metadata": {},
   "outputs": [
    {
     "name": "stdout",
     "output_type": "stream",
     "text": [
      "We wrote a function that has 3 parameters. The last parameter will consider the values to take and the values to update.\n"
     ]
    }
   ],
   "source": [
    "function_to_compute = theano.function(inputs=[], outputs=expression_to_compute, updates=[(x, x_update)])\n",
    "print('We wrote a function that has 3 parameters. The last parameter will consider the values to take and the values to update.')\n"
   ]
  },
  {
   "cell_type": "code",
   "execution_count": 6,
   "metadata": {},
   "outputs": [
    {
     "name": "stdout",
     "output_type": "stream",
     "text": [
      "We now compute the arctan function from x=0 till x=20 \n"
     ]
    }
   ],
   "source": [
    "print('We now compute the arctan function from x=0 till x=20 ')\n",
    "yvalues = []\n",
    "for i in range(0,21,1):\n",
    "    yvalues.append(function_to_compute())\n",
    "    \n",
    "xvalues = list(range(0,21,1))"
   ]
  },
  {
   "cell_type": "code",
   "execution_count": 7,
   "metadata": {},
   "outputs": [
    {
     "name": "stdout",
     "output_type": "stream",
     "text": [
      "we will now see how the arctan function looks graphically \n"
     ]
    },
    {
     "data": {
      "image/png": "[encoded data removed]",
      "text/plain": [
       "<Figure size 432x288 with 1 Axes>"
      ]
     },
     "metadata": {
      "needs_background": "light"
     },
     "output_type": "display_data"
    }
   ],
   "source": [
    "print('we will now see how the arctan function looks graphically ')\n",
    "import matplotlib.pyplot as plt\n",
    "%matplotlib inline\n",
    "plt.plot(xvalues,yvalues)\n",
    "plt.show()"
   ]
  },
  {
   "cell_type": "markdown",
   "metadata": {},
   "source": [
    "# Computation of minimum value of a function using gradient descent \n",
    "\n",
    "### Here we find the minima of a function with a learning rate of 0.1 and maximum steps =25\n"
   ]
  },
  {
   "cell_type": "code",
   "execution_count": 8,
   "metadata": {},
   "outputs": [],
   "source": [
    "## step 1:- variable declaration\n",
    "x = theano.shared(1.0,'xvalue')\n",
    "\n",
    "#step 2:- Function to minimize\n",
    "expression_to_eval = 1*x-T.arctan(x*2)+x**2+1\n",
    "\n",
    "# Step 3:- Updation rule to be followed \n",
    "x_update = x-0.1*T.grad(expression_to_eval,x)\n",
    "\n",
    "# Step 4:- Function to wrap the updation rule and evaluation of the expression formed at step2 and step 3 \n",
    "evaluate = theano.function(inputs=[], outputs=expression_to_eval,updates=[(x,x_update)])\n",
    "\n",
    "# Step 5:- Calling the theano function in a loop \n",
    "min_values = []\n",
    "for i in range(1,21,1):\n",
    "    min_values.append(evaluate())\n",
    "x_range = list(range(1,21,1))"
   ]
  },
  {
   "cell_type": "code",
   "execution_count": 9,
   "metadata": {},
   "outputs": [
    {
     "name": "stdout",
     "output_type": "stream",
     "text": [
      "We can clearly see that the values tend to minimise and then be stable at  0.8477589275165133\n"
     ]
    },
    {
     "data": {
      "image/png": "[encoded data removed]",
      "text/plain": [
       "<Figure size 432x288 with 1 Axes>"
      ]
     },
     "metadata": {
      "needs_background": "light"
     },
     "output_type": "display_data"
    }
   ],
   "source": [
    "print('We can clearly see that the values tend to minimise and then be stable at ',min_values[-1])\n",
    "plt.plot(x_range,min_values)\n",
    "plt.show()"
   ]
  },
  {
   "cell_type": "code",
   "execution_count": null,
   "metadata": {},
   "outputs": [],
   "source": []
  },
  {
   "cell_type": "code",
   "execution_count": null,
   "metadata": {},
   "outputs": [],
   "source": []
  },
  {
   "cell_type": "code",
   "execution_count": null,
   "metadata": {},
   "outputs": [],
   "source": []
  }
 ],
 "metadata": {
  "kernelspec": {
   "display_name": "Python 3",
   "language": "python",
   "name": "python3"
  },
  "language_info": {
   "codemirror_mode": {
    "name": "ipython",
    "version": 3
   },
   "file_extension": ".py",
   "mimetype": "text/x-python",
   "name": "python",
   "nbconvert_exporter": "python",
   "pygments_lexer": "ipython3",
   "version": "3.7.3"
  }
 },
 "nbformat": 4,
 "nbformat_minor": 2
}
