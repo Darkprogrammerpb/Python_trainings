{
  "nbformat": 4,
  "nbformat_minor": 0,
  "metadata": {
    "colab": {
      "name": "pyspark_trial_part4.ipynb",
      "provenance": [],
      "collapsed_sections": []
    },
    "kernelspec": {
      "name": "python3",
      "display_name": "Python 3"
    }
  },
  "cells": [
    {
      "cell_type": "code",
      "metadata": {
        "id": "oIi7SOuYRzAZ",
        "colab_type": "code",
        "colab": {}
      },
      "source": [
        "########## Run this code snippet when running for the first time and don't repeat it in future (else it will keep on downloading the same stuffs again and again and\n",
        "########## result in redundant usage of memory)\n",
        "\n",
        "!apt-get install openjdk-8-jdk-headless -qq > /dev/null\n",
        "!wget -q http://apachemirror.wuchna.com/spark/spark-2.4.4/spark-2.4.4-bin-hadoop2.7.tgz\n",
        "!tar xf spark-2.4.4-bin-hadoop2.7.tgz\n",
        "!pip install -q findspark"
      ],
      "execution_count": 0,
      "outputs": []
    },
    {
      "cell_type": "code",
      "metadata": {
        "id": "QptFLDDnT5hR",
        "colab_type": "code",
        "colab": {}
      },
      "source": [
        "import os\n",
        "import findspark\n",
        "import pandas as pd\n",
        "import random\n",
        "import numpy as np\n",
        "os.environ[\"JAVA_HOME\"]   = \"/usr/lib/jvm/java-8-openjdk-amd64\"\n",
        "os.environ[\"SPARK_HOME\"]  = \"/content/spark-2.4.4-bin-hadoop2.7\"\n",
        "findspark.init(\"spark-2.4.4-bin-hadoop2.7\")# SPARK_HOME\n",
        "from pyspark.sql import SparkSession\n",
        "from pyspark.sql import *\n",
        "from pyspark.sql.functions import *\n",
        "from pyspark.sql.types import *\n",
        "spark                      = SparkSession.builder.master(\"local[*]\").getOrCreate()"
      ],
      "execution_count": 0,
      "outputs": []
    },
    {
      "cell_type": "code",
      "metadata": {
        "id": "6xkJwv2iUEIE",
        "colab_type": "code",
        "outputId": "17bc36ef-79b7-4175-ab19-6db3e2341f49",
        "colab": {
          "base_uri": "https://localhost:8080/",
          "height": 201
        }
      },
      "source": [
        "pathname = '/content/sample_data.csv'\n",
        "df = spark.read.csv(pathname,header=True,inferSchema=True)\n",
        "df = df.dropna(how='all')\n",
        "df.show(3)"
      ],
      "execution_count": 0,
      "outputs": [
        {
          "output_type": "stream",
          "text": [
            "+--------+------+-------+----------+---------+-------------+---------------+-----------------+----------+----------------+--------------+-------------+-----------+\n",
            "| Loan_ID|Gender|Married|Dependents|Education|Self_Employed|ApplicantIncome|CoapplicantIncome|LoanAmount|Loan_Amount_Term|Credit_History|Property_Area|Loan_Status|\n",
            "+--------+------+-------+----------+---------+-------------+---------------+-----------------+----------+----------------+--------------+-------------+-----------+\n",
            "|LP001002|  Male|     No|         0| Graduate|           No|           5849|              0.0|      null|             360|             1|        Urban|          Y|\n",
            "|LP001003|  Male|    Yes|         1| Graduate|           No|           4583|           1508.0|       128|             360|             1|        Rural|          N|\n",
            "|LP001005|  Male|    Yes|         0| Graduate|          Yes|           3000|              0.0|        66|             360|             1|        Urban|          Y|\n",
            "+--------+------+-------+----------+---------+-------------+---------------+-----------------+----------+----------------+--------------+-------------+-----------+\n",
            "only showing top 3 rows\n",
            "\n"
          ],
          "name": "stdout"
        }
      ]
    },
    {
      "cell_type": "markdown",
      "metadata": {
        "id": "S27RzOcHi19s",
        "colab_type": "text"
      },
      "source": [
        "## Some common aggregate functions"
      ]
    },
    {
      "cell_type": "code",
      "metadata": {
        "id": "zzS7KeQ3UTQT",
        "colab_type": "code",
        "outputId": "a1ae01e4-7ab7-4d12-831c-4796a52e2ee1",
        "colab": {
          "base_uri": "https://localhost:8080/",
          "height": 889
        }
      },
      "source": [
        "df.select(sum(df['ApplicantIncome'])).show()\n",
        "df.select(max(df['ApplicantIncome'])).show()\n",
        "df.select(count(df['Property_Area'])).show()\n",
        "df.select(mean(df['ApplicantIncome'])).show()\n",
        "df.select(sumDistinct(df['ApplicantIncome'])).show()\n",
        "df.select(first(df['ApplicantIncome'])).show()\n",
        "df.select(last(df['ApplicantIncome'])).show()\n",
        "df.select(countDistinct(df['Property_Area'])).show()"
      ],
      "execution_count": 0,
      "outputs": [
        {
          "output_type": "stream",
          "text": [
            "+--------------------+\n",
            "|sum(ApplicantIncome)|\n",
            "+--------------------+\n",
            "|             3317724|\n",
            "+--------------------+\n",
            "\n",
            "+--------------------+\n",
            "|max(ApplicantIncome)|\n",
            "+--------------------+\n",
            "|               81000|\n",
            "+--------------------+\n",
            "\n",
            "+--------------------+\n",
            "|count(Property_Area)|\n",
            "+--------------------+\n",
            "|                 614|\n",
            "+--------------------+\n",
            "\n",
            "+--------------------+\n",
            "|avg(ApplicantIncome)|\n",
            "+--------------------+\n",
            "|   5403.459283387622|\n",
            "+--------------------+\n",
            "\n",
            "+-----------------------------+\n",
            "|sum(DISTINCT ApplicantIncome)|\n",
            "+-----------------------------+\n",
            "|                      2859142|\n",
            "+-----------------------------+\n",
            "\n",
            "+-----------------------------+\n",
            "|first(ApplicantIncome, false)|\n",
            "+-----------------------------+\n",
            "|                         5849|\n",
            "+-----------------------------+\n",
            "\n",
            "+----------------------------+\n",
            "|last(ApplicantIncome, false)|\n",
            "+----------------------------+\n",
            "|                        4583|\n",
            "+----------------------------+\n",
            "\n",
            "+-----------------------------+\n",
            "|count(DISTINCT Property_Area)|\n",
            "+-----------------------------+\n",
            "|                            3|\n",
            "+-----------------------------+\n",
            "\n"
          ],
          "name": "stdout"
        }
      ]
    },
    {
      "cell_type": "markdown",
      "metadata": {
        "id": "pKpwVA1Hi9MJ",
        "colab_type": "text"
      },
      "source": [
        "## Compute the lag of a time series using windows "
      ]
    },
    {
      "cell_type": "code",
      "metadata": {
        "id": "rkWjrI12UwrI",
        "colab_type": "code",
        "outputId": "176fa377-c5cd-4086-c925-ee79e0a72c67",
        "colab": {
          "base_uri": "https://localhost:8080/",
          "height": 562
        }
      },
      "source": [
        "data1   = [(1,15),\n",
        "           (2,20),\n",
        "           (5,66),\n",
        "           (3,36),\n",
        "           (4,45)]\n",
        "df11 = spark.createDataFrame(data1,(\"timeindex\",\"value\"))\n",
        "df11.show()\n",
        "my_window = Window.partitionBy().orderBy(\"timeindex\")\n",
        "df11 = df11.withColumn(\"prev_value\", lag(df11['value']).over(my_window))\n",
        "df11.show()\n",
        "df11 = df11.withColumn(\"diff\", when(isnull(df11['value'] - df11['prev_value']),'null')\n",
        "                              .otherwise(df11['value'] - df11['prev_value']))\n",
        "df11.show()"
      ],
      "execution_count": 0,
      "outputs": [
        {
          "output_type": "stream",
          "text": [
            "+---------+-----+\n",
            "|timeindex|value|\n",
            "+---------+-----+\n",
            "|        1|   15|\n",
            "|        2|   20|\n",
            "|        5|   66|\n",
            "|        3|   36|\n",
            "|        4|   45|\n",
            "+---------+-----+\n",
            "\n",
            "+---------+-----+----------+\n",
            "|timeindex|value|prev_value|\n",
            "+---------+-----+----------+\n",
            "|        1|   15|      null|\n",
            "|        2|   20|        15|\n",
            "|        3|   36|        20|\n",
            "|        4|   45|        36|\n",
            "|        5|   66|        45|\n",
            "+---------+-----+----------+\n",
            "\n",
            "+---------+-----+----------+----+\n",
            "|timeindex|value|prev_value|diff|\n",
            "+---------+-----+----------+----+\n",
            "|        1|   15|      null|null|\n",
            "|        2|   20|        15|   5|\n",
            "|        3|   36|        20|  16|\n",
            "|        4|   45|        36|   9|\n",
            "|        5|   66|        45|  21|\n",
            "+---------+-----+----------+----+\n",
            "\n"
          ],
          "name": "stdout"
        }
      ]
    },
    {
      "cell_type": "markdown",
      "metadata": {
        "id": "YlKVIqGFjJP4",
        "colab_type": "text"
      },
      "source": [
        "## Ranking using windows "
      ]
    },
    {
      "cell_type": "code",
      "metadata": {
        "id": "sshWSL9oV2Rx",
        "colab_type": "code",
        "outputId": "8cc40bd8-e546-43a2-d46f-26d4ca50b7fe",
        "colab": {
          "base_uri": "https://localhost:8080/",
          "height": 199
        }
      },
      "source": [
        "data1   = [('A',1),\n",
        "           ('B',5),\n",
        "           ('C',5),\n",
        "           ('D',3),\n",
        "           ('E',1)]\n",
        "df12 = spark.createDataFrame(data1,(\"person\",\"Score\"))\n",
        "my_window = Window.partitionBy().orderBy(\"Score\")\n",
        "df12 = df12.withColumn(\"dense_rank\", dense_rank().over(my_window))\n",
        "df12= df12.withColumn(\"rank\", rank().over(my_window))\n",
        "df12= df12.withColumn(\"percent_rank\", percent_rank().over(my_window))\n",
        "df12= df12.withColumn(\"ntile\", ntile(4).over(my_window))\n",
        "df12 = df12.withColumn('Greatest_rank',greatest(df12['dense_rank'],df12['rank']))\n",
        "df12 = df12.withColumn('Lowest_rank',least(df12['dense_rank'],df12['rank']))\n",
        "df12.show()"
      ],
      "execution_count": 0,
      "outputs": [
        {
          "output_type": "stream",
          "text": [
            "+------+-----+----------+----+------------+-----+-------------+-----------+\n",
            "|person|Score|dense_rank|rank|percent_rank|ntile|Greatest_rank|Lowest_rank|\n",
            "+------+-----+----------+----+------------+-----+-------------+-----------+\n",
            "|     A|    1|         1|   1|         0.0|    1|            1|          1|\n",
            "|     E|    1|         1|   1|         0.0|    1|            1|          1|\n",
            "|     D|    3|         2|   3|         0.5|    2|            3|          2|\n",
            "|     B|    5|         3|   4|        0.75|    3|            4|          3|\n",
            "|     C|    5|         3|   4|        0.75|    4|            4|          3|\n",
            "+------+-----+----------+----+------------+-----+-------------+-----------+\n",
            "\n"
          ],
          "name": "stdout"
        }
      ]
    },
    {
      "cell_type": "markdown",
      "metadata": {
        "id": "pBQyk4nDjSOe",
        "colab_type": "text"
      },
      "source": [
        "## Collect list using collect_list and collect_set"
      ]
    },
    {
      "cell_type": "code",
      "metadata": {
        "id": "KO-28scCeWQZ",
        "colab_type": "code",
        "colab": {}
      },
      "source": [
        "data1   = [('A',1),('A',3),('A',7),('A',7),\n",
        "           ('B',5),('B',1),('B',12),('B',3),\n",
        "           ('C',5),('C',5),\n",
        "           ('D',3),('D',15),('D',4),\n",
        "           ('E',1),('E',2),('E',9)]\n",
        "df13 = spark.createDataFrame(data1,(\"person\",\"Score\"))"
      ],
      "execution_count": 0,
      "outputs": []
    },
    {
      "cell_type": "code",
      "metadata": {
        "id": "PAj1O9gte86b",
        "colab_type": "code",
        "outputId": "2cf91cad-9c59-47bd-f633-74bd3dafe510",
        "colab": {
          "base_uri": "https://localhost:8080/",
          "height": 380
        }
      },
      "source": [
        "df13.groupBy(df13['person']).agg(collect_list('Score')).show()\n",
        "df13.groupBy(df13['person']).agg(collect_set('Score')).show()"
      ],
      "execution_count": 0,
      "outputs": [
        {
          "output_type": "stream",
          "text": [
            "+------+-------------------+\n",
            "|person|collect_list(Score)|\n",
            "+------+-------------------+\n",
            "|     E|          [1, 2, 9]|\n",
            "|     B|      [5, 1, 12, 3]|\n",
            "|     D|         [3, 15, 4]|\n",
            "|     C|             [5, 5]|\n",
            "|     A|       [1, 3, 7, 7]|\n",
            "+------+-------------------+\n",
            "\n",
            "+------+------------------+\n",
            "|person|collect_set(Score)|\n",
            "+------+------------------+\n",
            "|     E|         [9, 1, 2]|\n",
            "|     B|     [12, 1, 5, 3]|\n",
            "|     D|        [15, 3, 4]|\n",
            "|     C|               [5]|\n",
            "|     A|         [1, 3, 7]|\n",
            "+------+------------------+\n",
            "\n"
          ],
          "name": "stdout"
        }
      ]
    },
    {
      "cell_type": "code",
      "metadata": {
        "id": "LJ3iFhIIfNcX",
        "colab_type": "code",
        "outputId": "efc496eb-65c5-4134-b737-41ca82713b9c",
        "colab": {
          "base_uri": "https://localhost:8080/",
          "height": 399
        }
      },
      "source": [
        "w = Window.partitionBy('person').rowsBetween(Window.unboundedPreceding, Window.unboundedFollowing)\n",
        "df13.withColumn('total_score', sum(df13['Score']).over(w)).show()  "
      ],
      "execution_count": 0,
      "outputs": [
        {
          "output_type": "stream",
          "text": [
            "+------+-----+-----------+\n",
            "|person|Score|total_score|\n",
            "+------+-----+-----------+\n",
            "|     E|    1|         12|\n",
            "|     E|    2|         12|\n",
            "|     E|    9|         12|\n",
            "|     B|    5|         21|\n",
            "|     B|    1|         21|\n",
            "|     B|   12|         21|\n",
            "|     B|    3|         21|\n",
            "|     D|    3|         22|\n",
            "|     D|   15|         22|\n",
            "|     D|    4|         22|\n",
            "|     C|    5|         10|\n",
            "|     C|    5|         10|\n",
            "|     A|    1|         18|\n",
            "|     A|    3|         18|\n",
            "|     A|    7|         18|\n",
            "|     A|    7|         18|\n",
            "+------+-----+-----------+\n",
            "\n"
          ],
          "name": "stdout"
        }
      ]
    },
    {
      "cell_type": "code",
      "metadata": {
        "id": "O37Y5lBlhcXY",
        "colab_type": "code",
        "colab": {}
      },
      "source": [
        ""
      ],
      "execution_count": 0,
      "outputs": []
    }
  ]
}