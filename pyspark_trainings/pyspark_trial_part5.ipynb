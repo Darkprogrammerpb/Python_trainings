{
  "nbformat": 4,
  "nbformat_minor": 0,
  "metadata": {
    "colab": {
      "name": "pyspark_trial_part5.ipynb",
      "provenance": [],
      "collapsed_sections": []
    },
    "kernelspec": {
      "name": "python3",
      "display_name": "Python 3"
    }
  },
  "cells": [
    {
      "cell_type": "code",
      "metadata": {
        "id": "y5is1WxJjhL-",
        "colab_type": "code",
        "colab": {}
      },
      "source": [
        "########## Run this code snippet when running for the first time and don't repeat it in future (else it will keep on downloading the same stuffs again and again and\n",
        "########## result in redundant usage of memory)\n",
        "\n",
        "!apt-get install openjdk-8-jdk-headless -qq > /dev/null\n",
        "!wget -q http://apachemirror.wuchna.com/spark/spark-2.4.4/spark-2.4.4-bin-hadoop2.7.tgz\n",
        "!tar xf spark-2.4.4-bin-hadoop2.7.tgz\n",
        "!pip install -q findspark"
      ],
      "execution_count": 0,
      "outputs": []
    },
    {
      "cell_type": "code",
      "metadata": {
        "id": "c7ZkrBfJjn7n",
        "colab_type": "code",
        "colab": {}
      },
      "source": [
        "import os\n",
        "import findspark\n",
        "import pandas as pd\n",
        "import random\n",
        "import string\n",
        "import numpy as np\n",
        "os.environ[\"JAVA_HOME\"]   = \"/usr/lib/jvm/java-8-openjdk-amd64\"\n",
        "os.environ[\"SPARK_HOME\"]  = \"/content/spark-2.4.4-bin-hadoop2.7\"\n",
        "findspark.init(\"spark-2.4.4-bin-hadoop2.7\")# SPARK_HOME\n",
        "from pyspark.sql import SparkSession\n",
        "from pyspark.sql import *\n",
        "from pyspark.sql.functions import *\n",
        "from pyspark.sql.types import *\n",
        "spark                      = SparkSession.builder.master(\"local[*]\").getOrCreate()"
      ],
      "execution_count": 0,
      "outputs": []
    },
    {
      "cell_type": "code",
      "metadata": {
        "id": "RUq4pBDpmPPK",
        "colab_type": "code",
        "outputId": "1deb5533-fe97-4ada-8de6-5092b62121c1",
        "colab": {
          "base_uri": "https://localhost:8080/",
          "height": 181
        }
      },
      "source": [
        "pdf = pd.DataFrame(columns=['Index','strings'])\n",
        "pdf['Index']  = [100,101,102,103]\n",
        "pdf['strings'] = [''.join([str(elem) for elem in random.choices(string.ascii_letters,k=8)]) for j in range(4)]\n",
        "pdf['left_space'] = ['   '+''.join([str(elem) for elem in random.choices(string.ascii_letters,k=8)]) for j in range(4)]\n",
        "pdf['right_space'] = [''.join([str(elem) for elem in random.choices(string.ascii_letters,k=8)])+'    ' for j in range(4)]\n",
        "pdf['delim_string'] = ['.'.join([str(elem) for elem in random.choices(string.ascii_letters,k=8)]) for j in range(4)]\n",
        "pdf['alpha_numerics'] = [''.join([str(elem) for elem in random.choices(string.ascii_letters+string.digits,k=10)]) for j in range(4)]\n",
        "df = spark.createDataFrame(pdf)\n",
        "df.show(truncate=False)"
      ],
      "execution_count": 0,
      "outputs": [
        {
          "output_type": "stream",
          "text": [
            "+-----+--------+-----------+------------+---------------+--------------+\n",
            "|Index|strings |left_space |right_space |delim_string   |alpha_numerics|\n",
            "+-----+--------+-----------+------------+---------------+--------------+\n",
            "|100  |uoNFkLox|   HAJxbNfv|iPtTsupf    |E.o.W.I.E.g.G.i|tOVruNgNig    |\n",
            "|101  |EiiFPRoQ|   oXcyEsgR|vtGhiunc    |o.v.D.z.V.l.F.Y|o3w9CereQ4    |\n",
            "|102  |NDaNERFA|   htyNjYjZ|XDJGjVnv    |k.a.r.Y.a.r.r.C|W4X8aYFMdg    |\n",
            "|103  |ceKGKzgn|   TitMuPIS|HvlcJtGC    |z.a.z.Q.v.Y.r.v|JAbosZ4vKd    |\n",
            "+-----+--------+-----------+------------+---------------+--------------+\n",
            "\n"
          ],
          "name": "stdout"
        }
      ]
    },
    {
      "cell_type": "code",
      "metadata": {
        "id": "xNSvRU3L77kl",
        "colab_type": "code",
        "outputId": "9cf14517-706e-41ca-8d1c-1381e58225d4",
        "colab": {
          "base_uri": "https://localhost:8080/",
          "height": 201
        }
      },
      "source": [
        "df = df.withColumn('lower_string',lower(df['strings']))\n",
        "df = df.withColumn('upper_string',upper(df['strings']))\n",
        "df = df.withColumn('initialized_with_cap',initcap(df['strings']))\n",
        "df = df.withColumn('length_string',length(df['strings']))\n",
        "df = df.withColumn('ascii_string_first_val',ascii(df['strings']))\n",
        "df = df.withColumn('substring',substring(df['strings'],pos = 2,len =3))\n",
        "df = df.withColumn('substring_index_positive',substring_index(df['delim_string'],delim='.',count=3))\n",
        "df = df.withColumn('substring_index_negative',substring_index(df['delim_string'],delim='.',count=-2))\n",
        "df.show()"
      ],
      "execution_count": 0,
      "outputs": [
        {
          "output_type": "stream",
          "text": [
            "+-----+--------+-----------+------------+---------------+--------------+------------+------------+--------------------+-------------+----------------------+---------+------------------------+------------------------+\n",
            "|Index| strings| left_space| right_space|   delim_string|alpha_numerics|lower_string|upper_string|initialized_with_cap|length_string|ascii_string_first_val|substring|substring_index_positive|substring_index_negative|\n",
            "+-----+--------+-----------+------------+---------------+--------------+------------+------------+--------------------+-------------+----------------------+---------+------------------------+------------------------+\n",
            "|  100|uoNFkLox|   HAJxbNfv|iPtTsupf    |E.o.W.I.E.g.G.i|    tOVruNgNig|    uonfklox|    UONFKLOX|            Uonfklox|            8|                   117|      oNF|                   E.o.W|                     G.i|\n",
            "|  101|EiiFPRoQ|   oXcyEsgR|vtGhiunc    |o.v.D.z.V.l.F.Y|    o3w9CereQ4|    eiifproq|    EIIFPROQ|            Eiifproq|            8|                    69|      iiF|                   o.v.D|                     F.Y|\n",
            "|  102|NDaNERFA|   htyNjYjZ|XDJGjVnv    |k.a.r.Y.a.r.r.C|    W4X8aYFMdg|    ndanerfa|    NDANERFA|            Ndanerfa|            8|                    78|      DaN|                   k.a.r|                     r.C|\n",
            "|  103|ceKGKzgn|   TitMuPIS|HvlcJtGC    |z.a.z.Q.v.Y.r.v|    JAbosZ4vKd|    cekgkzgn|    CEKGKZGN|            Cekgkzgn|            8|                    99|      eKG|                   z.a.z|                     r.v|\n",
            "+-----+--------+-----------+------------+---------------+--------------+------------+------------+--------------------+-------------+----------------------+---------+------------------------+------------------------+\n",
            "\n"
          ],
          "name": "stdout"
        }
      ]
    },
    {
      "cell_type": "code",
      "metadata": {
        "id": "sTWYDwfF8UtJ",
        "colab_type": "code",
        "outputId": "690117dd-42b6-4fe7-c1a1-ee00131e595b",
        "colab": {
          "base_uri": "https://localhost:8080/",
          "height": 199
        }
      },
      "source": [
        "print('Splitting with respect to a particular condition. Here we are splitting a string on occurance of alpha-numeric value')\n",
        "df = df.withColumn('split',split(df['alpha_numerics'], '[0-9]+'))\n",
        "df.select('alpha_numerics','split').show()"
      ],
      "execution_count": 0,
      "outputs": [
        {
          "output_type": "stream",
          "text": [
            "Splitting with respect to a particular condition. Here we are splitting a string on occurance of alpha-numeric value\n",
            "+--------------+---------------+\n",
            "|alpha_numerics|          split|\n",
            "+--------------+---------------+\n",
            "|    tOVruNgNig|   [tOVruNgNig]|\n",
            "|    o3w9CereQ4|[o, w, CereQ, ]|\n",
            "|    W4X8aYFMdg| [W, X, aYFMdg]|\n",
            "|    JAbosZ4vKd|  [JAbosZ, vKd]|\n",
            "+--------------+---------------+\n",
            "\n"
          ],
          "name": "stdout"
        }
      ]
    },
    {
      "cell_type": "code",
      "metadata": {
        "id": "uwOdqB3zA6Wb",
        "colab_type": "code",
        "outputId": "3e639b5f-1691-42fc-ca48-4f18f3caafaf",
        "colab": {
          "base_uri": "https://localhost:8080/",
          "height": 199
        }
      },
      "source": [
        "print('We will concatenate two columns of df- alpha_numerics and lower_string')\n",
        "df = df.withColumn('Concatenated_string',concat(df['alpha_numerics'],df['lower_string']))\n",
        "df.select('Concatenated_string','lower_string','alpha_numerics').show()"
      ],
      "execution_count": 0,
      "outputs": [
        {
          "output_type": "stream",
          "text": [
            "We will concatenate two columns of df- alpha_numerics and lower_string\n",
            "+-------------------+------------+--------------+\n",
            "|Concatenated_string|lower_string|alpha_numerics|\n",
            "+-------------------+------------+--------------+\n",
            "| tOVruNgNiguonfklox|    uonfklox|    tOVruNgNig|\n",
            "| o3w9CereQ4eiifproq|    eiifproq|    o3w9CereQ4|\n",
            "| W4X8aYFMdgndanerfa|    ndanerfa|    W4X8aYFMdg|\n",
            "| JAbosZ4vKdcekgkzgn|    cekgkzgn|    JAbosZ4vKd|\n",
            "+-------------------+------------+--------------+\n",
            "\n"
          ],
          "name": "stdout"
        }
      ]
    },
    {
      "cell_type": "code",
      "metadata": {
        "id": "hspmSCLWCPWD",
        "colab_type": "code",
        "outputId": "c10b8a30-7765-4371-dd7c-33f11ff80ff2",
        "colab": {
          "base_uri": "https://localhost:8080/",
          "height": 199
        }
      },
      "source": [
        "print('We will concatenate two columns of df- alpha_numerics and lower_string separated by a comma')\n",
        "df = df.withColumn('Concatenated_string_sep',concat_ws(',',df['alpha_numerics'],df['lower_string']))\n",
        "df.select('Concatenated_string_sep','lower_string','alpha_numerics').show()"
      ],
      "execution_count": 0,
      "outputs": [
        {
          "output_type": "stream",
          "text": [
            "We will concatenate two columns of df- alpha_numerics and lower_string separated by a comma\n",
            "+-----------------------+------------+--------------+\n",
            "|Concatenated_string_sep|lower_string|alpha_numerics|\n",
            "+-----------------------+------------+--------------+\n",
            "|    tOVruNgNig,uonfklox|    uonfklox|    tOVruNgNig|\n",
            "|    o3w9CereQ4,eiifproq|    eiifproq|    o3w9CereQ4|\n",
            "|    W4X8aYFMdg,ndanerfa|    ndanerfa|    W4X8aYFMdg|\n",
            "|    JAbosZ4vKd,cekgkzgn|    cekgkzgn|    JAbosZ4vKd|\n",
            "+-----------------------+------------+--------------+\n",
            "\n"
          ],
          "name": "stdout"
        }
      ]
    },
    {
      "cell_type": "code",
      "metadata": {
        "id": "sPZIg6_pCnqw",
        "colab_type": "code",
        "outputId": "82140dee-d2c3-4162-9c3b-d2aa212557af",
        "colab": {
          "base_uri": "https://localhost:8080/",
          "height": 199
        }
      },
      "source": [
        "print('We will right pad a string column with 0 and left pad with 1. The size of actual string column is 8. We will make it 11 with extra space filled with padding')\n",
        "df = df.withColumn('right_paded',rpad(df['lower_string'],11,'0'))\n",
        "df = df.withColumn('left_paded',lpad(df['lower_string'],11,'1'))\n",
        "df.select('left_paded','lower_string','right_paded').show(truncate=False)"
      ],
      "execution_count": 0,
      "outputs": [
        {
          "output_type": "stream",
          "text": [
            "We will right pad a string column with 0 and left pad with 1. The size of actual string column is 8. We will make it 11 with extra space filled with padding\n",
            "+-----------+------------+-----------+\n",
            "|left_paded |lower_string|right_paded|\n",
            "+-----------+------------+-----------+\n",
            "|111uonfklox|uonfklox    |uonfklox000|\n",
            "|111eiifproq|eiifproq    |eiifproq000|\n",
            "|111ndanerfa|ndanerfa    |ndanerfa000|\n",
            "|111cekgkzgn|cekgkzgn    |cekgkzgn000|\n",
            "+-----------+------------+-----------+\n",
            "\n"
          ],
          "name": "stdout"
        }
      ]
    },
    {
      "cell_type": "code",
      "metadata": {
        "id": "aDW-jft9DHyS",
        "colab_type": "code",
        "outputId": "2d01ba50-8519-4c58-ae04-f5cb98505c5b",
        "colab": {
          "base_uri": "https://localhost:8080/",
          "height": 217
        }
      },
      "source": [
        "print('We will trim the extra spaces from left(using ltrim) and right(using rtrim) of a string in a column.')\n",
        "df = df.withColumn('right_space_removed',rtrim(df['right_space']))\n",
        "df = df.withColumn('left_space_removed',ltrim(df['left_space']))\n",
        "df = df.withColumn('len_space_trim_left',length(df['left_space_removed']))\n",
        "df = df.withColumn('len_with_space_left',length(df['left_space']))\n",
        "df.select('right_space_removed','len_space_trim_left','len_with_space_left','left_space_removed','left_space','right_space').show(truncate=False)\n",
        "print('we can however remove spaces from both the ends of a string consecutively using trim(it performs ltrim and rtrim together)')"
      ],
      "execution_count": 0,
      "outputs": [
        {
          "output_type": "stream",
          "text": [
            "We will trim the extra spaces from left(using ltrim) and right(using rtrim) of a string in a column.\n",
            "+-------------------+-------------------+-------------------+------------------+-----------+------------+\n",
            "|right_space_removed|len_space_trim_left|len_with_space_left|left_space_removed|left_space |right_space |\n",
            "+-------------------+-------------------+-------------------+------------------+-----------+------------+\n",
            "|iPtTsupf           |8                  |11                 |HAJxbNfv          |   HAJxbNfv|iPtTsupf    |\n",
            "|vtGhiunc           |8                  |11                 |oXcyEsgR          |   oXcyEsgR|vtGhiunc    |\n",
            "|XDJGjVnv           |8                  |11                 |htyNjYjZ          |   htyNjYjZ|XDJGjVnv    |\n",
            "|HvlcJtGC           |8                  |11                 |TitMuPIS          |   TitMuPIS|HvlcJtGC    |\n",
            "+-------------------+-------------------+-------------------+------------------+-----------+------------+\n",
            "\n",
            "we can however remove spaces from both the ends of a string consecutively using trim(it performs ltrim and rtrim together)\n"
          ],
          "name": "stdout"
        }
      ]
    },
    {
      "cell_type": "code",
      "metadata": {
        "id": "SV9tGQECDsJw",
        "colab_type": "code",
        "outputId": "ee7ed28e-5933-4e7f-bbd4-9fafcc208b67",
        "colab": {
          "base_uri": "https://localhost:8080/",
          "height": 199
        }
      },
      "source": [
        "print('We will find the occurance of a phase for the first time in string.')\n",
        "df = df.withColumn('occurance_first_time',instr(df['strings'],'Q'))\n",
        "df.select('occurance_first_time','strings').show()"
      ],
      "execution_count": 0,
      "outputs": [
        {
          "output_type": "stream",
          "text": [
            "We will find the occurance of a phase for the first time in string.\n",
            "+--------------------+--------+\n",
            "|occurance_first_time| strings|\n",
            "+--------------------+--------+\n",
            "|                   0|uoNFkLox|\n",
            "|                   8|EiiFPRoQ|\n",
            "|                   0|NDaNERFA|\n",
            "|                   0|ceKGKzgn|\n",
            "+--------------------+--------+\n",
            "\n"
          ],
          "name": "stdout"
        }
      ]
    },
    {
      "cell_type": "code",
      "metadata": {
        "id": "W0_VAEKZGjJJ",
        "colab_type": "code",
        "outputId": "57b515f6-f1ac-4e0c-d324-2c512a505f75",
        "colab": {
          "base_uri": "https://localhost:8080/",
          "height": 199
        }
      },
      "source": [
        "print('We will find the reversed string.')\n",
        "df = df.withColumn('reversed',reverse(df['strings']))\n",
        "df.select('reversed','strings').show()"
      ],
      "execution_count": 0,
      "outputs": [
        {
          "output_type": "stream",
          "text": [
            "We will find the reversed string.\n",
            "+--------+--------+\n",
            "|reversed| strings|\n",
            "+--------+--------+\n",
            "|xoLkFNou|uoNFkLox|\n",
            "|QoRPFiiE|EiiFPRoQ|\n",
            "|AFRENaDN|NDaNERFA|\n",
            "|ngzKGKec|ceKGKzgn|\n",
            "+--------+--------+\n",
            "\n"
          ],
          "name": "stdout"
        }
      ]
    },
    {
      "cell_type": "code",
      "metadata": {
        "id": "num4UKMRHMw_",
        "colab_type": "code",
        "colab": {}
      },
      "source": [
        ""
      ],
      "execution_count": 0,
      "outputs": []
    }
  ]
}