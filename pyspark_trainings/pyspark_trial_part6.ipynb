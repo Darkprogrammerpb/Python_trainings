{
  "nbformat": 4,
  "nbformat_minor": 0,
  "metadata": {
    "colab": {
      "name": "pyspark_trial_part6.ipynb",
      "provenance": [],
      "collapsed_sections": []
    },
    "kernelspec": {
      "name": "python3",
      "display_name": "Python 3"
    }
  },
  "cells": [
    {
      "cell_type": "code",
      "metadata": {
        "id": "0Dr3R357Hgge",
        "colab_type": "code",
        "colab": {}
      },
      "source": [
        "########## Run this code snippet when running for the first time and don't repeat it in future (else it will keep on downloading the same stuffs again and again and\n",
        "########## result in redundant usage of memory)\n",
        "\n",
        "!apt-get install openjdk-8-jdk-headless -qq > /dev/null\n",
        "!wget -q http://apachemirror.wuchna.com/spark/spark-2.4.4/spark-2.4.4-bin-hadoop2.7.tgz\n",
        "!tar xf spark-2.4.4-bin-hadoop2.7.tgz\n",
        "!pip install -q findspark"
      ],
      "execution_count": 0,
      "outputs": []
    },
    {
      "cell_type": "code",
      "metadata": {
        "id": "BFH7sJI-HmWO",
        "colab_type": "code",
        "colab": {}
      },
      "source": [
        "import os\n",
        "import findspark\n",
        "import pandas as pd\n",
        "import random\n",
        "import string\n",
        "import numpy as np\n",
        "os.environ[\"JAVA_HOME\"]   = \"/usr/lib/jvm/java-8-openjdk-amd64\"\n",
        "os.environ[\"SPARK_HOME\"]  = \"/content/spark-2.4.4-bin-hadoop2.7\"\n",
        "findspark.init(\"spark-2.4.4-bin-hadoop2.7\")# SPARK_HOME\n",
        "from pyspark.sql import SparkSession\n",
        "from pyspark.sql import *\n",
        "from pyspark.sql.functions import *\n",
        "from pyspark.sql.types import *\n",
        "spark                      = SparkSession.builder.master(\"local[*]\").getOrCreate()"
      ],
      "execution_count": 0,
      "outputs": []
    },
    {
      "cell_type": "markdown",
      "metadata": {
        "id": "IU-J-aatRbNQ",
        "colab_type": "text"
      },
      "source": [
        "# Mathematical functions covered"
      ]
    },
    {
      "cell_type": "code",
      "metadata": {
        "id": "Xqr3Eg7gNwkT",
        "colab_type": "code",
        "colab": {
          "base_uri": "https://localhost:8080/",
          "height": 181
        },
        "outputId": "2a4da0b7-2175-47f6-9d90-405d00837550"
      },
      "source": [
        "pdf = pd.DataFrame(columns=['Index','numbers','integers'])\n",
        "pdf['Index']  = [100,101,102,103]\n",
        "pdf['numbers'] = [random.random() for j in range(4)]\n",
        "pdf['integers'] = [random.randrange(2,10) for j in range(4)]\n",
        "df = spark.createDataFrame(pdf)\n",
        "df.show(truncate=False)"
      ],
      "execution_count": 20,
      "outputs": [
        {
          "output_type": "stream",
          "text": [
            "+-----+--------------------+--------+\n",
            "|Index|numbers             |integers|\n",
            "+-----+--------------------+--------+\n",
            "|100  |0.8267763189872205  |7       |\n",
            "|101  |0.030722711900681432|7       |\n",
            "|102  |0.43371893883828205 |4       |\n",
            "|103  |0.9444751897698977  |2       |\n",
            "+-----+--------------------+--------+\n",
            "\n"
          ],
          "name": "stdout"
        }
      ]
    },
    {
      "cell_type": "code",
      "metadata": {
        "id": "vMGpI60WPT9P",
        "colab_type": "code",
        "colab": {
          "base_uri": "https://localhost:8080/",
          "height": 201
        },
        "outputId": "5bc11a10-7934-4024-8827-712d70bd32d4"
      },
      "source": [
        "df = df.withColumn('log',log(df['numbers']))\n",
        "df = df.withColumn('log10',log10(df['numbers']))\n",
        "df = df.withColumn('Log1p',log1p(df['numbers']))\n",
        "df = df.withColumn('Log2',log2(df['numbers']))\n",
        "df = df.withColumn('Absolute',abs(df['log10']))\n",
        "df = df.withColumn('floor',floor(df['numbers']))\n",
        "df = df.withColumn('Ceiling',ceil(df['numbers']))\n",
        "df = df.withColumn('Round_3dgts',round(df['numbers'],3))\n",
        "df = df.withColumn('Squareroot',sqrt(df['integers']))\n",
        "df = df.withColumn('power_numbers_to_integers',pow(df['numbers'],df['integers']))\n",
        "df = df.withColumn('factorial',factorial(df['integers']))\n",
        "df.show()"
      ],
      "execution_count": 24,
      "outputs": [
        {
          "output_type": "stream",
          "text": [
            "+-----+--------------------+--------+--------------------+--------------------+--------------------+-------------------+-----+-------+-----------+------------------+-------------------------+--------------------+---------+\n",
            "|Index|             numbers|integers|               log10|               Log1p|                Log2|           Absolute|floor|Ceiling|Round_3dgts|        Squareroot|power_numbers_to_integers|                 log|factorial|\n",
            "+-----+--------------------+--------+--------------------+--------------------+--------------------+-------------------+-----+-------+-----------+------------------+-------------------------+--------------------+---------+\n",
            "|  100|  0.8267763189872205|       7|-0.08261197118415724|  0.6025528391328066|-0.27443102805067715|0.08261197118415724|    0|      1|      0.827|2.6457513110645907|       0.2640682587299199|-0.19022109335149412|     5040|\n",
            "|  101|0.030722711900681432|       7| -1.5125404516770113|0.030260218231321207|  -5.024550621079484| 1.5125404516770113|    0|      1|      0.031|2.6457513110645907|     2.583549805491814...| -3.4827530965819666|     5040|\n",
            "|  102| 0.43371893883828205|       4|-0.36279161346714967|  0.3602717249465826|  -1.205167653366041|0.36279161346714967|    0|      1|      0.434|               2.0|      0.03538616890345912| -0.8353585610327167|       24|\n",
            "|  103|  0.9444751897698977|       2|-0.02480944598730311|  0.6649921153499042|-0.08241519564381274|0.02480944598730311|    0|      1|      0.944|1.4142135623730951|       0.8920333840908844|-0.05712586049580...|        2|\n",
            "+-----+--------------------+--------+--------------------+--------------------+--------------------+-------------------+-----+-------+-----------+------------------+-------------------------+--------------------+---------+\n",
            "\n"
          ],
          "name": "stdout"
        }
      ]
    },
    {
      "cell_type": "markdown",
      "metadata": {
        "id": "T4JtHHZfRfDe",
        "colab_type": "text"
      },
      "source": [
        "# Trigonometric Functions covered"
      ]
    },
    {
      "cell_type": "code",
      "metadata": {
        "id": "pWbRDgzIPhwT",
        "colab_type": "code",
        "colab": {
          "base_uri": "https://localhost:8080/",
          "height": 181
        },
        "outputId": "ee5793d7-f62a-4db9-b171-97b171d9dbab"
      },
      "source": [
        "pdf = pd.DataFrame(columns=['Index','degrees'])\n",
        "pdf['Index']  = [100,101,102,103]\n",
        "pdf['degrees'] = [random.randrange(30,180) for j in range(4)]\n",
        "df = spark.createDataFrame(pdf)\n",
        "df.show(truncate=False)"
      ],
      "execution_count": 26,
      "outputs": [
        {
          "output_type": "stream",
          "text": [
            "+-----+-------+\n",
            "|Index|degrees|\n",
            "+-----+-------+\n",
            "|100  |167    |\n",
            "|101  |96     |\n",
            "|102  |85     |\n",
            "|103  |62     |\n",
            "+-----+-------+\n",
            "\n"
          ],
          "name": "stdout"
        }
      ]
    },
    {
      "cell_type": "code",
      "metadata": {
        "id": "C8h0DA9RRmvE",
        "colab_type": "code",
        "colab": {
          "base_uri": "https://localhost:8080/",
          "height": 181
        },
        "outputId": "84939739-48dc-496f-d9a3-e713c7cf524f"
      },
      "source": [
        "df = df.withColumn('radians',toRadians(df['degrees']))\n",
        "df.show()"
      ],
      "execution_count": 27,
      "outputs": [
        {
          "output_type": "stream",
          "text": [
            "+-----+-------+------------------+\n",
            "|Index|degrees|           radians|\n",
            "+-----+-------+------------------+\n",
            "|  100|    167|  2.91469985083053|\n",
            "|  101|     96|1.6755160819145563|\n",
            "|  102|     85|  1.48352986419518|\n",
            "|  103|     62|1.0821041362364843|\n",
            "+-----+-------+------------------+\n",
            "\n"
          ],
          "name": "stdout"
        }
      ]
    },
    {
      "cell_type": "code",
      "metadata": {
        "id": "O3JVX8W-R2P8",
        "colab_type": "code",
        "colab": {
          "base_uri": "https://localhost:8080/",
          "height": 181
        },
        "outputId": "4190165e-0439-4149-86da-5f2db9d8e9f0"
      },
      "source": [
        "df = df.withColumn('Cosine',cos(df['radians']))\n",
        "df = df.withColumn('Cosine_hyperbolic',cosh(df['degrees']))\n",
        "df = df.withColumn('Arc_cos',acos(df['Cosine']))\n",
        "df.show()"
      ],
      "execution_count": 31,
      "outputs": [
        {
          "output_type": "stream",
          "text": [
            "+-----+-------+------------------+--------------------+--------------------+------------------+\n",
            "|Index|degrees|           radians|              Cosine|   Cosine_hyperbolic|           Arc_cos|\n",
            "+-----+-------+------------------+--------------------+--------------------+------------------+\n",
            "|  100|    167|  2.91469985083053| -0.9743700647852351|1.683249453660082E72|  2.91469985083053|\n",
            "|  101|     96|1.6755160819145563|-0.10452846326765333|2.461729143006029E41|1.6755160819145563|\n",
            "|  102|     85|  1.48352986419518| 0.08715574274765836|4.111506357311456...|  1.48352986419518|\n",
            "|  103|     62|1.0821041362364843| 0.46947156278589086|4.219178334370727...|1.0821041362364843|\n",
            "+-----+-------+------------------+--------------------+--------------------+------------------+\n",
            "\n"
          ],
          "name": "stdout"
        }
      ]
    },
    {
      "cell_type": "code",
      "metadata": {
        "id": "1NULpCOQR-z7",
        "colab_type": "code",
        "colab": {}
      },
      "source": [
        ""
      ],
      "execution_count": 0,
      "outputs": []
    },
    {
      "cell_type": "code",
      "metadata": {
        "id": "E5YtPp_oSR42",
        "colab_type": "code",
        "colab": {}
      },
      "source": [
        ""
      ],
      "execution_count": 0,
      "outputs": []
    }
  ]
}