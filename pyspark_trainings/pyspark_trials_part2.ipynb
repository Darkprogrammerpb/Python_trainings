{
  "nbformat": 4,
  "nbformat_minor": 0,
  "metadata": {
    "colab": {
      "name": "pyspark_trials_part2.ipynb",
      "provenance": [],
      "collapsed_sections": []
    },
    "kernelspec": {
      "name": "python3",
      "display_name": "Python 3"
    }
  },
  "cells": [
    {
      "cell_type": "code",
      "metadata": {
        "id": "W4Hnirzb037e",
        "colab_type": "code",
        "colab": {}
      },
      "source": [
        "########## Run this code snippet when running for the first time and don't repeat it in future (else it will keep on downloading the same stuffs again and again and\n",
        "########## result in redundant usage of memory)\n",
        "\n",
        "!apt-get install openjdk-8-jdk-headless -qq > /dev/null\n",
        "!wget -q http://apachemirror.wuchna.com/spark/spark-2.4.4/spark-2.4.4-bin-hadoop2.7.tgz\n",
        "!tar xf spark-2.4.4-bin-hadoop2.7.tgz\n",
        "!pip install -q findspark"
      ],
      "execution_count": 0,
      "outputs": []
    },
    {
      "cell_type": "code",
      "metadata": {
        "id": "L1JJcJXH80PD",
        "colab_type": "code",
        "colab": {}
      },
      "source": [
        ""
      ],
      "execution_count": 0,
      "outputs": []
    },
    {
      "cell_type": "code",
      "metadata": {
        "id": "mvdr4e7408Di",
        "colab_type": "code",
        "colab": {}
      },
      "source": [
        "import os\n",
        "import findspark\n",
        "import pandas as pd\n",
        "import numpy as np\n",
        "os.environ[\"JAVA_HOME\"]   = \"/usr/lib/jvm/java-8-openjdk-amd64\"\n",
        "os.environ[\"SPARK_HOME\"]  = \"/content/spark-2.4.4-bin-hadoop2.7\"\n",
        "findspark.init(\"spark-2.4.4-bin-hadoop2.7\")# SPARK_HOME\n",
        "from pyspark.sql import SparkSession\n",
        "from pyspark.sql import *\n",
        "from pyspark.sql.functions import *\n",
        "from pyspark.sql.types import *\n",
        "spark                      = SparkSession.builder.master(\"local[*]\").getOrCreate()"
      ],
      "execution_count": 0,
      "outputs": []
    },
    {
      "cell_type": "code",
      "metadata": {
        "id": "Va3M03bv4ses",
        "colab_type": "code",
        "outputId": "33312a2a-1b39-4c30-aa53-796dafe6a8eb",
        "colab": {
          "base_uri": "https://localhost:8080/",
          "height": 181
        }
      },
      "source": [
        "pathname = '/content/date_sample.csv'\n",
        "df = spark.read.csv(pathname,header=True,inferSchema=True)\n",
        "df.show(3)"
      ],
      "execution_count": 0,
      "outputs": [
        {
          "output_type": "stream",
          "text": [
            "+----------+----------+-----+\n",
            "|     date1|     date2|date3|\n",
            "+----------+----------+-----+\n",
            "|18-07-2032|19-02-2038|45323|\n",
            "|25-05-2024|30-03-2039|45572|\n",
            "|25-10-2030|14-07-2035|43492|\n",
            "+----------+----------+-----+\n",
            "only showing top 3 rows\n",
            "\n"
          ],
          "name": "stdout"
        }
      ]
    },
    {
      "cell_type": "markdown",
      "metadata": {
        "id": "jMEGjGDbkiQG",
        "colab_type": "text"
      },
      "source": [
        "**Current Date:-** Inserting a column having current date"
      ]
    },
    {
      "cell_type": "code",
      "metadata": {
        "id": "oYaT7_MtkP0M",
        "colab_type": "code",
        "outputId": "25e396a2-a273-468f-b5cb-31f08514fa63",
        "colab": {
          "base_uri": "https://localhost:8080/",
          "height": 181
        }
      },
      "source": [
        "df = df.withColumn('current_date',current_date())\n",
        "df.show(3)"
      ],
      "execution_count": 0,
      "outputs": [
        {
          "output_type": "stream",
          "text": [
            "+----------+----------+-----+------------+\n",
            "|     date1|     date2|date3|current_date|\n",
            "+----------+----------+-----+------------+\n",
            "|18-07-2032|19-02-2038|45323|  2020-01-15|\n",
            "|25-05-2024|30-03-2039|45572|  2020-01-15|\n",
            "|25-10-2030|14-07-2035|43492|  2020-01-15|\n",
            "+----------+----------+-----+------------+\n",
            "only showing top 3 rows\n",
            "\n"
          ],
          "name": "stdout"
        }
      ]
    },
    {
      "cell_type": "markdown",
      "metadata": {
        "id": "XGUnUOdfl0ZB",
        "colab_type": "text"
      },
      "source": [
        "**Converting a string to date object:-** We can clearly see that the columns date1 and date2 are strings. We will convert them to DateType by using 'to_date' function below"
      ]
    },
    {
      "cell_type": "code",
      "metadata": {
        "id": "wK55mZL6kaVm",
        "colab_type": "code",
        "outputId": "3827aa0b-a90f-4877-b7d5-3f812f34de7e",
        "colab": {
          "base_uri": "https://localhost:8080/",
          "height": 344
        }
      },
      "source": [
        "df = df.withColumn('date1_date_type',to_date(unix_timestamp('date1', 'dd-MM-yyyy').cast('timestamp')))\n",
        "df = df.withColumn('date2_date_type',to_date(unix_timestamp('date2', 'dd-MM-yyyy').cast('timestamp')))\n",
        "df.show(3)\n",
        "print(df.printSchema())"
      ],
      "execution_count": 0,
      "outputs": [
        {
          "output_type": "stream",
          "text": [
            "+----------+----------+-----+------------+---------------+---------------+\n",
            "|     date1|     date2|date3|current_date|date1_date_type|date2_date_type|\n",
            "+----------+----------+-----+------------+---------------+---------------+\n",
            "|18-07-2032|19-02-2038|45323|  2020-01-15|     2032-07-18|     2038-02-19|\n",
            "|25-05-2024|30-03-2039|45572|  2020-01-15|     2024-05-25|     2039-03-30|\n",
            "|25-10-2030|14-07-2035|43492|  2020-01-15|     2030-10-25|     2035-07-14|\n",
            "+----------+----------+-----+------------+---------------+---------------+\n",
            "only showing top 3 rows\n",
            "\n",
            "root\n",
            " |-- date1: string (nullable = true)\n",
            " |-- date2: string (nullable = true)\n",
            " |-- date3: integer (nullable = true)\n",
            " |-- current_date: date (nullable = false)\n",
            " |-- date1_date_type: date (nullable = true)\n",
            " |-- date2_date_type: date (nullable = true)\n",
            "\n",
            "None\n"
          ],
          "name": "stdout"
        }
      ]
    },
    {
      "cell_type": "markdown",
      "metadata": {
        "id": "YM8U29CemiYQ",
        "colab_type": "text"
      },
      "source": [
        "**Converting the format of a particular date:-** Here we can see how to convert a format of a particular date column"
      ]
    },
    {
      "cell_type": "code",
      "metadata": {
        "id": "rNDHI8gVlNrq",
        "colab_type": "code",
        "outputId": "5a7b7ab4-e5e5-4975-be67-f7ff906ae68b",
        "colab": {
          "base_uri": "https://localhost:8080/",
          "height": 181
        }
      },
      "source": [
        "df = df.withColumn('date1_new_format',date_format('date1_date_type', 'dd/MMM/yyy').alias('date'))\n",
        "df = df.withColumn('date2_new_format',date_format('date2_date_type', 'MMM dd,yyy').alias('date'))\n",
        "df.show(3)"
      ],
      "execution_count": 0,
      "outputs": [
        {
          "output_type": "stream",
          "text": [
            "+----------+----------+-----+------------+---------------+---------------+----------------+----------------+\n",
            "|     date1|     date2|date3|current_date|date1_date_type|date2_date_type|date1_new_format|date2_new_format|\n",
            "+----------+----------+-----+------------+---------------+---------------+----------------+----------------+\n",
            "|18-07-2032|19-02-2038|45323|  2020-01-15|     2032-07-18|     2038-02-19|     18/Jul/2032|     Feb 19,2038|\n",
            "|25-05-2024|30-03-2039|45572|  2020-01-15|     2024-05-25|     2039-03-30|     25/May/2024|     Mar 30,2039|\n",
            "|25-10-2030|14-07-2035|43492|  2020-01-15|     2030-10-25|     2035-07-14|     25/Oct/2030|     Jul 14,2035|\n",
            "+----------+----------+-----+------------+---------------+---------------+----------------+----------------+\n",
            "only showing top 3 rows\n",
            "\n"
          ],
          "name": "stdout"
        }
      ]
    },
    {
      "cell_type": "markdown",
      "metadata": {
        "id": "RBbdB-53oSGg",
        "colab_type": "text"
      },
      "source": [
        "**Truncating a date:-** We will be truncating a date to nearest possible month, year and day. There are other truncation parameters available as well. They are :-  <br>\n",
        "**format – ‘year’, ‘yyyy’, ‘yy’, ‘month’, ‘mon’, ‘mm’, ‘day’, ‘dd’, ‘hour’, ‘minute’, ‘second’, ‘week’, ‘quarter’**\n",
        "\n",
        "\n",
        "\n"
      ]
    },
    {
      "cell_type": "code",
      "metadata": {
        "id": "8Vv8c8A6laeO",
        "colab_type": "code",
        "outputId": "dc50b4a5-0328-4dea-e9ab-6c822f2dd358",
        "colab": {
          "base_uri": "https://localhost:8080/",
          "height": 199
        }
      },
      "source": [
        "df = df.withColumn('truncated_month',date_trunc(\"month\", \"date1_date_type\"))\n",
        "df = df.withColumn('truncated_year',date_trunc(\"year\", \"date1_date_type\"))\n",
        "df = df.withColumn('truncated_day',date_trunc(\"day\", \"date1_date_type\"))\n",
        "df.select('date1_date_type','truncated_month','truncated_year','truncated_day').show(4)"
      ],
      "execution_count": 0,
      "outputs": [
        {
          "output_type": "stream",
          "text": [
            "+---------------+-------------------+-------------------+-------------------+\n",
            "|date1_date_type|    truncated_month|     truncated_year|      truncated_day|\n",
            "+---------------+-------------------+-------------------+-------------------+\n",
            "|     2032-07-18|2032-07-01 00:00:00|2032-01-01 00:00:00|2032-07-18 00:00:00|\n",
            "|     2024-05-25|2024-05-01 00:00:00|2024-01-01 00:00:00|2024-05-25 00:00:00|\n",
            "|     2030-10-25|2030-10-01 00:00:00|2030-01-01 00:00:00|2030-10-25 00:00:00|\n",
            "|     2025-09-29|2025-09-01 00:00:00|2025-01-01 00:00:00|2025-09-29 00:00:00|\n",
            "+---------------+-------------------+-------------------+-------------------+\n",
            "only showing top 4 rows\n",
            "\n"
          ],
          "name": "stdout"
        }
      ]
    },
    {
      "cell_type": "markdown",
      "metadata": {
        "id": "qQz2Sq-0pnO9",
        "colab_type": "text"
      },
      "source": [
        "**Adding days to a particular date:-** We can add days to a particular date by using 'date_add'"
      ]
    },
    {
      "cell_type": "code",
      "metadata": {
        "id": "KexMfJ7TnezX",
        "colab_type": "code",
        "outputId": "280cccac-9dce-4282-d008-892f35374463",
        "colab": {
          "base_uri": "https://localhost:8080/",
          "height": 199
        }
      },
      "source": [
        "df = df.withColumn('70days_after_date1',date_add(df['date1_date_type'],70))\n",
        "print('The date 70 days after the dates mentioned in date1_date_type is given by:-')\n",
        "df.select('date1_date_type','70days_after_date1').show(3)"
      ],
      "execution_count": 0,
      "outputs": [
        {
          "output_type": "stream",
          "text": [
            "The date 70 days after the dates mentioned in date1_date_type is given by:-\n",
            "+---------------+------------------+\n",
            "|date1_date_type|70days_after_date1|\n",
            "+---------------+------------------+\n",
            "|     2032-07-18|        2032-09-26|\n",
            "|     2024-05-25|        2024-08-03|\n",
            "|     2030-10-25|        2031-01-03|\n",
            "+---------------+------------------+\n",
            "only showing top 3 rows\n",
            "\n"
          ],
          "name": "stdout"
        }
      ]
    },
    {
      "cell_type": "markdown",
      "metadata": {
        "id": "ML22wAdvqr-u",
        "colab_type": "text"
      },
      "source": [
        "**Subtracting days from a particular date:-** We can find a date some days prior to a particular date using date_sub"
      ]
    },
    {
      "cell_type": "code",
      "metadata": {
        "id": "KRFQmx-Bp98u",
        "colab_type": "code",
        "outputId": "fe67fa5a-6029-4717-ab4c-e3776da98c07",
        "colab": {
          "base_uri": "https://localhost:8080/",
          "height": 199
        }
      },
      "source": [
        "df = df.withColumn('70days_before_date1',date_sub(df['date1_date_type'],70))\n",
        "print('The date 70 days before the dates mentioned in date1_date_type is given by:-')\n",
        "df.select('date1_date_type','70days_before_date1').show(3)"
      ],
      "execution_count": 0,
      "outputs": [
        {
          "output_type": "stream",
          "text": [
            "The date 70 days before the dates mentioned in date1_date_type is given by:-\n",
            "+---------------+-------------------+\n",
            "|date1_date_type|70days_before_date1|\n",
            "+---------------+-------------------+\n",
            "|     2032-07-18|         2032-05-09|\n",
            "|     2024-05-25|         2024-03-16|\n",
            "|     2030-10-25|         2030-08-16|\n",
            "+---------------+-------------------+\n",
            "only showing top 3 rows\n",
            "\n"
          ],
          "name": "stdout"
        }
      ]
    },
    {
      "cell_type": "markdown",
      "metadata": {
        "id": "D5UsJsW5rc-Q",
        "colab_type": "text"
      },
      "source": [
        "**Calculating the days between two dates:-** We will use datediff to calculate the number of days between two dates"
      ]
    },
    {
      "cell_type": "code",
      "metadata": {
        "id": "X_1SZd9tq5c9",
        "colab_type": "code",
        "outputId": "ef1838bf-23a4-4d43-9f8a-95cd1dda5667",
        "colab": {
          "base_uri": "https://localhost:8080/",
          "height": 181
        }
      },
      "source": [
        "df = df.withColumn('datediff',datediff(df['date2_date_type'],df['date1_date_type']))\n",
        "df.select('datediff','date2_date_type','date1_date_type').show(3)"
      ],
      "execution_count": 0,
      "outputs": [
        {
          "output_type": "stream",
          "text": [
            "+--------+---------------+---------------+\n",
            "|datediff|date2_date_type|date1_date_type|\n",
            "+--------+---------------+---------------+\n",
            "|    2042|     2038-02-19|     2032-07-18|\n",
            "|    5422|     2039-03-30|     2024-05-25|\n",
            "|    1723|     2035-07-14|     2030-10-25|\n",
            "+--------+---------------+---------------+\n",
            "only showing top 3 rows\n",
            "\n"
          ],
          "name": "stdout"
        }
      ]
    },
    {
      "cell_type": "markdown",
      "metadata": {
        "id": "gBYPEl9pr2ta",
        "colab_type": "text"
      },
      "source": [
        "Extracting month, year and quarter from a particular date"
      ]
    },
    {
      "cell_type": "code",
      "metadata": {
        "id": "dbTsD4zVrQgF",
        "colab_type": "code",
        "outputId": "f19b7efc-1b10-43f9-d600-369e91583de4",
        "colab": {
          "base_uri": "https://localhost:8080/",
          "height": 217
        }
      },
      "source": [
        "df = df.withColumn('month_date1',month(df['date1_date_type']))\n",
        "df = df.withColumn('year_date1',year(df['date1_date_type']))\n",
        "df = df.withColumn('quarter_date1',quarter(df['date1_date_type']))\n",
        "df.select('month_date1','year_date1','quarter_date1','date1_date_type').show(5)"
      ],
      "execution_count": 0,
      "outputs": [
        {
          "output_type": "stream",
          "text": [
            "+-----------+----------+-------------+---------------+\n",
            "|month_date1|year_date1|quarter_date1|date1_date_type|\n",
            "+-----------+----------+-------------+---------------+\n",
            "|          7|      2032|            3|     2032-07-18|\n",
            "|          5|      2024|            2|     2024-05-25|\n",
            "|         10|      2030|            4|     2030-10-25|\n",
            "|          9|      2025|            3|     2025-09-29|\n",
            "|          2|      2030|            1|     2030-02-13|\n",
            "+-----------+----------+-------------+---------------+\n",
            "only showing top 5 rows\n",
            "\n"
          ],
          "name": "stdout"
        }
      ]
    },
    {
      "cell_type": "markdown",
      "metadata": {
        "id": "g7EiP7ZLsdUt",
        "colab_type": "text"
      },
      "source": [
        "**Adding months to an existing date**"
      ]
    },
    {
      "cell_type": "code",
      "metadata": {
        "id": "4WboKChmsSjm",
        "colab_type": "code",
        "outputId": "72f70797-61ad-4bf0-af18-cebba8ef3280",
        "colab": {
          "base_uri": "https://localhost:8080/",
          "height": 217
        }
      },
      "source": [
        "df = df.withColumn('add_5_months',add_months(df['date1_date_type'],5))\n",
        "df.select('add_5_months','date1_date_type').show(5)"
      ],
      "execution_count": 0,
      "outputs": [
        {
          "output_type": "stream",
          "text": [
            "+------------+---------------+\n",
            "|add_5_months|date1_date_type|\n",
            "+------------+---------------+\n",
            "|  2032-12-18|     2032-07-18|\n",
            "|  2024-10-25|     2024-05-25|\n",
            "|  2031-03-25|     2030-10-25|\n",
            "|  2026-02-28|     2025-09-29|\n",
            "|  2030-07-13|     2030-02-13|\n",
            "+------------+---------------+\n",
            "only showing top 5 rows\n",
            "\n"
          ],
          "name": "stdout"
        }
      ]
    },
    {
      "cell_type": "markdown",
      "metadata": {
        "id": "HBMq8PuIs4Qz",
        "colab_type": "text"
      },
      "source": [
        "Months between two given dates"
      ]
    },
    {
      "cell_type": "code",
      "metadata": {
        "id": "hCh3OwATsrC7",
        "colab_type": "code",
        "outputId": "4b94abaa-f197-4591-debb-66931f016cf1",
        "colab": {
          "base_uri": "https://localhost:8080/",
          "height": 217
        }
      },
      "source": [
        "df = df.withColumn('months_between',months_between(df['date2_date_type'],df['date1_date_type']))\n",
        "df.select('months_between','date1_date_type','date2_date_type').show(5)"
      ],
      "execution_count": 0,
      "outputs": [
        {
          "output_type": "stream",
          "text": [
            "+--------------+---------------+---------------+\n",
            "|months_between|date1_date_type|date2_date_type|\n",
            "+--------------+---------------+---------------+\n",
            "|   67.03225806|     2032-07-18|     2038-02-19|\n",
            "|  178.16129032|     2024-05-25|     2039-03-30|\n",
            "|   56.64516129|     2030-10-25|     2035-07-14|\n",
            "|  109.12903226|     2025-09-29|     2034-11-02|\n",
            "|   87.38709677|     2030-02-13|     2037-05-25|\n",
            "+--------------+---------------+---------------+\n",
            "only showing top 5 rows\n",
            "\n"
          ],
          "name": "stdout"
        }
      ]
    },
    {
      "cell_type": "markdown",
      "metadata": {
        "id": "msJb8f_9twV8",
        "colab_type": "text"
      },
      "source": [
        "Computing the \n",
        "1. Day of month\n",
        "2. Day of year\n",
        "3. week of year\n",
        "4. day of week"
      ]
    },
    {
      "cell_type": "code",
      "metadata": {
        "id": "kYSdaA_0tE0P",
        "colab_type": "code",
        "outputId": "b4d035a3-beed-4e25-e3dd-830967c9512e",
        "colab": {
          "base_uri": "https://localhost:8080/",
          "height": 217
        }
      },
      "source": [
        "df = df.withColumn('day_of_year_dt1',dayofyear(df['date1_date_type']))\n",
        "df = df.withColumn('week_of_year_dt1',weekofyear(df['date1_date_type']))\n",
        "df = df.withColumn('day_of_week_dt1',dayofweek(df['date1_date_type']))\n",
        "df = df.withColumn('day_of_month_dt1',dayofmonth(df['date1_date_type']))\n",
        "df.select('date1_date_type','day_of_year_dt1','week_of_year_dt1','day_of_week_dt1','day_of_month_dt1').show(5)\n"
      ],
      "execution_count": 0,
      "outputs": [
        {
          "output_type": "stream",
          "text": [
            "+---------------+---------------+----------------+---------------+----------------+\n",
            "|date1_date_type|day_of_year_dt1|week_of_year_dt1|day_of_week_dt1|day_of_month_dt1|\n",
            "+---------------+---------------+----------------+---------------+----------------+\n",
            "|     2032-07-18|            200|              29|              1|              18|\n",
            "|     2024-05-25|            146|              21|              7|              25|\n",
            "|     2030-10-25|            298|              43|              6|              25|\n",
            "|     2025-09-29|            272|              40|              2|              29|\n",
            "|     2030-02-13|             44|               7|              4|              13|\n",
            "+---------------+---------------+----------------+---------------+----------------+\n",
            "only showing top 5 rows\n",
            "\n"
          ],
          "name": "stdout"
        }
      ]
    },
    {
      "cell_type": "markdown",
      "metadata": {
        "id": "d8M-to_Su0Uk",
        "colab_type": "text"
      },
      "source": [
        "Computing the last day and next day of date. \n",
        "1. Here we will compute the last day of the month for the date given using last_day\n",
        "2. We also compute the instance of the next day(monday, tuesday, wednesday,... , Sunday) from a given date using next_day"
      ]
    },
    {
      "cell_type": "code",
      "metadata": {
        "id": "6PqktRaSuJqS",
        "colab_type": "code",
        "outputId": "75da7cc0-ae64-4522-9225-9c965eaa1a15",
        "colab": {
          "base_uri": "https://localhost:8080/",
          "height": 217
        }
      },
      "source": [
        "df = df.withColumn('last_day_dt2',last_day(df['date2_date_type']))\n",
        "df = df.withColumn('next_day_dt2',next_day(df['date2_date_type'],'Tue'))\n",
        "df.select('date2_date_type','last_day_dt2','next_day_dt2').show(5)"
      ],
      "execution_count": 0,
      "outputs": [
        {
          "output_type": "stream",
          "text": [
            "+---------------+------------+------------+\n",
            "|date2_date_type|last_day_dt2|next_day_dt2|\n",
            "+---------------+------------+------------+\n",
            "|     2038-02-19|  2038-02-28|  2038-02-23|\n",
            "|     2039-03-30|  2039-03-31|  2039-04-05|\n",
            "|     2035-07-14|  2035-07-31|  2035-07-17|\n",
            "|     2034-11-02|  2034-11-30|  2034-11-07|\n",
            "|     2037-05-25|  2037-05-31|  2037-05-26|\n",
            "+---------------+------------+------------+\n",
            "only showing top 5 rows\n",
            "\n"
          ],
          "name": "stdout"
        }
      ]
    },
    {
      "cell_type": "markdown",
      "metadata": {
        "id": "SEvwzBa5wTrb",
        "colab_type": "text"
      },
      "source": [
        "**Computing a current timestamp column:-**"
      ]
    },
    {
      "cell_type": "code",
      "metadata": {
        "id": "98H2NyQPvLZi",
        "colab_type": "code",
        "outputId": "42bcc6bf-e0c9-49fd-e0e9-7b62a0d87759",
        "colab": {
          "base_uri": "https://localhost:8080/",
          "height": 199
        }
      },
      "source": [
        "df = df.withColumn('Current_ts', current_timestamp())\n",
        "df.select('Current_ts').show(4,truncate=False)"
      ],
      "execution_count": 0,
      "outputs": [
        {
          "output_type": "stream",
          "text": [
            "+-----------------------+\n",
            "|Current_ts             |\n",
            "+-----------------------+\n",
            "|2020-01-15 20:05:35.352|\n",
            "|2020-01-15 20:05:35.352|\n",
            "|2020-01-15 20:05:35.352|\n",
            "|2020-01-15 20:05:35.352|\n",
            "+-----------------------+\n",
            "only showing top 4 rows\n",
            "\n"
          ],
          "name": "stdout"
        }
      ]
    },
    {
      "cell_type": "markdown",
      "metadata": {
        "id": "F54g4mbW02ny",
        "colab_type": "text"
      },
      "source": [
        "We calculate the time stamp values of a particular timestamp provided from (1970-01-01 00:00:00 UTC) "
      ]
    },
    {
      "cell_type": "code",
      "metadata": {
        "id": "dfoeOTgwzxIT",
        "colab_type": "code",
        "colab": {}
      },
      "source": [
        "Dataset1 = Row(\"timestamps_int\")\n",
        "data1   = [Dataset1(2028476499),\n",
        "            Dataset1(1728476470),\n",
        "            Dataset1(3223446490),\n",
        "            Dataset1(1284964980)]\n",
        "df11 = spark.createDataFrame(data1)"
      ],
      "execution_count": 0,
      "outputs": []
    },
    {
      "cell_type": "code",
      "metadata": {
        "id": "CZPk4ruwy7CD",
        "colab_type": "code",
        "outputId": "b55d399a-2a89-4605-a240-104948123b77",
        "colab": {
          "base_uri": "https://localhost:8080/",
          "height": 181
        }
      },
      "source": [
        "df11 = df11.withColumn('Timestamp_values',from_unixtime('timestamps_int'))\n",
        "df11.show()"
      ],
      "execution_count": 0,
      "outputs": [
        {
          "output_type": "stream",
          "text": [
            "+--------------+-------------------+\n",
            "|timestamps_int|   Timestamp_values|\n",
            "+--------------+-------------------+\n",
            "|    2028476499|2034-04-12 17:41:39|\n",
            "|    1728476470|2024-10-09 12:21:10|\n",
            "|    3223446490|2072-02-23 09:48:10|\n",
            "|    1284964980|2010-09-20 06:43:00|\n",
            "+--------------+-------------------+\n",
            "\n"
          ],
          "name": "stdout"
        }
      ]
    },
    {
      "cell_type": "markdown",
      "metadata": {
        "id": "u7D5fEpC1cV-",
        "colab_type": "text"
      },
      "source": [
        "Converting a particular date to unix time stamps and retrieving back the original dates and times"
      ]
    },
    {
      "cell_type": "code",
      "metadata": {
        "id": "bRo8HDRa0UQx",
        "colab_type": "code",
        "outputId": "7b79b39b-cbe6-4cd2-b25b-35a7c0535f6a",
        "colab": {
          "base_uri": "https://localhost:8080/",
          "height": 435
        }
      },
      "source": [
        "df = df.withColumn('unix_time_stamps',unix_timestamp('date2_date_type'))\n",
        "df.select('unix_time_stamps','date2_date_type').show(5)\n",
        "print('We can convert the unix time stamp values to date and times in following ways')\n",
        "df = df.withColumn('Timestamp_values',to_timestamp('unix_time_stamps'))\n",
        "df.select('unix_time_stamps','Timestamp_values','date2_date_type').show(5)"
      ],
      "execution_count": 0,
      "outputs": [
        {
          "output_type": "stream",
          "text": [
            "+----------------+---------------+\n",
            "|unix_time_stamps|date2_date_type|\n",
            "+----------------+---------------+\n",
            "|      2150150400|     2038-02-19|\n",
            "|      2185056000|     2039-03-30|\n",
            "|      2067984000|     2035-07-14|\n",
            "|      2046038400|     2034-11-02|\n",
            "|      2126822400|     2037-05-25|\n",
            "+----------------+---------------+\n",
            "only showing top 5 rows\n",
            "\n",
            "We can convert the unix time stamp values to date and times in following ways\n",
            "+----------------+-------------------+---------------+\n",
            "|unix_time_stamps|   Timestamp_values|date2_date_type|\n",
            "+----------------+-------------------+---------------+\n",
            "|      2150150400|2038-02-19 00:00:00|     2038-02-19|\n",
            "|      2185056000|2039-03-30 00:00:00|     2039-03-30|\n",
            "|      2067984000|2035-07-14 00:00:00|     2035-07-14|\n",
            "|      2046038400|2034-11-02 00:00:00|     2034-11-02|\n",
            "|      2126822400|2037-05-25 00:00:00|     2037-05-25|\n",
            "+----------------+-------------------+---------------+\n",
            "only showing top 5 rows\n",
            "\n"
          ],
          "name": "stdout"
        }
      ]
    },
    {
      "cell_type": "markdown",
      "metadata": {
        "id": "4WI8aak22yLw",
        "colab_type": "text"
      },
      "source": [
        "Extracting seconds, hours and minutes from a timestamp data. The column to use must be a timestamp column"
      ]
    },
    {
      "cell_type": "code",
      "metadata": {
        "id": "S_CK4DEn2mdR",
        "colab_type": "code",
        "outputId": "9b295e31-43d9-44b2-fe41-0a55c6f527fe",
        "colab": {
          "base_uri": "https://localhost:8080/",
          "height": 181
        }
      },
      "source": [
        "df11 = df11.withColumn('Seconds',second(df11['Timestamp_values']))\n",
        "df11 = df11.withColumn('Hours',hour(df11['Timestamp_values']))\n",
        "df11 = df11.withColumn('Minutes',minute(df11['Timestamp_values']))\n",
        "df11.show()"
      ],
      "execution_count": 0,
      "outputs": [
        {
          "output_type": "stream",
          "text": [
            "+--------------+-------------------+-------+-----+-------+\n",
            "|timestamps_int|   Timestamp_values|Seconds|Hours|Minutes|\n",
            "+--------------+-------------------+-------+-----+-------+\n",
            "|    2028476499|2034-04-12 17:41:39|     39|   17|     41|\n",
            "|    1728476470|2024-10-09 12:21:10|     10|   12|     21|\n",
            "|    3223446490|2072-02-23 09:48:10|     10|    9|     48|\n",
            "|    1284964980|2010-09-20 06:43:00|      0|    6|     43|\n",
            "+--------------+-------------------+-------+-----+-------+\n",
            "\n"
          ],
          "name": "stdout"
        }
      ]
    },
    {
      "cell_type": "code",
      "metadata": {
        "id": "etVEbVEn2t03",
        "colab_type": "code",
        "colab": {}
      },
      "source": [
        ""
      ],
      "execution_count": 0,
      "outputs": []
    }
  ]
}