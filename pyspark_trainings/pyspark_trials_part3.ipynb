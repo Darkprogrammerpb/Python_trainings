{
  "nbformat": 4,
  "nbformat_minor": 0,
  "metadata": {
    "colab": {
      "name": "pyspark_trials_part3.ipynb",
      "provenance": [],
      "collapsed_sections": []
    },
    "kernelspec": {
      "name": "python3",
      "display_name": "Python 3"
    }
  },
  "cells": [
    {
      "cell_type": "code",
      "metadata": {
        "id": "WcOhGrST3S8H",
        "colab_type": "code",
        "colab": {}
      },
      "source": [
        "########## Run this code snippet when running for the first time and don't repeat it in future (else it will keep on downloading the same stuffs again and again and\n",
        "########## result in redundant usage of memory)\n",
        "\n",
        "!apt-get install openjdk-8-jdk-headless -qq > /dev/null\n",
        "!wget -q http://apachemirror.wuchna.com/spark/spark-2.4.4/spark-2.4.4-bin-hadoop2.7.tgz\n",
        "!tar xf spark-2.4.4-bin-hadoop2.7.tgz\n",
        "!pip install -q findspark"
      ],
      "execution_count": 0,
      "outputs": []
    },
    {
      "cell_type": "code",
      "metadata": {
        "id": "lWyecSRK3e4U",
        "colab_type": "code",
        "colab": {}
      },
      "source": [
        "import os\n",
        "import findspark\n",
        "import pandas as pd\n",
        "import random\n",
        "import numpy as np\n",
        "os.environ[\"JAVA_HOME\"]   = \"/usr/lib/jvm/java-8-openjdk-amd64\"\n",
        "os.environ[\"SPARK_HOME\"]  = \"/content/spark-2.4.4-bin-hadoop2.7\"\n",
        "findspark.init(\"spark-2.4.4-bin-hadoop2.7\")# SPARK_HOME\n",
        "from pyspark.sql import SparkSession\n",
        "from pyspark.sql import *\n",
        "from pyspark.sql.functions import *\n",
        "from pyspark.sql.types import *\n",
        "spark                      = SparkSession.builder.master(\"local[*]\").getOrCreate()"
      ],
      "execution_count": 0,
      "outputs": []
    },
    {
      "cell_type": "code",
      "metadata": {
        "id": "KvOatHwC3izV",
        "colab_type": "code",
        "colab": {}
      },
      "source": [
        "pdf = pd.DataFrame(columns=['Index','Arrays'])\n",
        "pdf['Index']  = [100,101,102,103]\n",
        "pdf['Arrays'] = [[random.choice(['a','b','c','d','z','y','m','p']) for j in range(5)] for i in range(4)]"
      ],
      "execution_count": 0,
      "outputs": []
    },
    {
      "cell_type": "code",
      "metadata": {
        "id": "nYk_hw0r50Hv",
        "colab_type": "code",
        "outputId": "247dc8e5-bfd4-4a00-f4e6-22149478967c",
        "colab": {
          "base_uri": "https://localhost:8080/",
          "height": 181
        }
      },
      "source": [
        "df = spark.createDataFrame(pdf)\n",
        "df.show(truncate=False)"
      ],
      "execution_count": 0,
      "outputs": [
        {
          "output_type": "stream",
          "text": [
            "+-----+---------------+\n",
            "|Index|Arrays         |\n",
            "+-----+---------------+\n",
            "|100  |[y, p, p, d, y]|\n",
            "|101  |[d, b, y, d, m]|\n",
            "|102  |[p, b, d, z, d]|\n",
            "|103  |[a, y, d, b, y]|\n",
            "+-----+---------------+\n",
            "\n"
          ],
          "name": "stdout"
        }
      ]
    },
    {
      "cell_type": "markdown",
      "metadata": {
        "id": "iLjHKS1N7AFu",
        "colab_type": "text"
      },
      "source": [
        "**Value in array:-** To check if an array contains a particular value or not, we use 'array_contains'. Here we are checking if the array contains the letter 'a' or not."
      ]
    },
    {
      "cell_type": "code",
      "metadata": {
        "id": "T_GZ6mUX3y1x",
        "colab_type": "code",
        "outputId": "75b8876a-7f71-4bb6-c567-6a8d4736ff39",
        "colab": {
          "base_uri": "https://localhost:8080/",
          "height": 181
        }
      },
      "source": [
        "df = df.withColumn('Finding_value',array_contains(df['Arrays'], \"a\"))\n",
        "df.show()"
      ],
      "execution_count": 0,
      "outputs": [
        {
          "output_type": "stream",
          "text": [
            "+-----+---------------+-------------+\n",
            "|Index|         Arrays|Finding_value|\n",
            "+-----+---------------+-------------+\n",
            "|  100|[y, p, p, d, y]|        false|\n",
            "|  101|[d, b, y, d, m]|        false|\n",
            "|  102|[p, b, d, z, d]|        false|\n",
            "|  103|[a, y, d, b, y]|         true|\n",
            "+-----+---------------+-------------+\n",
            "\n"
          ],
          "name": "stdout"
        }
      ]
    },
    {
      "cell_type": "markdown",
      "metadata": {
        "id": "W47eHGaCLMQR",
        "colab_type": "text"
      },
      "source": [
        "**Sorting in an array:-** We can sort an array in either an ascending or descending order."
      ]
    },
    {
      "cell_type": "code",
      "metadata": {
        "id": "cALdvvon3y5I",
        "colab_type": "code",
        "outputId": "87ef0744-450f-4285-baf9-2d874f9f7508",
        "colab": {
          "base_uri": "https://localhost:8080/",
          "height": 181
        }
      },
      "source": [
        "df = df.withColumn('Sorted_array_asc',sort_array(df['Arrays'],asc=True))\n",
        "df = df.withColumn('Sorted_array+desc',sort_array(df['Arrays'],asc=False))\n",
        "df.show()"
      ],
      "execution_count": 0,
      "outputs": [
        {
          "output_type": "stream",
          "text": [
            "+-----+---------------+-------------+----------------+-----------------+\n",
            "|Index|         Arrays|Finding_value|Sorted_array_asc|Sorted_array+desc|\n",
            "+-----+---------------+-------------+----------------+-----------------+\n",
            "|  100|[y, p, p, d, y]|        false| [d, p, p, y, y]|  [y, y, p, p, d]|\n",
            "|  101|[d, b, y, d, m]|        false| [b, d, d, m, y]|  [y, m, d, d, b]|\n",
            "|  102|[p, b, d, z, d]|        false| [b, d, d, p, z]|  [z, p, d, d, b]|\n",
            "|  103|[a, y, d, b, y]|         true| [a, b, d, y, y]|  [y, y, d, b, a]|\n",
            "+-----+---------------+-------------+----------------+-----------------+\n",
            "\n"
          ],
          "name": "stdout"
        }
      ]
    },
    {
      "cell_type": "markdown",
      "metadata": {
        "id": "ezELl__DLix0",
        "colab_type": "text"
      },
      "source": [
        "**Distributing an array to rows**"
      ]
    },
    {
      "cell_type": "code",
      "metadata": {
        "id": "TtFf1TS_4nUB",
        "colab_type": "code",
        "outputId": "4a28c133-3c02-48d6-adf4-1ae9149569a5",
        "colab": {
          "base_uri": "https://localhost:8080/",
          "height": 471
        }
      },
      "source": [
        "df = df.withColumn('Explode',explode(df['Sorted_array_asc']))\n",
        "df.show()"
      ],
      "execution_count": 0,
      "outputs": [
        {
          "output_type": "stream",
          "text": [
            "+-----+---------------+-------------+----------------+-----------------+-------+\n",
            "|Index|         Arrays|Finding_value|Sorted_array_asc|Sorted_array+desc|Explode|\n",
            "+-----+---------------+-------------+----------------+-----------------+-------+\n",
            "|  100|[y, p, p, d, y]|        false| [d, p, p, y, y]|  [y, y, p, p, d]|      d|\n",
            "|  100|[y, p, p, d, y]|        false| [d, p, p, y, y]|  [y, y, p, p, d]|      p|\n",
            "|  100|[y, p, p, d, y]|        false| [d, p, p, y, y]|  [y, y, p, p, d]|      p|\n",
            "|  100|[y, p, p, d, y]|        false| [d, p, p, y, y]|  [y, y, p, p, d]|      y|\n",
            "|  100|[y, p, p, d, y]|        false| [d, p, p, y, y]|  [y, y, p, p, d]|      y|\n",
            "|  101|[d, b, y, d, m]|        false| [b, d, d, m, y]|  [y, m, d, d, b]|      b|\n",
            "|  101|[d, b, y, d, m]|        false| [b, d, d, m, y]|  [y, m, d, d, b]|      d|\n",
            "|  101|[d, b, y, d, m]|        false| [b, d, d, m, y]|  [y, m, d, d, b]|      d|\n",
            "|  101|[d, b, y, d, m]|        false| [b, d, d, m, y]|  [y, m, d, d, b]|      m|\n",
            "|  101|[d, b, y, d, m]|        false| [b, d, d, m, y]|  [y, m, d, d, b]|      y|\n",
            "|  102|[p, b, d, z, d]|        false| [b, d, d, p, z]|  [z, p, d, d, b]|      b|\n",
            "|  102|[p, b, d, z, d]|        false| [b, d, d, p, z]|  [z, p, d, d, b]|      d|\n",
            "|  102|[p, b, d, z, d]|        false| [b, d, d, p, z]|  [z, p, d, d, b]|      d|\n",
            "|  102|[p, b, d, z, d]|        false| [b, d, d, p, z]|  [z, p, d, d, b]|      p|\n",
            "|  102|[p, b, d, z, d]|        false| [b, d, d, p, z]|  [z, p, d, d, b]|      z|\n",
            "|  103|[a, y, d, b, y]|         true| [a, b, d, y, y]|  [y, y, d, b, a]|      a|\n",
            "|  103|[a, y, d, b, y]|         true| [a, b, d, y, y]|  [y, y, d, b, a]|      b|\n",
            "|  103|[a, y, d, b, y]|         true| [a, b, d, y, y]|  [y, y, d, b, a]|      d|\n",
            "|  103|[a, y, d, b, y]|         true| [a, b, d, y, y]|  [y, y, d, b, a]|      y|\n",
            "|  103|[a, y, d, b, y]|         true| [a, b, d, y, y]|  [y, y, d, b, a]|      y|\n",
            "+-----+---------------+-------------+----------------+-----------------+-------+\n",
            "\n"
          ],
          "name": "stdout"
        }
      ]
    },
    {
      "cell_type": "markdown",
      "metadata": {
        "id": "OJvLxSxRL23a",
        "colab_type": "text"
      },
      "source": [
        "**Distributing a dictionary to columns**"
      ]
    },
    {
      "cell_type": "code",
      "metadata": {
        "id": "s13JaKsm8Vus",
        "colab_type": "code",
        "outputId": "9151178e-4235-42c4-ba65-ec0becff4161",
        "colab": {
          "base_uri": "https://localhost:8080/",
          "height": 417
        }
      },
      "source": [
        "data1   = [(1,[{'aa':10},{'alpha':12}],[1,2,3]),\n",
        "           (2,[{'bb':60},{'delta':11}],[1,3,4]),\n",
        "            (3,[{'cc':40},{'beta':15}],[1,1,1]),\n",
        "            (4,[{'dd':20},{'gamma':23}],[1,4,6])]\n",
        "df11 = spark.createDataFrame(data1,(\"primary_key\",\"dictionary_column\",'array_column'))\n",
        "df11.show()\n",
        "df11=df11.select('primary_key','dictionary_column','array_column',explode_outer(df11['dictionary_column']))\n",
        "df11.show()"
      ],
      "execution_count": 0,
      "outputs": [
        {
          "output_type": "stream",
          "text": [
            "+-----------+--------------------+------------+\n",
            "|primary_key|   dictionary_column|array_column|\n",
            "+-----------+--------------------+------------+\n",
            "|          1|[[aa -> 10], [alp...|   [1, 2, 3]|\n",
            "|          2|[[bb -> 60], [del...|   [1, 3, 4]|\n",
            "|          3|[[cc -> 40], [bet...|   [1, 1, 1]|\n",
            "|          4|[[dd -> 20], [gam...|   [1, 4, 6]|\n",
            "+-----------+--------------------+------------+\n",
            "\n",
            "+-----------+--------------------+------------+-------------+\n",
            "|primary_key|   dictionary_column|array_column|          col|\n",
            "+-----------+--------------------+------------+-------------+\n",
            "|          1|[[aa -> 10], [alp...|   [1, 2, 3]|   [aa -> 10]|\n",
            "|          1|[[aa -> 10], [alp...|   [1, 2, 3]|[alpha -> 12]|\n",
            "|          2|[[bb -> 60], [del...|   [1, 3, 4]|   [bb -> 60]|\n",
            "|          2|[[bb -> 60], [del...|   [1, 3, 4]|[delta -> 11]|\n",
            "|          3|[[cc -> 40], [bet...|   [1, 1, 1]|   [cc -> 40]|\n",
            "|          3|[[cc -> 40], [bet...|   [1, 1, 1]| [beta -> 15]|\n",
            "|          4|[[dd -> 20], [gam...|   [1, 4, 6]|   [dd -> 20]|\n",
            "|          4|[[dd -> 20], [gam...|   [1, 4, 6]|[gamma -> 23]|\n",
            "+-----------+--------------------+------------+-------------+\n",
            "\n"
          ],
          "name": "stdout"
        }
      ]
    },
    {
      "cell_type": "markdown",
      "metadata": {
        "id": "wWkDPWWwL_uJ",
        "colab_type": "text"
      },
      "source": [
        "Performing explode along with getting positional values"
      ]
    },
    {
      "cell_type": "code",
      "metadata": {
        "id": "kcIU4KhyGboq",
        "colab_type": "code",
        "outputId": "6a68c3a8-6ad7-447b-c9d8-b6615c565c07",
        "colab": {
          "base_uri": "https://localhost:8080/",
          "height": 1000
        }
      },
      "source": [
        "df11.show()\n",
        "df11.select('primary_key','array_column',posexplode(df11.dictionary_column)).show()\n",
        "df11.select(\"primary_key\", \"dictionary_column\", posexplode_outer(\"array_column\")).show()"
      ],
      "execution_count": 0,
      "outputs": [
        {
          "output_type": "stream",
          "text": [
            "+-----------+--------------------+------------+-------------+\n",
            "|primary_key|   dictionary_column|array_column|          col|\n",
            "+-----------+--------------------+------------+-------------+\n",
            "|          1|[[aa -> 10], [alp...|   [1, 2, 3]|   [aa -> 10]|\n",
            "|          1|[[aa -> 10], [alp...|   [1, 2, 3]|[alpha -> 12]|\n",
            "|          2|[[bb -> 60], [del...|   [1, 3, 4]|   [bb -> 60]|\n",
            "|          2|[[bb -> 60], [del...|   [1, 3, 4]|[delta -> 11]|\n",
            "|          3|[[cc -> 40], [bet...|   [1, 1, 1]|   [cc -> 40]|\n",
            "|          3|[[cc -> 40], [bet...|   [1, 1, 1]| [beta -> 15]|\n",
            "|          4|[[dd -> 20], [gam...|   [1, 4, 6]|   [dd -> 20]|\n",
            "|          4|[[dd -> 20], [gam...|   [1, 4, 6]|[gamma -> 23]|\n",
            "+-----------+--------------------+------------+-------------+\n",
            "\n",
            "+-----------+------------+---+-------------+\n",
            "|primary_key|array_column|pos|          col|\n",
            "+-----------+------------+---+-------------+\n",
            "|          1|   [1, 2, 3]|  0|   [aa -> 10]|\n",
            "|          1|   [1, 2, 3]|  1|[alpha -> 12]|\n",
            "|          1|   [1, 2, 3]|  0|   [aa -> 10]|\n",
            "|          1|   [1, 2, 3]|  1|[alpha -> 12]|\n",
            "|          2|   [1, 3, 4]|  0|   [bb -> 60]|\n",
            "|          2|   [1, 3, 4]|  1|[delta -> 11]|\n",
            "|          2|   [1, 3, 4]|  0|   [bb -> 60]|\n",
            "|          2|   [1, 3, 4]|  1|[delta -> 11]|\n",
            "|          3|   [1, 1, 1]|  0|   [cc -> 40]|\n",
            "|          3|   [1, 1, 1]|  1| [beta -> 15]|\n",
            "|          3|   [1, 1, 1]|  0|   [cc -> 40]|\n",
            "|          3|   [1, 1, 1]|  1| [beta -> 15]|\n",
            "|          4|   [1, 4, 6]|  0|   [dd -> 20]|\n",
            "|          4|   [1, 4, 6]|  1|[gamma -> 23]|\n",
            "|          4|   [1, 4, 6]|  0|   [dd -> 20]|\n",
            "|          4|   [1, 4, 6]|  1|[gamma -> 23]|\n",
            "+-----------+------------+---+-------------+\n",
            "\n",
            "+-----------+--------------------+---+---+\n",
            "|primary_key|   dictionary_column|pos|col|\n",
            "+-----------+--------------------+---+---+\n",
            "|          1|[[aa -> 10], [alp...|  0|  1|\n",
            "|          1|[[aa -> 10], [alp...|  1|  2|\n",
            "|          1|[[aa -> 10], [alp...|  2|  3|\n",
            "|          1|[[aa -> 10], [alp...|  0|  1|\n",
            "|          1|[[aa -> 10], [alp...|  1|  2|\n",
            "|          1|[[aa -> 10], [alp...|  2|  3|\n",
            "|          2|[[bb -> 60], [del...|  0|  1|\n",
            "|          2|[[bb -> 60], [del...|  1|  3|\n",
            "|          2|[[bb -> 60], [del...|  2|  4|\n",
            "|          2|[[bb -> 60], [del...|  0|  1|\n",
            "|          2|[[bb -> 60], [del...|  1|  3|\n",
            "|          2|[[bb -> 60], [del...|  2|  4|\n",
            "|          3|[[cc -> 40], [bet...|  0|  1|\n",
            "|          3|[[cc -> 40], [bet...|  1|  1|\n",
            "|          3|[[cc -> 40], [bet...|  2|  1|\n",
            "|          3|[[cc -> 40], [bet...|  0|  1|\n",
            "|          3|[[cc -> 40], [bet...|  1|  1|\n",
            "|          3|[[cc -> 40], [bet...|  2|  1|\n",
            "|          4|[[dd -> 20], [gam...|  0|  1|\n",
            "|          4|[[dd -> 20], [gam...|  1|  4|\n",
            "+-----------+--------------------+---+---+\n",
            "only showing top 20 rows\n",
            "\n"
          ],
          "name": "stdout"
        }
      ]
    }
  ]
}