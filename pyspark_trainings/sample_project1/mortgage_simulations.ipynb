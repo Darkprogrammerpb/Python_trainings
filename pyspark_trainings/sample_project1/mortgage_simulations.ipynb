{
  "nbformat": 4,
  "nbformat_minor": 0,
  "metadata": {
    "colab": {
      "name": "mortgage_simulations.ipynb",
      "provenance": [],
      "collapsed_sections": []
    },
    "kernelspec": {
      "name": "python3",
      "display_name": "Python 3"
    }
  },
  "cells": [
    {
      "cell_type": "code",
      "metadata": {
        "id": "t_Fup3NityuP",
        "colab_type": "code",
        "colab": {}
      },
      "source": [
        "########## Run this code snippet when running for the first time and don't repeat it in future (else it will keep on downloading the same stuffs again and again and\n",
        "########## result in redundant usage of memory)\n",
        "\n",
        "!apt-get install openjdk-8-jdk-headless -qq > /dev/null\n",
        "!wget -q http://apachemirror.wuchna.com/spark/spark-2.4.4/spark-2.4.4-bin-hadoop2.7.tgz\n",
        "!tar xf spark-2.4.4-bin-hadoop2.7.tgz\n",
        "!pip install -q findspark"
      ],
      "execution_count": 0,
      "outputs": []
    },
    {
      "cell_type": "code",
      "metadata": {
        "id": "VNTbQo_CuAch",
        "colab_type": "code",
        "colab": {}
      },
      "source": [
        "import os\n",
        "import findspark\n",
        "\n",
        "os.environ[\"JAVA_HOME\"]   = \"/usr/lib/jvm/java-8-openjdk-amd64\"\n",
        "os.environ[\"SPARK_HOME\"]  = \"/content/spark-2.4.4-bin-hadoop2.7\"\n",
        "findspark.init(\"spark-2.4.4-bin-hadoop2.7\")# SPARK_HOME\n",
        "from pyspark.sql import SparkSession\n",
        "import numpy as np\n",
        "import pandas as pd\n",
        "import random\n",
        "import bisect\n",
        "from pyspark.sql.functions import *\n",
        "from pyspark.sql.types import *\n",
        "from datetime import date\n",
        "spark                      = SparkSession.builder.master(\"local[*]\").getOrCreate()"
      ],
      "execution_count": 0,
      "outputs": []
    },
    {
      "cell_type": "code",
      "metadata": {
        "id": "KAPYfCgMuAf2",
        "colab_type": "code",
        "colab": {
          "base_uri": "https://localhost:8080/",
          "height": 168
        },
        "outputId": "4ea4a405-1c4e-412d-e87a-ea43c5151d76"
      },
      "source": [
        "pathname = '/content/monte_carlo_simulations.csv'\n",
        "df = spark.read.csv(pathname,header=True,inferSchema=True)\n",
        "df.show(3)"
      ],
      "execution_count": 2,
      "outputs": [
        {
          "output_type": "stream",
          "text": [
            "+-----------+----------+--------------+---------+-------------------+\n",
            "|Account_num|Final_date|Unpaid_Balance|Note_Rate|Current_Delinquency|\n",
            "+-----------+----------+--------------+---------+-------------------+\n",
            "|       1001|26-12-2033|          5646|        5|                  0|\n",
            "|       1002|11-02-2031|          6202|        3|                  0|\n",
            "|       1003|25-04-2029|          6204|        2|                  0|\n",
            "+-----------+----------+--------------+---------+-------------------+\n",
            "only showing top 3 rows\n",
            "\n"
          ],
          "name": "stdout"
        }
      ]
    },
    {
      "cell_type": "markdown",
      "metadata": {
        "id": "vpkwSoJEykne",
        "colab_type": "text"
      },
      "source": [
        "**Step 1:-** Adding a column containing current date so that we can know from when we started calculating the EMIs for the loan given."
      ]
    },
    {
      "cell_type": "code",
      "metadata": {
        "id": "MF4ofzJRybl0",
        "colab_type": "code",
        "colab": {
          "base_uri": "https://localhost:8080/",
          "height": 151
        },
        "outputId": "8c933df1-cd9b-4940-ea98-2e772a924f19"
      },
      "source": [
        "df = df.withColumn('Current_Date',lit(str(date.today().strftime(\"%Y-%m-%d\"))))\n",
        "df.select('Account_num','Current_date').show(2)"
      ],
      "execution_count": 3,
      "outputs": [
        {
          "output_type": "stream",
          "text": [
            "+-----------+------------+\n",
            "|Account_num|Current_date|\n",
            "+-----------+------------+\n",
            "|       1001|  2020-01-13|\n",
            "|       1002|  2020-01-13|\n",
            "+-----------+------------+\n",
            "only showing top 2 rows\n",
            "\n"
          ],
          "name": "stdout"
        }
      ]
    },
    {
      "cell_type": "markdown",
      "metadata": {
        "id": "EfE8RDxvzypa",
        "colab_type": "text"
      },
      "source": [
        "**Step 2 (Loan Term):-** We now calculate the loan term of the loan which will be the difference between current date and Final date of the loan and it will be in terms of months. "
      ]
    },
    {
      "cell_type": "code",
      "metadata": {
        "id": "5De1C-_BygtT",
        "colab_type": "code",
        "colab": {
          "base_uri": "https://localhost:8080/",
          "height": 202
        },
        "outputId": "07e8166d-5dd6-4c15-b4f0-ab1a4bcdd7ff"
      },
      "source": [
        "df = df.withColumn('Months',ceil(months_between(\n",
        "                                          from_unixtime(unix_timestamp('Final_date', 'dd-mm-yyyy')),\n",
        "                                          from_unixtime(unix_timestamp('Current_Date', 'yyyy-mm-dd'))\n",
        "                                          )\n",
        "                                )\n",
        "                   )\n",
        "df.show(5)"
      ],
      "execution_count": 4,
      "outputs": [
        {
          "output_type": "stream",
          "text": [
            "+-----------+----------+--------------+---------+-------------------+------------+------+\n",
            "|Account_num|Final_date|Unpaid_Balance|Note_Rate|Current_Delinquency|Current_Date|Months|\n",
            "+-----------+----------+--------------+---------+-------------------+------------+------+\n",
            "|       1001|26-12-2033|          5646|        5|                  0|  2020-01-13|   157|\n",
            "|       1002|11-02-2031|          6202|        3|                  0|  2020-01-13|   132|\n",
            "|       1003|25-04-2029|          6204|        2|                  0|  2020-01-13|   109|\n",
            "|       1004|03-03-2025|          9736|        5|                  0|  2020-01-13|    60|\n",
            "|       1005|10-05-2025|          8299|        7|                  0|  2020-01-13|    60|\n",
            "+-----------+----------+--------------+---------+-------------------+------------+------+\n",
            "only showing top 5 rows\n",
            "\n"
          ],
          "name": "stdout"
        }
      ]
    },
    {
      "cell_type": "markdown",
      "metadata": {
        "id": "7F4ogK_r261o",
        "colab_type": "text"
      },
      "source": [
        "**Step 3:- Numerical value of Delinquency:-** We put the delinquencies to buckets as below <t> \n",
        "1.  0 ---- B1\n",
        "2.  1-99 ---- B2\n",
        "3.  100-179 --- B3\n",
        "4.  180+   ---- B4\n",
        "\n",
        "We will obviously use UDF for this purpose.\n"
      ]
    },
    {
      "cell_type": "code",
      "metadata": {
        "id": "aT211Cob3up9",
        "colab_type": "code",
        "colab": {}
      },
      "source": [
        "def bucketing(val):\n",
        "  if val==0:\n",
        "    return 'B1'\n",
        "  elif (val>=1) and (val <100):\n",
        "    return 'B2'\n",
        "  elif (val>=100) and (val<=179):\n",
        "    return 'B3'\n",
        "  else:\n",
        "    return 'B4'"
      ],
      "execution_count": 0,
      "outputs": []
    },
    {
      "cell_type": "code",
      "metadata": {
        "id": "OAtGdcVm31nY",
        "colab_type": "code",
        "colab": {}
      },
      "source": [
        "bucketudf = udf(bucketing,StringType())"
      ],
      "execution_count": 0,
      "outputs": []
    },
    {
      "cell_type": "code",
      "metadata": {
        "id": "TivKKbin38yT",
        "colab_type": "code",
        "colab": {
          "base_uri": "https://localhost:8080/",
          "height": 168
        },
        "outputId": "c817d226-5e2a-46d7-b899-df73a555b22a"
      },
      "source": [
        "df = df.withColumn('Buckets',bucketudf(df['Current_Delinquency']))\n",
        "df.show(3)"
      ],
      "execution_count": 7,
      "outputs": [
        {
          "output_type": "stream",
          "text": [
            "+-----------+----------+--------------+---------+-------------------+------------+------+-------+\n",
            "|Account_num|Final_date|Unpaid_Balance|Note_Rate|Current_Delinquency|Current_Date|Months|Buckets|\n",
            "+-----------+----------+--------------+---------+-------------------+------------+------+-------+\n",
            "|       1001|26-12-2033|          5646|        5|                  0|  2020-01-13|   157|     B1|\n",
            "|       1002|11-02-2031|          6202|        3|                  0|  2020-01-13|   132|     B1|\n",
            "|       1003|25-04-2029|          6204|        2|                  0|  2020-01-13|   109|     B1|\n",
            "+-----------+----------+--------------+---------+-------------------+------------+------+-------+\n",
            "only showing top 3 rows\n",
            "\n"
          ],
          "name": "stdout"
        }
      ]
    },
    {
      "cell_type": "markdown",
      "metadata": {
        "id": "SLLFi_yG4vZu",
        "colab_type": "text"
      },
      "source": [
        "**Step 4(Perform one step simulation):-** \n",
        "1. We assume we have the following two matrices as an input(in real life, it is computed using logistic equations and follows Begg and Gray's assumptions but we will skip them for the sake of simplicity)\n",
        "2. We simulate the next step of delinquency (one step delinquency performed) for forecasting the delinquency of the next period"
      ]
    },
    {
      "cell_type": "code",
      "metadata": {
        "id": "SCYLm1x4VQc0",
        "colab_type": "code",
        "colab": {}
      },
      "source": [
        "class Simulate(object):\n",
        "  def __init__(self):\n",
        "    '''\n",
        "      Static proability and multiplier matrices provided\n",
        "    '''\n",
        "    self.prob_matrix = np.array([\n",
        "                                [0.98,0.02,0.0,0.0],\n",
        "                                [0.0,0.70,0.30,0.0],\n",
        "                                [0.0,0.20,0.70,0.10],\n",
        "                                [0,0,0,1]\n",
        "                      ])\n",
        "    self.multiplier  = np.array([\n",
        "                                [1,0,0,0],\n",
        "                                [0,3,0,0],\n",
        "                                [0,2,3,0],\n",
        "                                [0,0,0,1]\n",
        "                      ])\n",
        "    self.buckets     = ['B1','B2','B3','B4']\n",
        "  def get_vector(self,value):\n",
        "    '''\n",
        "      Getting cumulative probability distribution vector corresponding to the current bucket\n",
        "    '''\n",
        "    return np.cumsum(dict(zip(self.buckets,[self.prob_matrix[i] for i in range(self.prob_matrix.shape[0])]))[value])\n",
        "  \n",
        "  def generate_next_bucket(self,value):\n",
        "    '''\n",
        "      Simulating next step delinquency\n",
        "    '''\n",
        "    r = random.random()\n",
        "    return self.buckets[bisect.bisect(self.get_vector(value),r)]\n",
        " "
      ],
      "execution_count": 0,
      "outputs": []
    },
    {
      "cell_type": "code",
      "metadata": {
        "id": "vhLM4JWU4mPv",
        "colab_type": "code",
        "colab": {}
      },
      "source": [
        "inst = Simulate()\n",
        "delinquency_update = udf(inst.generate_next_bucket,StringType())"
      ],
      "execution_count": 0,
      "outputs": []
    },
    {
      "cell_type": "code",
      "metadata": {
        "id": "UzIyZtNq8EVj",
        "colab_type": "code",
        "colab": {
          "base_uri": "https://localhost:8080/",
          "height": 218
        },
        "outputId": "b41b0b4e-6043-427f-b032-96bee8f18686"
      },
      "source": [
        "df = df.withColumn('Next_Delinquency',delinquency_update(df['Buckets']))\n",
        "df = df.cache() ###### This is needed because of the lazy operation nature of pyspark module\n",
        "df.show(6)"
      ],
      "execution_count": 10,
      "outputs": [
        {
          "output_type": "stream",
          "text": [
            "+-----------+----------+--------------+---------+-------------------+------------+------+-------+----------------+\n",
            "|Account_num|Final_date|Unpaid_Balance|Note_Rate|Current_Delinquency|Current_Date|Months|Buckets|Next_Delinquency|\n",
            "+-----------+----------+--------------+---------+-------------------+------------+------+-------+----------------+\n",
            "|       1001|26-12-2033|          5646|        5|                  0|  2020-01-13|   157|     B1|              B1|\n",
            "|       1002|11-02-2031|          6202|        3|                  0|  2020-01-13|   132|     B1|              B1|\n",
            "|       1003|25-04-2029|          6204|        2|                  0|  2020-01-13|   109|     B1|              B1|\n",
            "|       1004|03-03-2025|          9736|        5|                  0|  2020-01-13|    60|     B1|              B1|\n",
            "|       1005|10-05-2025|          8299|        7|                  0|  2020-01-13|    60|     B1|              B1|\n",
            "|       1006|01-06-2031|          7536|        3|                  0|  2020-01-13|   132|     B1|              B1|\n",
            "+-----------+----------+--------------+---------+-------------------+------------+------+-------+----------------+\n",
            "only showing top 6 rows\n",
            "\n"
          ],
          "name": "stdout"
        }
      ]
    },
    {
      "cell_type": "markdown",
      "metadata": {
        "id": "g5HgkWjBXbYR",
        "colab_type": "text"
      },
      "source": [
        "**Step 5 (Perform EMI reduction subject to forecasted delinquency) :-** \n",
        "1. We will compute the forecasted EMI to be paid for the next period.\n",
        "2. The default caused on any account will result in loss.\n"
      ]
    },
    {
      "cell_type": "code",
      "metadata": {
        "id": "bC-uT498WQIv",
        "colab_type": "code",
        "colab": {}
      },
      "source": [
        "class EMI_Loss_calculator(Simulate):\n",
        "  '''\n",
        "    This module is a child module of the parent module to compute EMI and loss\n",
        "  '''\n",
        "  def calculate_loss(self,loan_amount):\n",
        "    '''\n",
        "      In ideal scenario, Loss will be computed based on a lot of macro economic factors and also property value\n",
        "      We simplified the term and assumed that the loss is 10% of the loan amount at the moment. (very strict simplification)\n",
        "    '''\n",
        "    return 0.10*float(loan_amount)\n",
        "\n",
        "  def calculate_emi(self,current_dq,forecasted_dq,loan_amt,note_rate,loan_term):\n",
        "    ''' \n",
        "      We calculate The EMI and loss simultaneously\n",
        "    '''\n",
        "    current_dq_ind     = self.buckets.index(current_dq)\n",
        "    forecasted_dq_ind  = self.buckets.index(forecasted_dq)\n",
        "    if forecasted_dq !='B4' and current_dq!='B4':\n",
        "      mult               = self.multiplier[current_dq_ind,forecasted_dq_ind]\n",
        "      emi                = float(np.ppmt(note_rate/12,1,loan_term/12.0,-1*float(loan_amt)))\n",
        "      new_upb            = loan_amt-emi\n",
        "      return [new_upb,emi,0.0,0.0]\n",
        "    elif forecasted_dq=='B4' and current_dq != 'B4':\n",
        "      new_upb = loan_amt\n",
        "      return[float(loan_amt),0.0,self.calculate_loss(loan_amt),0.0]\n",
        "    else:\n",
        "      new_upb = loan_amt\n",
        "      return[float(loan_amt),0.0,self.calculate_loss(loan_amt),self.calculate_loss(loan_amt)]"
      ],
      "execution_count": 0,
      "outputs": []
    },
    {
      "cell_type": "code",
      "metadata": {
        "id": "U4JruB3rYYIn",
        "colab_type": "code",
        "colab": {}
      },
      "source": [
        "loss_calc     = EMI_Loss_calculator()\n",
        "loss_emi_calc = udf(loss_calc.calculate_emi,ArrayType(FloatType()))"
      ],
      "execution_count": 0,
      "outputs": []
    },
    {
      "cell_type": "code",
      "metadata": {
        "id": "4-D9TP-FYZMA",
        "colab_type": "code",
        "colab": {}
      },
      "source": [
        "df = df.withColumn('Combined_result',loss_emi_calc(df['Buckets'],\n",
        "                                                   df['Next_Delinquency'],\n",
        "                                                   df['Unpaid_Balance'],\n",
        "                                                   df['Note_Rate'],\n",
        "                                                   df['Months']\n",
        "                                                   ))\n",
        "df = df.cache()"
      ],
      "execution_count": 0,
      "outputs": []
    },
    {
      "cell_type": "code",
      "metadata": {
        "id": "hqTCgVoEb7oF",
        "colab_type": "code",
        "colab": {}
      },
      "source": [
        "df = df.withColumn('Future_unpaid_amt', col('Combined_result').getItem(0))\n",
        "df = df.withColumn('EMI', col('Combined_result').getItem(1))\n",
        "df = df.withColumn('Forecasted_Loss', col('Combined_result').getItem(2))\n",
        "df = df.withColumn('Previous_Loss', col('Combined_result').getItem(3))\n",
        "df = df.withColumn('New_loss',col('Forecasted_Loss')-col('Previous_Loss'))\n",
        "df = df.drop('Combined_result')\n",
        "df = df.cache()"
      ],
      "execution_count": 0,
      "outputs": []
    },
    {
      "cell_type": "code",
      "metadata": {
        "id": "wN2RJ68Tb-Fp",
        "colab_type": "code",
        "colab": {
          "base_uri": "https://localhost:8080/",
          "height": 188
        },
        "outputId": "0e680a73-8b50-494d-91ce-c216dcdbf3cb"
      },
      "source": [
        "df.show(3)"
      ],
      "execution_count": 15,
      "outputs": [
        {
          "output_type": "stream",
          "text": [
            "+-----------+----------+--------------+---------+-------------------+------------+------+-------+----------------+-----------------+---------+---------------+-------------+--------+\n",
            "|Account_num|Final_date|Unpaid_Balance|Note_Rate|Current_Delinquency|Current_Date|Months|Buckets|Next_Delinquency|Future_unpaid_amt|      EMI|Forecasted_Loss|Previous_Loss|New_loss|\n",
            "+-----------+----------+--------------+---------+-------------------+------------+------+-------+----------------+-----------------+---------+---------------+-------------+--------+\n",
            "|       1001|26-12-2033|          5646|        5|                  0|  2020-01-13|   157|     B1|              B1|        5621.0527|24.947412|            0.0|          0.0|     0.0|\n",
            "|       1002|11-02-2031|          6202|        3|                  0|  2020-01-13|   132|     B1|              B1|        6056.2974| 145.7027|            0.0|          0.0|     0.0|\n",
            "|       1003|25-04-2029|          6204|        2|                  0|  2020-01-13|   109|     B1|              B1|        5865.6514|338.34866|            0.0|          0.0|     0.0|\n",
            "+-----------+----------+--------------+---------+-------------------+------------+------+-------+----------------+-----------------+---------+---------------+-------------+--------+\n",
            "only showing top 3 rows\n",
            "\n"
          ],
          "name": "stdout"
        }
      ]
    },
    {
      "cell_type": "markdown",
      "metadata": {
        "id": "KQVzio0fftID",
        "colab_type": "text"
      },
      "source": [
        "**Final Step- Summary and results:-** \n",
        "1. We will find the aggregate unpaid balances, EMI and loss at the end and beginning of the period\n",
        "2. We will also see the movement of units from one bucket to another."
      ]
    },
    {
      "cell_type": "code",
      "metadata": {
        "id": "xeWER7tfdrX3",
        "colab_type": "code",
        "colab": {
          "base_uri": "https://localhost:8080/",
          "height": 521
        },
        "outputId": "a851b600-88c0-47c7-d698-6b205542084b"
      },
      "source": [
        "print('Distribution table Corresponding to Losses incurred while moving from one bucket to another is :- \\n')\n",
        "df.groupBy(['Buckets',\"Next_Delinquency\"]).agg({'New_loss':'sum',\n",
        "                                    'Forecasted_Loss':'sum',\n",
        "                                    'Previous_Loss':'sum'\n",
        "                                    }).show()  \n",
        "print('Distribution of Unpaid balance after next period will be :- \\n')\n",
        "df.groupBy(['Buckets',\"Next_Delinquency\"]).agg({'Unpaid_Balance':'sum',\n",
        "                                    'EMI':'sum',\n",
        "                                    'Future_unpaid_amt':'sum'}).show()"
      ],
      "execution_count": 16,
      "outputs": [
        {
          "output_type": "stream",
          "text": [
            "Distribution table Corresponding to Losses incurred while moving from one bucket to another is :- \n",
            "\n",
            "+-------+----------------+------------------+--------------------+-----------------+\n",
            "|Buckets|Next_Delinquency|sum(Previous_Loss)|sum(Forecasted_Loss)|    sum(New_loss)|\n",
            "+-------+----------------+------------------+--------------------+-----------------+\n",
            "|     B2|              B2|               0.0|                 0.0|              0.0|\n",
            "|     B4|              B4| 4590.299987792969|   4590.299987792969|              0.0|\n",
            "|     B2|              B3|               0.0|                 0.0|              0.0|\n",
            "|     B3|              B4|               0.0|   541.7000122070312|541.7000122070312|\n",
            "|     B1|              B2|               0.0|                 0.0|              0.0|\n",
            "|     B1|              B1|               0.0|                 0.0|              0.0|\n",
            "|     B3|              B2|               0.0|                 0.0|              0.0|\n",
            "|     B3|              B3|               0.0|                 0.0|              0.0|\n",
            "+-------+----------------+------------------+--------------------+-----------------+\n",
            "\n",
            "Distribution of Unpaid balance after next period will be :- \n",
            "\n",
            "+-------+----------------+------------------+----------------------+-------------------+\n",
            "|Buckets|Next_Delinquency|          sum(EMI)|sum(Future_unpaid_amt)|sum(Unpaid_Balance)|\n",
            "+-------+----------------+------------------+----------------------+-------------------+\n",
            "|     B2|              B2|63213.576394081116|    1727845.4248046875|            1791059|\n",
            "|     B4|              B4|               0.0|               45903.0|              45903|\n",
            "|     B2|              B3|29855.113914489746|       804666.88671875|             834522|\n",
            "|     B3|              B4|               0.0|                5417.0|               5417|\n",
            "|     B1|              B2| 4542.852670669556|        151588.1484375|             156131|\n",
            "|     B1|              B1|274416.87628126144|      7646390.12109375|            7920807|\n",
            "|     B3|              B2| 844.7041816711426|     34210.29541015625|              35055|\n",
            "|     B3|              B3|1357.0548448562622|         85891.9453125|              87249|\n",
            "+-------+----------------+------------------+----------------------+-------------------+\n",
            "\n"
          ],
          "name": "stdout"
        }
      ]
    },
    {
      "cell_type": "code",
      "metadata": {
        "id": "Q9mf0HPAgHtD",
        "colab_type": "code",
        "colab": {
          "base_uri": "https://localhost:8080/",
          "height": 185
        },
        "outputId": "3669c33f-7a1c-42c4-aaf2-5c9e857929d7"
      },
      "source": [
        "print('The inter bucket movement is given by :- ')\n",
        "df.crosstab('Buckets','Next_Delinquency').show()"
      ],
      "execution_count": 17,
      "outputs": [
        {
          "output_type": "stream",
          "text": [
            "The inter bucket movement is given by :- \n",
            "+------------------------+----+---+---+---+\n",
            "|Buckets_Next_Delinquency|  B1| B2| B3| B4|\n",
            "+------------------------+----+---+---+---+\n",
            "|                      B2|   0|239|111|  0|\n",
            "|                      B1|1055| 20|  0|  0|\n",
            "|                      B4|   0|  0|  0|  6|\n",
            "|                      B3|   0|  5| 12|  1|\n",
            "+------------------------+----+---+---+---+\n",
            "\n"
          ],
          "name": "stdout"
        }
      ]
    },
    {
      "cell_type": "markdown",
      "metadata": {
        "id": "oeGa1OhCok9I",
        "colab_type": "text"
      },
      "source": [
        "**Bonus Round:-**\n",
        "Compute the 39 month delinquency chain for each accounts. \n",
        "1. We will be forecasting for 39 periods (as per CCAR requirements).\n",
        "2. The simulations will be done 10 times"
      ]
    },
    {
      "cell_type": "code",
      "metadata": {
        "id": "YPb9o9fVisW3",
        "colab_type": "code",
        "colab": {}
      },
      "source": [
        "class Simulate(object):\n",
        "  def __init__(self):\n",
        "    '''\n",
        "      Static proability and multiplier matrices provided\n",
        "    '''\n",
        "    self.prob_matrix = np.array([\n",
        "                                [0.98,0.02,0.0,0.0],\n",
        "                                [0.0,0.70,0.30,0.0],\n",
        "                                [0.0,0.20,0.70,0.10],\n",
        "                                [0,0,0,1]\n",
        "                      ])\n",
        "    self.multiplier  = np.array([\n",
        "                                [1,0,0,0],\n",
        "                                [0,3,0,0],\n",
        "                                [0,2,3,0],\n",
        "                                [0,0,0,1]\n",
        "                      ])\n",
        "    self.buckets     = ['B1','B2','B3','B4']\n",
        "  def get_vector(self,value):\n",
        "    '''\n",
        "      Getting cumulative probability distribution vector corresponding to the current bucket\n",
        "    '''\n",
        "    return np.cumsum(dict(zip(self.buckets,[self.prob_matrix[i] for i in range(self.prob_matrix.shape[0])]))[value])\n",
        "  \n",
        "  def generate_next_bucket(self,value):\n",
        "    '''\n",
        "      Simulating next step delinquency\n",
        "    '''\n",
        "    r = random.random()\n",
        "    return self.buckets[bisect.bisect(self.get_vector(value),r)]\n",
        "\n",
        "  def generate_entire_path(self,value):\n",
        "    '''\n",
        "      Simulates paths with respect to :- simulations and time period\n",
        "    '''\n",
        "    \n",
        "    path_info = []\n",
        "    for sims in range(10):\n",
        "      period = 0\n",
        "      for i in range(39):\n",
        "        if i == 0:\n",
        "          previous_dq = 'NIL'\n",
        "          current_dq  = value\n",
        "        else:\n",
        "          period =period+1\n",
        "          previous_dq = current_dq\n",
        "          current_dq  = self.generate_next_bucket(previous_dq)\n",
        "        path_info.append([sims+1,period,previous_dq,current_dq])\n",
        "    return path_info\n",
        " "
      ],
      "execution_count": 0,
      "outputs": []
    },
    {
      "cell_type": "code",
      "metadata": {
        "id": "ELVvKprN0YyB",
        "colab_type": "code",
        "colab": {}
      },
      "source": [
        "def bucketing(val):\n",
        "  if val==0:\n",
        "    return 'B1'\n",
        "  elif (val>=1) and (val <100):\n",
        "    return 'B2'\n",
        "  elif (val>=100) and (val<=179):\n",
        "    return 'B3'\n",
        "  else:\n",
        "    return 'B4'\n",
        "bucketudf = udf(bucketing,StringType())"
      ],
      "execution_count": 0,
      "outputs": []
    },
    {
      "cell_type": "code",
      "metadata": {
        "id": "vZR7UQPtz6ZF",
        "colab_type": "code",
        "colab": {}
      },
      "source": [
        "pathname = '/content/monte_carlo_simulations.csv'\n",
        "df = spark.read.csv(pathname,header=True,inferSchema=True)\n",
        "df = df.withColumn('Current_Date',lit(str(date.today().strftime(\"%Y-%m-%d\"))))\n",
        "df = df.withColumn('Months',ceil(months_between(\n",
        "                                          from_unixtime(unix_timestamp('Final_date', 'dd-mm-yyyy')),\n",
        "                                          from_unixtime(unix_timestamp('Current_Date', 'yyyy-mm-dd'))\n",
        "                                          )\n",
        "                                )\n",
        "                   )\n",
        "df = df.withColumn('Buckets',bucketudf(df['Current_Delinquency']))\n",
        "df = df.cache()"
      ],
      "execution_count": 0,
      "outputs": []
    },
    {
      "cell_type": "code",
      "metadata": {
        "id": "SZcDnTfH1FB5",
        "colab_type": "code",
        "colab": {}
      },
      "source": [
        "inst = Simulate()\n",
        "path_gen = udf(inst.generate_entire_path,ArrayType(ArrayType(StringType())))"
      ],
      "execution_count": 0,
      "outputs": []
    },
    {
      "cell_type": "code",
      "metadata": {
        "id": "AKpD6gdDz6cH",
        "colab_type": "code",
        "colab": {}
      },
      "source": [
        "df = df.withColumn('Outputs',path_gen(df['Buckets']))"
      ],
      "execution_count": 0,
      "outputs": []
    },
    {
      "cell_type": "code",
      "metadata": {
        "id": "3KAhefYuz6fe",
        "colab_type": "code",
        "colab": {}
      },
      "source": [
        "df = df.withColumn('Explode',explode('outputs'))\n",
        "df = df.drop('Outputs')"
      ],
      "execution_count": 0,
      "outputs": []
    },
    {
      "cell_type": "code",
      "metadata": {
        "id": "lvEhAV4Xjr7t",
        "colab_type": "code",
        "colab": {}
      },
      "source": [
        "df=df.withColumn('Simulations', col('Explode').getItem(0))\n",
        "df=df.withColumn('Time period', col('Explode').getItem(1))\n",
        "df=df.withColumn('Old_Delinquency', col('Explode').getItem(2))\n",
        "df=df.withColumn('New_Delinquency', col('Explode').getItem(3))\n",
        "df = df.drop('Explode','Current_Delinquency','Buckets')\n",
        "df = df.cache()"
      ],
      "execution_count": 0,
      "outputs": []
    },
    {
      "cell_type": "code",
      "metadata": {
        "id": "U-HhZT9d17Ij",
        "colab_type": "code",
        "colab": {
          "base_uri": "https://localhost:8080/",
          "height": 202
        },
        "outputId": "c5c24a4c-9cf1-4044-ae51-fc7f3c563c50"
      },
      "source": [
        "df.show(5)"
      ],
      "execution_count": 25,
      "outputs": [
        {
          "output_type": "stream",
          "text": [
            "+-----------+----------+--------------+---------+------------+------+-----------+-----------+---------------+---------------+\n",
            "|Account_num|Final_date|Unpaid_Balance|Note_Rate|Current_Date|Months|Simulations|Time period|Old_Delinquency|New_Delinquency|\n",
            "+-----------+----------+--------------+---------+------------+------+-----------+-----------+---------------+---------------+\n",
            "|       1001|26-12-2033|          5646|        5|  2020-01-13|   157|          1|          0|            NIL|             B1|\n",
            "|       1001|26-12-2033|          5646|        5|  2020-01-13|   157|          1|          1|             B1|             B1|\n",
            "|       1001|26-12-2033|          5646|        5|  2020-01-13|   157|          1|          2|             B1|             B1|\n",
            "|       1001|26-12-2033|          5646|        5|  2020-01-13|   157|          1|          3|             B1|             B1|\n",
            "|       1001|26-12-2033|          5646|        5|  2020-01-13|   157|          1|          4|             B1|             B1|\n",
            "+-----------+----------+--------------+---------+------------+------+-----------+-----------+---------------+---------------+\n",
            "only showing top 5 rows\n",
            "\n"
          ],
          "name": "stdout"
        }
      ]
    },
    {
      "cell_type": "markdown",
      "metadata": {
        "id": "-SFxv2O88tnR",
        "colab_type": "text"
      },
      "source": [
        "**Performance analysis** We will be doing some performance analysis like movement from one period to another and also verify central limit theorem as more and more simulations are applied"
      ]
    },
    {
      "cell_type": "code",
      "metadata": {
        "id": "OCTulgd12vmA",
        "colab_type": "code",
        "colab": {}
      },
      "source": [
        "def calculate_crosstab(sim_num,tp):\n",
        "  return df.filter((df['Simulations']== sim_num) & (df['Time period']==tp)).crosstab('Old_Delinquency','New_Delinquency').orderBy('Old_Delinquency_New_Delinquency')"
      ],
      "execution_count": 0,
      "outputs": []
    },
    {
      "cell_type": "code",
      "metadata": {
        "id": "bkQobk8s8sD5",
        "colab_type": "code",
        "colab": {
          "base_uri": "https://localhost:8080/",
          "height": 370
        },
        "outputId": "8604b287-0875-4ae3-b871-5d9a961ac313"
      },
      "source": [
        "print('We consider simulation number 3')\n",
        "print('The movement of values from t=24 to t=25 is given as :-')\n",
        "calculate_crosstab(3,24).show()\n",
        "print('The movement of values from t=25 to t=26 is given as :-')\n",
        "calculate_crosstab(3,25).show()"
      ],
      "execution_count": 27,
      "outputs": [
        {
          "output_type": "stream",
          "text": [
            "We consider simulation number 3\n",
            "The movement of values from t=24 to t=25 is given as :-\n",
            "+-------------------------------+---+---+---+---+\n",
            "|Old_Delinquency_New_Delinquency| B1| B2| B3| B4|\n",
            "+-------------------------------+---+---+---+---+\n",
            "|                             B1|652| 12|  0|  0|\n",
            "|                             B2|  0|116| 61|  0|\n",
            "|                             B3|  0| 36|126| 16|\n",
            "|                             B4|  0|  0|  0|430|\n",
            "+-------------------------------+---+---+---+---+\n",
            "\n",
            "The movement of values from t=25 to t=26 is given as :-\n",
            "+-------------------------------+---+---+---+---+\n",
            "|Old_Delinquency_New_Delinquency| B1| B2| B3| B4|\n",
            "+-------------------------------+---+---+---+---+\n",
            "|                             B1|632| 20|  0|  0|\n",
            "|                             B2|  0|118| 46|  0|\n",
            "|                             B3|  0| 38|132| 17|\n",
            "|                             B4|  0|  0|  0|446|\n",
            "+-------------------------------+---+---+---+---+\n",
            "\n"
          ],
          "name": "stdout"
        }
      ]
    },
    {
      "cell_type": "code",
      "metadata": {
        "id": "9yx_ZHfZ3igU",
        "colab_type": "code",
        "colab": {}
      },
      "source": [
        "def check_clt(time_period_to_check):\n",
        "  for i in range(1,11,1):\n",
        "    if i ==1:\n",
        "      df1 = calculate_crosstab(i,time_period_to_check).toPandas().set_index('Old_Delinquency_New_Delinquency')\n",
        "    else:\n",
        "      df2 = calculate_crosstab(i,time_period_to_check).toPandas().set_index('Old_Delinquency_New_Delinquency')\n",
        "      df1 = df1.add(df2) \n",
        "    print('simulation ',i,' completed')\n",
        "  df1['sum']= df1.sum(axis=1)\n",
        "  return df1.loc[:,\"B1\":\"B4\"].div(df1[\"sum\"], axis=0)"
      ],
      "execution_count": 0,
      "outputs": []
    },
    {
      "cell_type": "code",
      "metadata": {
        "id": "7iWPSbRf8A7K",
        "colab_type": "code",
        "colab": {
          "base_uri": "https://localhost:8080/",
          "height": 363
        },
        "outputId": "e6d6ad49-66ed-484c-b110-06d3f709438c"
      },
      "source": [
        "check_clt(25)"
      ],
      "execution_count": 29,
      "outputs": [
        {
          "output_type": "stream",
          "text": [
            "simulation  1  completed\n",
            "simulation  2  completed\n",
            "simulation  3  completed\n",
            "simulation  4  completed\n",
            "simulation  5  completed\n",
            "simulation  6  completed\n",
            "simulation  7  completed\n",
            "simulation  8  completed\n",
            "simulation  9  completed\n",
            "simulation  10  completed\n"
          ],
          "name": "stdout"
        },
        {
          "output_type": "execute_result",
          "data": {
            "text/html": [
              "<div>\n",
              "<style scoped>\n",
              "    .dataframe tbody tr th:only-of-type {\n",
              "        vertical-align: middle;\n",
              "    }\n",
              "\n",
              "    .dataframe tbody tr th {\n",
              "        vertical-align: top;\n",
              "    }\n",
              "\n",
              "    .dataframe thead th {\n",
              "        text-align: right;\n",
              "    }\n",
              "</style>\n",
              "<table border=\"1\" class=\"dataframe\">\n",
              "  <thead>\n",
              "    <tr style=\"text-align: right;\">\n",
              "      <th></th>\n",
              "      <th>B1</th>\n",
              "      <th>B2</th>\n",
              "      <th>B3</th>\n",
              "      <th>B4</th>\n",
              "    </tr>\n",
              "    <tr>\n",
              "      <th>Old_Delinquency_New_Delinquency</th>\n",
              "      <th></th>\n",
              "      <th></th>\n",
              "      <th></th>\n",
              "      <th></th>\n",
              "    </tr>\n",
              "  </thead>\n",
              "  <tbody>\n",
              "    <tr>\n",
              "      <th>B1</th>\n",
              "      <td>0.978121</td>\n",
              "      <td>0.021879</td>\n",
              "      <td>0.000000</td>\n",
              "      <td>0.000000</td>\n",
              "    </tr>\n",
              "    <tr>\n",
              "      <th>B2</th>\n",
              "      <td>0.000000</td>\n",
              "      <td>0.721739</td>\n",
              "      <td>0.278261</td>\n",
              "      <td>0.000000</td>\n",
              "    </tr>\n",
              "    <tr>\n",
              "      <th>B3</th>\n",
              "      <td>0.000000</td>\n",
              "      <td>0.201237</td>\n",
              "      <td>0.700956</td>\n",
              "      <td>0.097808</td>\n",
              "    </tr>\n",
              "    <tr>\n",
              "      <th>B4</th>\n",
              "      <td>0.000000</td>\n",
              "      <td>0.000000</td>\n",
              "      <td>0.000000</td>\n",
              "      <td>1.000000</td>\n",
              "    </tr>\n",
              "  </tbody>\n",
              "</table>\n",
              "</div>"
            ],
            "text/plain": [
              "                                       B1        B2        B3        B4\n",
              "Old_Delinquency_New_Delinquency                                        \n",
              "B1                               0.978121  0.021879  0.000000  0.000000\n",
              "B2                               0.000000  0.721739  0.278261  0.000000\n",
              "B3                               0.000000  0.201237  0.700956  0.097808\n",
              "B4                               0.000000  0.000000  0.000000  1.000000"
            ]
          },
          "metadata": {
            "tags": []
          },
          "execution_count": 29
        }
      ]
    },
    {
      "cell_type": "code",
      "metadata": {
        "id": "YvcDDliy8hJM",
        "colab_type": "code",
        "colab": {}
      },
      "source": [
        ""
      ],
      "execution_count": 0,
      "outputs": []
    }
  ]
}